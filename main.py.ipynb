{
 "cells": [
  {
   "cell_type": "markdown",
   "metadata": {},
   "source": [
    "# 背景介绍,需求"
   ]
  },
  {
   "cell_type": "markdown",
   "metadata": {},
   "source": [
    "## 目的---我们要喜欢从数据中挖掘有用的价值,比如客户用户价值,客户分类,来帮助销售人员更好针对不同客户群体进行精准销售"
   ]
  },
  {
   "cell_type": "markdown",
   "metadata": {},
   "source": [
    "\n",
    "\n",
    "## 数据来源--我们组员公司的真实数据"
   ]
  },
  {
   "cell_type": "markdown",
   "metadata": {},
   "source": [
    "## 数据的介绍"
   ]
  },
  {
   "cell_type": "markdown",
   "metadata": {},
   "source": [
    "# 数据准备"
   ]
  },
  {
   "cell_type": "markdown",
   "metadata": {},
   "source": [
    "## 读取数据"
   ]
  },
  {
   "cell_type": "code",
   "execution_count": 49,
   "metadata": {},
   "outputs": [],
   "source": [
    "import warnings\n",
    "warnings.filterwarnings(\"ignore\")\n",
    "import datetime \n",
    "import pandas as pd"
   ]
  },
  {
   "cell_type": "code",
   "execution_count": 50,
   "metadata": {},
   "outputs": [],
   "source": [
    "df = pd.read_excel('./data/2019.xlsx')"
   ]
  },
  {
   "cell_type": "markdown",
   "metadata": {},
   "source": [
    "## 查看数据"
   ]
  },
  {
   "cell_type": "code",
   "execution_count": 51,
   "metadata": {
    "scrolled": true
   },
   "outputs": [
    {
     "data": {
      "text/html": [
       "<div>\n",
       "<style scoped>\n",
       "    .dataframe tbody tr th:only-of-type {\n",
       "        vertical-align: middle;\n",
       "    }\n",
       "\n",
       "    .dataframe tbody tr th {\n",
       "        vertical-align: top;\n",
       "    }\n",
       "\n",
       "    .dataframe thead th {\n",
       "        text-align: right;\n",
       "    }\n",
       "</style>\n",
       "<table border=\"1\" class=\"dataframe\">\n",
       "  <thead>\n",
       "    <tr style=\"text-align: right;\">\n",
       "      <th></th>\n",
       "      <th>销售团队</th>\n",
       "      <th>TEAMNAME</th>\n",
       "      <th>GCN/GHK</th>\n",
       "      <th>DOCTYP</th>\n",
       "      <th>发票日期</th>\n",
       "      <th>合同号</th>\n",
       "      <th>CUSTOMER</th>\n",
       "      <th>DISTRICT</th>\n",
       "      <th>TERRITORY</th>\n",
       "      <th>PROVINCE</th>\n",
       "      <th>...</th>\n",
       "      <th>INDDES</th>\n",
       "      <th>ITEM</th>\n",
       "      <th>QTY</th>\n",
       "      <th>不含税单价</th>\n",
       "      <th>DIV</th>\n",
       "      <th>BU</th>\n",
       "      <th>PH</th>\n",
       "      <th>SERIES</th>\n",
       "      <th>PERIOD</th>\n",
       "      <th>YR</th>\n",
       "    </tr>\n",
       "  </thead>\n",
       "  <tbody>\n",
       "    <tr>\n",
       "      <th>0</th>\n",
       "      <td>SS</td>\n",
       "      <td>Sales South</td>\n",
       "      <td>GCN</td>\n",
       "      <td>OEIN</td>\n",
       "      <td>2019-07-19</td>\n",
       "      <td>SC20192033259</td>\n",
       "      <td>1004198</td>\n",
       "      <td>SS</td>\n",
       "      <td>SOUTH</td>\n",
       "      <td>广东</td>\n",
       "      <td>...</td>\n",
       "      <td>Packaging machines</td>\n",
       "      <td>1005784</td>\n",
       "      <td>4</td>\n",
       "      <td>753.23</td>\n",
       "      <td>2</td>\n",
       "      <td>1</td>\n",
       "      <td>02010371COLMIR</td>\n",
       "      <td>COLMIR</td>\n",
       "      <td>7</td>\n",
       "      <td>2019</td>\n",
       "    </tr>\n",
       "    <tr>\n",
       "      <th>1</th>\n",
       "      <td>SS</td>\n",
       "      <td>Sales South</td>\n",
       "      <td>GCN</td>\n",
       "      <td>OEIN</td>\n",
       "      <td>2019-07-10</td>\n",
       "      <td>SC20192033260</td>\n",
       "      <td>1004198</td>\n",
       "      <td>SS</td>\n",
       "      <td>SOUTH</td>\n",
       "      <td>广东</td>\n",
       "      <td>...</td>\n",
       "      <td>Packaging machines</td>\n",
       "      <td>1005784</td>\n",
       "      <td>4</td>\n",
       "      <td>753.23</td>\n",
       "      <td>2</td>\n",
       "      <td>1</td>\n",
       "      <td>02010371COLMIR</td>\n",
       "      <td>COLMIR</td>\n",
       "      <td>7</td>\n",
       "      <td>2019</td>\n",
       "    </tr>\n",
       "  </tbody>\n",
       "</table>\n",
       "<p>2 rows × 29 columns</p>\n",
       "</div>"
      ],
      "text/plain": [
       "  销售团队     TEAMNAME GCN/GHK DOCTYP        发票日期            合同号 CUSTOMER  \\\n",
       "0   SS  Sales South     GCN   OEIN  2019-07-19  SC20192033259  1004198   \n",
       "1   SS  Sales South     GCN   OEIN  2019-07-10  SC20192033260  1004198   \n",
       "\n",
       "  DISTRICT TERRITORY PROVINCE  ...              INDDES     ITEM QTY   不含税单价  \\\n",
       "0       SS     SOUTH       广东  ...  Packaging machines  1005784   4  753.23   \n",
       "1       SS     SOUTH       广东  ...  Packaging machines  1005784   4  753.23   \n",
       "\n",
       "   DIV BU              PH  SERIES PERIOD    YR  \n",
       "0    2  1  02010371COLMIR  COLMIR      7  2019  \n",
       "1    2  1  02010371COLMIR  COLMIR      7  2019  \n",
       "\n",
       "[2 rows x 29 columns]"
      ]
     },
     "execution_count": 51,
     "metadata": {},
     "output_type": "execute_result"
    }
   ],
   "source": [
    "df.head(2)"
   ]
  },
  {
   "cell_type": "code",
   "execution_count": 52,
   "metadata": {
    "scrolled": true
   },
   "outputs": [
    {
     "name": "stdout",
     "output_type": "stream",
     "text": [
      "<class 'pandas.core.frame.DataFrame'>\n",
      "RangeIndex: 31670 entries, 0 to 31669\n",
      "Data columns (total 29 columns):\n",
      "销售团队         31670 non-null object\n",
      "TEAMNAME     31670 non-null object\n",
      "GCN/GHK      31670 non-null object\n",
      "DOCTYP       31670 non-null object\n",
      "发票日期         31670 non-null object\n",
      "合同号          31650 non-null object\n",
      "CUSTOMER     31670 non-null object\n",
      "DISTRICT     31670 non-null object\n",
      "TERRITORY    31665 non-null object\n",
      "PROVINCE     31670 non-null object\n",
      "BPCTYP       31670 non-null object\n",
      "CUSTYP       31670 non-null int64\n",
      "TYPDES       31648 non-null object\n",
      "CSC          31670 non-null object\n",
      "SI           31670 non-null int64\n",
      "SIDES        31670 non-null object\n",
      "SUBGRP       31670 non-null object\n",
      "GRPDES       31670 non-null object\n",
      "IND          31670 non-null object\n",
      "INDDES       31670 non-null object\n",
      "ITEM         31670 non-null int64\n",
      "QTY          31670 non-null int64\n",
      "不含税单价        31670 non-null float64\n",
      "DIV          31670 non-null int64\n",
      "BU           31670 non-null int64\n",
      "PH           31670 non-null object\n",
      "SERIES       31670 non-null object\n",
      "PERIOD       31670 non-null int64\n",
      "YR           31670 non-null int64\n",
      "dtypes: float64(1), int64(8), object(20)\n",
      "memory usage: 7.0+ MB\n"
     ]
    }
   ],
   "source": [
    "df.info()"
   ]
  },
  {
   "cell_type": "markdown",
   "metadata": {},
   "source": [
    "# 数据处理"
   ]
  },
  {
   "cell_type": "markdown",
   "metadata": {},
   "source": [
    "## 数据清洗--把中文字段信息转换字符串"
   ]
  },
  {
   "cell_type": "code",
   "execution_count": 53,
   "metadata": {
    "scrolled": true
   },
   "outputs": [
    {
     "data": {
      "text/plain": [
       "array(['广东', '天津', '山东', '辽宁', '江苏', '黑龙江', '吉林', '福建', '安徽', '北京', '湖南',\n",
       "       '上海', '重庆', '山西', '四川', '江西', '浙江', '湖北', '河北', '陕西', '广西', '内蒙古',\n",
       "       '云南', '宁夏', '甘肃', '河南', 'GERMANY', 'ITALY', 'TAIWAN', 'SINGAPORE',\n",
       "       'HONG KONG', '香港', '广东省', '江苏省'], dtype=object)"
      ]
     },
     "execution_count": 53,
     "metadata": {},
     "output_type": "execute_result"
    }
   ],
   "source": [
    "df.PROVINCE.unique()"
   ]
  },
  {
   "cell_type": "code",
   "execution_count": 54,
   "metadata": {},
   "outputs": [],
   "source": [
    "df = df.replace('广东省','广东').replace('江苏省','江苏').replace('HONG KONG','香港')"
   ]
  },
  {
   "cell_type": "code",
   "execution_count": 55,
   "metadata": {
    "scrolled": true
   },
   "outputs": [
    {
     "data": {
      "text/plain": [
       "array(['广东', '天津', '山东', '辽宁', '江苏', '黑龙江', '吉林', '福建', '安徽', '北京', '湖南',\n",
       "       '上海', '重庆', '山西', '四川', '江西', '浙江', '湖北', '河北', '陕西', '广西', '内蒙古',\n",
       "       '云南', '宁夏', '甘肃', '河南', 'GERMANY', 'ITALY', 'TAIWAN', 'SINGAPORE',\n",
       "       '香港'], dtype=object)"
      ]
     },
     "execution_count": 55,
     "metadata": {},
     "output_type": "execute_result"
    }
   ],
   "source": [
    "df.PROVINCE.unique()"
   ]
  },
  {
   "cell_type": "code",
   "execution_count": 56,
   "metadata": {},
   "outputs": [],
   "source": [
    "from Utilities.utility import province_to_short\n",
    "df['PROVINCE'] = df['PROVINCE'].apply(lambda x: province_to_short(x))"
   ]
  },
  {
   "cell_type": "code",
   "execution_count": 57,
   "metadata": {},
   "outputs": [
    {
     "data": {
      "text/plain": [
       "array(['GD', 'TJ', 'SD', 'LN', 'JS', 'HLJ', 'JL', 'BJ', 'HN', 'SH', 'CQ',\n",
       "       'SX', 'SC', 'JX', 'ZJ', 'HUB', 'HEB', 'XX', 'GX', 'NMG', 'YN',\n",
       "       'LX', 'GS', 'HEN', 'DE', 'IT', 'TW', 'SG', 'HK'], dtype=object)"
      ]
     },
     "execution_count": 57,
     "metadata": {},
     "output_type": "execute_result"
    }
   ],
   "source": [
    "df['PROVINCE'].unique()"
   ]
  },
  {
   "cell_type": "markdown",
   "metadata": {},
   "source": [
    "## PROVINCE/Territory地区字段分清楚,比如Germany地区被标记为EAST,而上海也标记为EAST"
   ]
  },
  {
   "cell_type": "markdown",
   "metadata": {},
   "source": [
    "## 把中文字段变成英文字段"
   ]
  },
  {
   "cell_type": "code",
   "execution_count": 58,
   "metadata": {},
   "outputs": [
    {
     "data": {
      "text/plain": [
       "Index(['销售团队', 'TEAMNAME', 'GCN/GHK', 'DOCTYP', '发票日期', '合同号', 'CUSTOMER',\n",
       "       'DISTRICT', 'TERRITORY', 'PROVINCE', 'BPCTYP', 'CUSTYP', 'TYPDES',\n",
       "       'CSC', 'SI', 'SIDES', 'SUBGRP', 'GRPDES', 'IND', 'INDDES', 'ITEM',\n",
       "       'QTY', '不含税单价', 'DIV', 'BU', 'PH', 'SERIES', 'PERIOD', 'YR'],\n",
       "      dtype='object')"
      ]
     },
     "execution_count": 58,
     "metadata": {},
     "output_type": "execute_result"
    }
   ],
   "source": [
    "df.columns"
   ]
  },
  {
   "cell_type": "code",
   "execution_count": 59,
   "metadata": {},
   "outputs": [],
   "source": [
    "df = df.rename(columns={\"销售团队\": \"Sales_TEAM\", \"发票日期\": \"Invoice_date\", \"合同号\": \"Contract_NO\",\"不含税单价\":\"price\"})"
   ]
  },
  {
   "cell_type": "code",
   "execution_count": 60,
   "metadata": {},
   "outputs": [
    {
     "data": {
      "text/html": [
       "<div>\n",
       "<style scoped>\n",
       "    .dataframe tbody tr th:only-of-type {\n",
       "        vertical-align: middle;\n",
       "    }\n",
       "\n",
       "    .dataframe tbody tr th {\n",
       "        vertical-align: top;\n",
       "    }\n",
       "\n",
       "    .dataframe thead th {\n",
       "        text-align: right;\n",
       "    }\n",
       "</style>\n",
       "<table border=\"1\" class=\"dataframe\">\n",
       "  <thead>\n",
       "    <tr style=\"text-align: right;\">\n",
       "      <th></th>\n",
       "      <th>Sales_TEAM</th>\n",
       "      <th>TEAMNAME</th>\n",
       "      <th>GCN/GHK</th>\n",
       "      <th>DOCTYP</th>\n",
       "      <th>Invoice_date</th>\n",
       "      <th>Contract_NO</th>\n",
       "      <th>CUSTOMER</th>\n",
       "      <th>DISTRICT</th>\n",
       "      <th>TERRITORY</th>\n",
       "      <th>PROVINCE</th>\n",
       "      <th>...</th>\n",
       "      <th>INDDES</th>\n",
       "      <th>ITEM</th>\n",
       "      <th>QTY</th>\n",
       "      <th>price</th>\n",
       "      <th>DIV</th>\n",
       "      <th>BU</th>\n",
       "      <th>PH</th>\n",
       "      <th>SERIES</th>\n",
       "      <th>PERIOD</th>\n",
       "      <th>YR</th>\n",
       "    </tr>\n",
       "  </thead>\n",
       "  <tbody>\n",
       "    <tr>\n",
       "      <th>0</th>\n",
       "      <td>SS</td>\n",
       "      <td>Sales South</td>\n",
       "      <td>GCN</td>\n",
       "      <td>OEIN</td>\n",
       "      <td>2019-07-19</td>\n",
       "      <td>SC20192033259</td>\n",
       "      <td>1004198</td>\n",
       "      <td>SS</td>\n",
       "      <td>SOUTH</td>\n",
       "      <td>GD</td>\n",
       "      <td>...</td>\n",
       "      <td>Packaging machines</td>\n",
       "      <td>1005784</td>\n",
       "      <td>4</td>\n",
       "      <td>753.23</td>\n",
       "      <td>2</td>\n",
       "      <td>1</td>\n",
       "      <td>02010371COLMIR</td>\n",
       "      <td>COLMIR</td>\n",
       "      <td>7</td>\n",
       "      <td>2019</td>\n",
       "    </tr>\n",
       "    <tr>\n",
       "      <th>1</th>\n",
       "      <td>SS</td>\n",
       "      <td>Sales South</td>\n",
       "      <td>GCN</td>\n",
       "      <td>OEIN</td>\n",
       "      <td>2019-07-10</td>\n",
       "      <td>SC20192033260</td>\n",
       "      <td>1004198</td>\n",
       "      <td>SS</td>\n",
       "      <td>SOUTH</td>\n",
       "      <td>GD</td>\n",
       "      <td>...</td>\n",
       "      <td>Packaging machines</td>\n",
       "      <td>1005784</td>\n",
       "      <td>4</td>\n",
       "      <td>753.23</td>\n",
       "      <td>2</td>\n",
       "      <td>1</td>\n",
       "      <td>02010371COLMIR</td>\n",
       "      <td>COLMIR</td>\n",
       "      <td>7</td>\n",
       "      <td>2019</td>\n",
       "    </tr>\n",
       "  </tbody>\n",
       "</table>\n",
       "<p>2 rows × 29 columns</p>\n",
       "</div>"
      ],
      "text/plain": [
       "  Sales_TEAM     TEAMNAME GCN/GHK DOCTYP Invoice_date    Contract_NO CUSTOMER  \\\n",
       "0         SS  Sales South     GCN   OEIN   2019-07-19  SC20192033259  1004198   \n",
       "1         SS  Sales South     GCN   OEIN   2019-07-10  SC20192033260  1004198   \n",
       "\n",
       "  DISTRICT TERRITORY PROVINCE  ...              INDDES     ITEM QTY   price  \\\n",
       "0       SS     SOUTH       GD  ...  Packaging machines  1005784   4  753.23   \n",
       "1       SS     SOUTH       GD  ...  Packaging machines  1005784   4  753.23   \n",
       "\n",
       "   DIV BU              PH  SERIES PERIOD    YR  \n",
       "0    2  1  02010371COLMIR  COLMIR      7  2019  \n",
       "1    2  1  02010371COLMIR  COLMIR      7  2019  \n",
       "\n",
       "[2 rows x 29 columns]"
      ]
     },
     "execution_count": 60,
     "metadata": {},
     "output_type": "execute_result"
    }
   ],
   "source": [
    "df.head(2)"
   ]
  },
  {
   "cell_type": "markdown",
   "metadata": {},
   "source": [
    "## 缺失值处理 - 因为数据量还是比较大,暂时dropna方法去掉"
   ]
  },
  {
   "cell_type": "code",
   "execution_count": 61,
   "metadata": {},
   "outputs": [],
   "source": [
    "df.dropna(inplace=True)"
   ]
  },
  {
   "cell_type": "markdown",
   "metadata": {},
   "source": [
    "## 单变量分析"
   ]
  },
  {
   "cell_type": "markdown",
   "metadata": {},
   "source": [
    "## 变量关联分析"
   ]
  },
  {
   "cell_type": "markdown",
   "metadata": {},
   "source": [
    "## 选择需要的字段"
   ]
  },
  {
   "cell_type": "code",
   "execution_count": 62,
   "metadata": {
    "scrolled": true
   },
   "outputs": [
    {
     "data": {
      "text/plain": [
       "Index(['Sales_TEAM', 'TEAMNAME', 'GCN/GHK', 'DOCTYP', 'Invoice_date',\n",
       "       'Contract_NO', 'CUSTOMER', 'DISTRICT', 'TERRITORY', 'PROVINCE',\n",
       "       'BPCTYP', 'CUSTYP', 'TYPDES', 'CSC', 'SI', 'SIDES', 'SUBGRP', 'GRPDES',\n",
       "       'IND', 'INDDES', 'ITEM', 'QTY', 'price', 'DIV', 'BU', 'PH', 'SERIES',\n",
       "       'PERIOD', 'YR'],\n",
       "      dtype='object')"
      ]
     },
     "execution_count": 62,
     "metadata": {},
     "output_type": "execute_result"
    }
   ],
   "source": [
    "df.columns"
   ]
  },
  {
   "cell_type": "code",
   "execution_count": 63,
   "metadata": {},
   "outputs": [],
   "source": [
    "df_new = df[['Invoice_date','CUSTOMER','PROVINCE','CUSTYP', 'TYPDES', 'ITEM', 'QTY', 'price','PERIOD']]"
   ]
  },
  {
   "cell_type": "code",
   "execution_count": 64,
   "metadata": {},
   "outputs": [
    {
     "name": "stdout",
     "output_type": "stream",
     "text": [
      "<class 'pandas.core.frame.DataFrame'>\n",
      "Int64Index: 31623 entries, 0 to 31669\n",
      "Data columns (total 9 columns):\n",
      "Invoice_date    31623 non-null object\n",
      "CUSTOMER        31623 non-null object\n",
      "PROVINCE        31623 non-null object\n",
      "CUSTYP          31623 non-null int64\n",
      "TYPDES          31623 non-null object\n",
      "ITEM            31623 non-null int64\n",
      "QTY             31623 non-null int64\n",
      "price           31623 non-null float64\n",
      "PERIOD          31623 non-null int64\n",
      "dtypes: float64(1), int64(4), object(4)\n",
      "memory usage: 2.4+ MB\n"
     ]
    }
   ],
   "source": [
    "df_new.info()"
   ]
  },
  {
   "cell_type": "markdown",
   "metadata": {},
   "source": [
    "# 特征工程"
   ]
  },
  {
   "cell_type": "markdown",
   "metadata": {},
   "source": [
    "## RFM模型定义--通过一个客户的近期购买行为、购买的总体频率以及花了多少钱3项指标来描述该客户的价值状况。"
   ]
  },
  {
   "cell_type": "code",
   "execution_count": 65,
   "metadata": {},
   "outputs": [
    {
     "name": "stdout",
     "output_type": "stream",
     "text": [
      "<class 'pandas.core.frame.DataFrame'>\n",
      "Int64Index: 31623 entries, 0 to 31669\n",
      "Data columns (total 10 columns):\n",
      "Invoice_date    31623 non-null object\n",
      "CUSTOMER        31623 non-null object\n",
      "PROVINCE        31623 non-null object\n",
      "CUSTYP          31623 non-null int64\n",
      "TYPDES          31623 non-null object\n",
      "ITEM            31623 non-null int64\n",
      "QTY             31623 non-null int64\n",
      "price           31623 non-null float64\n",
      "PERIOD          31623 non-null int64\n",
      "paytime         31623 non-null datetime64[ns]\n",
      "dtypes: datetime64[ns](1), float64(1), int64(4), object(4)\n",
      "memory usage: 2.7+ MB\n"
     ]
    }
   ],
   "source": [
    "df_new['paytime'] = pd.to_datetime(df_new['Invoice_date'].apply(lambda x:datetime.datetime.strptime(x, '%Y-%m-%d')))\n",
    "df_new.head()\n",
    "df_new.info()"
   ]
  },
  {
   "cell_type": "markdown",
   "metadata": {},
   "source": [
    "## 创建3个新的变量 (Recency,Frequency,Monetary)"
   ]
  },
  {
   "cell_type": "markdown",
   "metadata": {},
   "source": [
    "## Recency--用户最近一次下订单的时间间隔，衡量用户是否存在流失可能性"
   ]
  },
  {
   "cell_type": "code",
   "execution_count": 66,
   "metadata": {
    "scrolled": true
   },
   "outputs": [
    {
     "data": {
      "text/html": [
       "<div>\n",
       "<style scoped>\n",
       "    .dataframe tbody tr th:only-of-type {\n",
       "        vertical-align: middle;\n",
       "    }\n",
       "\n",
       "    .dataframe tbody tr th {\n",
       "        vertical-align: top;\n",
       "    }\n",
       "\n",
       "    .dataframe thead th {\n",
       "        text-align: right;\n",
       "    }\n",
       "</style>\n",
       "<table border=\"1\" class=\"dataframe\">\n",
       "  <thead>\n",
       "    <tr style=\"text-align: right;\">\n",
       "      <th></th>\n",
       "      <th>CUSTOMER</th>\n",
       "      <th>recency</th>\n",
       "    </tr>\n",
       "  </thead>\n",
       "  <tbody>\n",
       "    <tr>\n",
       "      <th>0</th>\n",
       "      <td>1000022</td>\n",
       "      <td>35</td>\n",
       "    </tr>\n",
       "    <tr>\n",
       "      <th>1</th>\n",
       "      <td>1000023</td>\n",
       "      <td>43</td>\n",
       "    </tr>\n",
       "    <tr>\n",
       "      <th>2</th>\n",
       "      <td>1000025</td>\n",
       "      <td>348</td>\n",
       "    </tr>\n",
       "    <tr>\n",
       "      <th>3</th>\n",
       "      <td>1000026</td>\n",
       "      <td>6</td>\n",
       "    </tr>\n",
       "    <tr>\n",
       "      <th>4</th>\n",
       "      <td>1000033</td>\n",
       "      <td>15</td>\n",
       "    </tr>\n",
       "  </tbody>\n",
       "</table>\n",
       "</div>"
      ],
      "text/plain": [
       "  CUSTOMER  recency\n",
       "0  1000022       35\n",
       "1  1000023       43\n",
       "2  1000025      348\n",
       "3  1000026        6\n",
       "4  1000033       15"
      ]
     },
     "execution_count": 66,
     "metadata": {},
     "output_type": "execute_result"
    }
   ],
   "source": [
    "# 提取每个用户最近（最大）的购买日期\n",
    "data_r = df_new.groupby('CUSTOMER')['paytime'].max().reset_index()\n",
    "# 与当前日期相减，取得最近一次购买距当前的天数。\n",
    "data_r['recency'] = data_r['paytime'].apply(lambda x:(pd.to_datetime('2020-01-01')-x).days)\n",
    "# 两个日期相减，得到的数据类型是timedelta类型，要进行数值计算，需要提取出天数数字。\n",
    "data_r.drop('paytime',axis = 1,inplace = True)\n",
    "data_r.head()"
   ]
  },
  {
   "cell_type": "markdown",
   "metadata": {},
   "source": [
    "## Frequency--用户最近一段时间内累计消费频次，衡量用户的粘性"
   ]
  },
  {
   "cell_type": "code",
   "execution_count": 67,
   "metadata": {},
   "outputs": [],
   "source": [
    "#to do , 可以再细致一点,比如根据item进行深化分析"
   ]
  },
  {
   "cell_type": "code",
   "execution_count": 68,
   "metadata": {
    "scrolled": true
   },
   "outputs": [
    {
     "data": {
      "text/html": [
       "<div>\n",
       "<style scoped>\n",
       "    .dataframe tbody tr th:only-of-type {\n",
       "        vertical-align: middle;\n",
       "    }\n",
       "\n",
       "    .dataframe tbody tr th {\n",
       "        vertical-align: top;\n",
       "    }\n",
       "\n",
       "    .dataframe thead th {\n",
       "        text-align: right;\n",
       "    }\n",
       "</style>\n",
       "<table border=\"1\" class=\"dataframe\">\n",
       "  <thead>\n",
       "    <tr style=\"text-align: right;\">\n",
       "      <th></th>\n",
       "      <th>CUSTOMER</th>\n",
       "      <th>frequence</th>\n",
       "    </tr>\n",
       "  </thead>\n",
       "  <tbody>\n",
       "    <tr>\n",
       "      <th>0</th>\n",
       "      <td>1000022</td>\n",
       "      <td>7</td>\n",
       "    </tr>\n",
       "    <tr>\n",
       "      <th>1</th>\n",
       "      <td>1000023</td>\n",
       "      <td>6</td>\n",
       "    </tr>\n",
       "    <tr>\n",
       "      <th>2</th>\n",
       "      <td>1000025</td>\n",
       "      <td>1</td>\n",
       "    </tr>\n",
       "    <tr>\n",
       "      <th>3</th>\n",
       "      <td>1000026</td>\n",
       "      <td>25</td>\n",
       "    </tr>\n",
       "    <tr>\n",
       "      <th>4</th>\n",
       "      <td>1000033</td>\n",
       "      <td>7</td>\n",
       "    </tr>\n",
       "  </tbody>\n",
       "</table>\n",
       "</div>"
      ],
      "text/plain": [
       "  CUSTOMER  frequence\n",
       "0  1000022          7\n",
       "1  1000023          6\n",
       "2  1000025          1\n",
       "3  1000026         25\n",
       "4  1000033          7"
      ]
     },
     "execution_count": 68,
     "metadata": {},
     "output_type": "execute_result"
    }
   ],
   "source": [
    "# 分组聚合，得到每个用户发生于不同日期的购买次数\n",
    "data_f = df_new.groupby(['CUSTOMER','paytime'])['Invoice_date'].count().reset_index()\n",
    "data_f = data_f.groupby('CUSTOMER')['paytime'].count().reset_index()\n",
    "# 修改列名\n",
    "data_f.rename({'paytime':'frequence'},axis = 1,inplace = True)\n",
    "data_f.head()"
   ]
  },
  {
   "cell_type": "markdown",
   "metadata": {},
   "source": [
    "## M（Money)： 用户最近一段时间内累计消费金额，衡量用户的消费能力和忠诚度"
   ]
  },
  {
   "cell_type": "code",
   "execution_count": 69,
   "metadata": {},
   "outputs": [],
   "source": [
    "df_new['sales']=df_new[\"QTY\"]*df_new[\"price\"]"
   ]
  },
  {
   "cell_type": "code",
   "execution_count": 70,
   "metadata": {
    "scrolled": true
   },
   "outputs": [
    {
     "data": {
      "text/html": [
       "<div>\n",
       "<style scoped>\n",
       "    .dataframe tbody tr th:only-of-type {\n",
       "        vertical-align: middle;\n",
       "    }\n",
       "\n",
       "    .dataframe tbody tr th {\n",
       "        vertical-align: top;\n",
       "    }\n",
       "\n",
       "    .dataframe thead th {\n",
       "        text-align: right;\n",
       "    }\n",
       "</style>\n",
       "<table border=\"1\" class=\"dataframe\">\n",
       "  <thead>\n",
       "    <tr style=\"text-align: right;\">\n",
       "      <th></th>\n",
       "      <th>CUSTOMER</th>\n",
       "      <th>money</th>\n",
       "    </tr>\n",
       "  </thead>\n",
       "  <tbody>\n",
       "    <tr>\n",
       "      <th>0</th>\n",
       "      <td>1000022</td>\n",
       "      <td>22832.154286</td>\n",
       "    </tr>\n",
       "    <tr>\n",
       "      <th>1</th>\n",
       "      <td>1000023</td>\n",
       "      <td>80435.956667</td>\n",
       "    </tr>\n",
       "    <tr>\n",
       "      <th>2</th>\n",
       "      <td>1000025</td>\n",
       "      <td>580.000000</td>\n",
       "    </tr>\n",
       "    <tr>\n",
       "      <th>3</th>\n",
       "      <td>1000026</td>\n",
       "      <td>6817.014000</td>\n",
       "    </tr>\n",
       "    <tr>\n",
       "      <th>4</th>\n",
       "      <td>1000033</td>\n",
       "      <td>23637.768571</td>\n",
       "    </tr>\n",
       "  </tbody>\n",
       "</table>\n",
       "</div>"
      ],
      "text/plain": [
       "  CUSTOMER         money\n",
       "0  1000022  22832.154286\n",
       "1  1000023  80435.956667\n",
       "2  1000025    580.000000\n",
       "3  1000026   6817.014000\n",
       "4  1000033  23637.768571"
      ]
     },
     "execution_count": 70,
     "metadata": {},
     "output_type": "execute_result"
    }
   ],
   "source": [
    "data_m = df_new.groupby('CUSTOMER')['sales'].sum().reset_index()\n",
    "data_m['money'] = data_m['sales']/data_f['frequence']\n",
    "data_m.drop('sales',axis = 1,inplace = True)\n",
    "data_m.head()"
   ]
  },
  {
   "cell_type": "code",
   "execution_count": 71,
   "metadata": {},
   "outputs": [
    {
     "data": {
      "text/html": [
       "<div>\n",
       "<style scoped>\n",
       "    .dataframe tbody tr th:only-of-type {\n",
       "        vertical-align: middle;\n",
       "    }\n",
       "\n",
       "    .dataframe tbody tr th {\n",
       "        vertical-align: top;\n",
       "    }\n",
       "\n",
       "    .dataframe thead th {\n",
       "        text-align: right;\n",
       "    }\n",
       "</style>\n",
       "<table border=\"1\" class=\"dataframe\">\n",
       "  <thead>\n",
       "    <tr style=\"text-align: right;\">\n",
       "      <th></th>\n",
       "      <th>CUSTOMER</th>\n",
       "      <th>recency</th>\n",
       "      <th>frequence</th>\n",
       "      <th>money</th>\n",
       "    </tr>\n",
       "  </thead>\n",
       "  <tbody>\n",
       "    <tr>\n",
       "      <th>0</th>\n",
       "      <td>1000022</td>\n",
       "      <td>35</td>\n",
       "      <td>7</td>\n",
       "      <td>22832.154286</td>\n",
       "    </tr>\n",
       "    <tr>\n",
       "      <th>1</th>\n",
       "      <td>1000023</td>\n",
       "      <td>43</td>\n",
       "      <td>6</td>\n",
       "      <td>80435.956667</td>\n",
       "    </tr>\n",
       "    <tr>\n",
       "      <th>2</th>\n",
       "      <td>1000025</td>\n",
       "      <td>348</td>\n",
       "      <td>1</td>\n",
       "      <td>580.000000</td>\n",
       "    </tr>\n",
       "    <tr>\n",
       "      <th>3</th>\n",
       "      <td>1000026</td>\n",
       "      <td>6</td>\n",
       "      <td>25</td>\n",
       "      <td>6817.014000</td>\n",
       "    </tr>\n",
       "    <tr>\n",
       "      <th>4</th>\n",
       "      <td>1000033</td>\n",
       "      <td>15</td>\n",
       "      <td>7</td>\n",
       "      <td>23637.768571</td>\n",
       "    </tr>\n",
       "    <tr>\n",
       "      <th>...</th>\n",
       "      <td>...</td>\n",
       "      <td>...</td>\n",
       "      <td>...</td>\n",
       "      <td>...</td>\n",
       "    </tr>\n",
       "    <tr>\n",
       "      <th>1546</th>\n",
       "      <td>ZEA00000101R</td>\n",
       "      <td>58</td>\n",
       "      <td>1</td>\n",
       "      <td>1422.260000</td>\n",
       "    </tr>\n",
       "    <tr>\n",
       "      <th>1547</th>\n",
       "      <td>ZEA00000132R</td>\n",
       "      <td>78</td>\n",
       "      <td>9</td>\n",
       "      <td>120439.152222</td>\n",
       "    </tr>\n",
       "    <tr>\n",
       "      <th>1548</th>\n",
       "      <td>ZEA00000149R</td>\n",
       "      <td>15</td>\n",
       "      <td>66</td>\n",
       "      <td>18608.477273</td>\n",
       "    </tr>\n",
       "    <tr>\n",
       "      <th>1549</th>\n",
       "      <td>ZGA00000005R</td>\n",
       "      <td>82</td>\n",
       "      <td>6</td>\n",
       "      <td>14356.415000</td>\n",
       "    </tr>\n",
       "    <tr>\n",
       "      <th>1550</th>\n",
       "      <td>ZJA00000009R</td>\n",
       "      <td>364</td>\n",
       "      <td>1</td>\n",
       "      <td>641.210000</td>\n",
       "    </tr>\n",
       "  </tbody>\n",
       "</table>\n",
       "<p>1551 rows × 4 columns</p>\n",
       "</div>"
      ],
      "text/plain": [
       "          CUSTOMER  recency  frequence          money\n",
       "0          1000022       35          7   22832.154286\n",
       "1          1000023       43          6   80435.956667\n",
       "2          1000025      348          1     580.000000\n",
       "3          1000026        6         25    6817.014000\n",
       "4          1000033       15          7   23637.768571\n",
       "...            ...      ...        ...            ...\n",
       "1546  ZEA00000101R       58          1    1422.260000\n",
       "1547  ZEA00000132R       78          9  120439.152222\n",
       "1548  ZEA00000149R       15         66   18608.477273\n",
       "1549  ZGA00000005R       82          6   14356.415000\n",
       "1550  ZJA00000009R      364          1     641.210000\n",
       "\n",
       "[1551 rows x 4 columns]"
      ]
     },
     "execution_count": 71,
     "metadata": {},
     "output_type": "execute_result"
    }
   ],
   "source": [
    "data_rf = pd.merge(data_r,data_f,on = 'CUSTOMER',how = 'inner')\n",
    "data_rf.head()\n",
    "data_rfm = pd.merge(data_rf,data_m, on = 'CUSTOMER',how = 'inner')\n",
    "data_rfm"
   ]
  },
  {
   "cell_type": "markdown",
   "metadata": {},
   "source": [
    "## 查看数据分布特征"
   ]
  },
  {
   "cell_type": "code",
   "execution_count": 72,
   "metadata": {},
   "outputs": [
    {
     "data": {
      "text/plain": [
       "<matplotlib.axes._subplots.AxesSubplot at 0x7ff521771ed0>"
      ]
     },
     "execution_count": 72,
     "metadata": {},
     "output_type": "execute_result"
    },
    {
     "data": {
      "image/png": "[encoded data removed]",
      "text/plain": [
       "<Figure size 432x288 with 1 Axes>"
      ]
     },
     "metadata": {},
     "output_type": "display_data"
    }
   ],
   "source": [
    "import matplotlib.pyplot as plt\n",
    "import seaborn as sns\n",
    "plt.figure(figsize = (6,4))\n",
    "sns.set(style = 'darkgrid')\n",
    "sns.countplot(data_rfm['frequence'])"
   ]
  },
  {
   "cell_type": "code",
   "execution_count": 73,
   "metadata": {
    "scrolled": true
   },
   "outputs": [
    {
     "data": {
      "text/plain": [
       "Text(0.5, 1.0, 'recency distribution')"
      ]
     },
     "execution_count": 73,
     "metadata": {},
     "output_type": "execute_result"
    },
    {
     "data": {
      "image/png": "[encoded data removed]",
      "text/plain": [
       "<Figure size 432x288 with 1 Axes>"
      ]
     },
     "metadata": {},
     "output_type": "display_data"
    }
   ],
   "source": [
    "sns.distplot(data_rfm['recency'])\n",
    "plt.title('recency distribution',fontsize = 15)"
   ]
  },
  {
   "cell_type": "code",
   "execution_count": 74,
   "metadata": {},
   "outputs": [
    {
     "data": {
      "text/plain": [
       "Text(0.5, 1.0, 'money distritbution')"
      ]
     },
     "execution_count": 74,
     "metadata": {},
     "output_type": "execute_result"
    },
    {
     "data": {
      "image/png": "[encoded data removed]",
      "text/plain": [
       "<Figure size 432x288 with 1 Axes>"
      ]
     },
     "metadata": {},
     "output_type": "display_data"
    }
   ],
   "source": [
    "sns.distplot(data_rfm['money'],color = 'g')\n",
    "plt.title('money distritbution',fontsize = 15)"
   ]
  },
  {
   "cell_type": "markdown",
   "metadata": {},
   "source": [
    "## 对离散值进行one-hot处理\n"
   ]
  },
  {
   "cell_type": "code",
   "execution_count": 75,
   "metadata": {},
   "outputs": [],
   "source": [
    "df_one_hot = df_new[['CUSTOMER','PROVINCE','CUSTYP', 'TYPDES', 'ITEM','PERIOD']]"
   ]
  },
  {
   "cell_type": "code",
   "execution_count": 76,
   "metadata": {},
   "outputs": [],
   "source": [
    "df_one_hot = pd.get_dummies(df_one_hot,columns=['PROVINCE','CUSTYP', 'TYPDES', 'ITEM','PERIOD'])"
   ]
  },
  {
   "cell_type": "code",
   "execution_count": 77,
   "metadata": {
    "scrolled": true
   },
   "outputs": [
    {
     "data": {
      "text/html": [
       "<div>\n",
       "<style scoped>\n",
       "    .dataframe tbody tr th:only-of-type {\n",
       "        vertical-align: middle;\n",
       "    }\n",
       "\n",
       "    .dataframe tbody tr th {\n",
       "        vertical-align: top;\n",
       "    }\n",
       "\n",
       "    .dataframe thead th {\n",
       "        text-align: right;\n",
       "    }\n",
       "</style>\n",
       "<table border=\"1\" class=\"dataframe\">\n",
       "  <thead>\n",
       "    <tr style=\"text-align: right;\">\n",
       "      <th></th>\n",
       "      <th>CUSTOMER</th>\n",
       "      <th>recency</th>\n",
       "      <th>frequence</th>\n",
       "      <th>money</th>\n",
       "      <th>PROVINCE_BJ</th>\n",
       "      <th>PROVINCE_CQ</th>\n",
       "      <th>PROVINCE_DE</th>\n",
       "      <th>PROVINCE_GD</th>\n",
       "      <th>PROVINCE_GS</th>\n",
       "      <th>PROVINCE_GX</th>\n",
       "      <th>...</th>\n",
       "      <th>PERIOD_3</th>\n",
       "      <th>PERIOD_4</th>\n",
       "      <th>PERIOD_5</th>\n",
       "      <th>PERIOD_6</th>\n",
       "      <th>PERIOD_7</th>\n",
       "      <th>PERIOD_8</th>\n",
       "      <th>PERIOD_9</th>\n",
       "      <th>PERIOD_10</th>\n",
       "      <th>PERIOD_11</th>\n",
       "      <th>PERIOD_12</th>\n",
       "    </tr>\n",
       "  </thead>\n",
       "  <tbody>\n",
       "    <tr>\n",
       "      <th>0</th>\n",
       "      <td>1000022</td>\n",
       "      <td>35</td>\n",
       "      <td>7</td>\n",
       "      <td>22832.154286</td>\n",
       "      <td>0.0</td>\n",
       "      <td>0.0</td>\n",
       "      <td>0.0</td>\n",
       "      <td>0.0</td>\n",
       "      <td>0.0</td>\n",
       "      <td>0.0</td>\n",
       "      <td>...</td>\n",
       "      <td>0.0</td>\n",
       "      <td>2.0</td>\n",
       "      <td>0.0</td>\n",
       "      <td>0.0</td>\n",
       "      <td>4.0</td>\n",
       "      <td>2.0</td>\n",
       "      <td>0.0</td>\n",
       "      <td>2.0</td>\n",
       "      <td>11.0</td>\n",
       "      <td>0.0</td>\n",
       "    </tr>\n",
       "    <tr>\n",
       "      <th>1</th>\n",
       "      <td>1000023</td>\n",
       "      <td>43</td>\n",
       "      <td>6</td>\n",
       "      <td>80435.956667</td>\n",
       "      <td>0.0</td>\n",
       "      <td>0.0</td>\n",
       "      <td>0.0</td>\n",
       "      <td>27.0</td>\n",
       "      <td>0.0</td>\n",
       "      <td>0.0</td>\n",
       "      <td>...</td>\n",
       "      <td>0.0</td>\n",
       "      <td>3.0</td>\n",
       "      <td>0.0</td>\n",
       "      <td>0.0</td>\n",
       "      <td>7.0</td>\n",
       "      <td>0.0</td>\n",
       "      <td>5.0</td>\n",
       "      <td>0.0</td>\n",
       "      <td>12.0</td>\n",
       "      <td>0.0</td>\n",
       "    </tr>\n",
       "    <tr>\n",
       "      <th>2</th>\n",
       "      <td>1000025</td>\n",
       "      <td>348</td>\n",
       "      <td>1</td>\n",
       "      <td>580.000000</td>\n",
       "      <td>0.0</td>\n",
       "      <td>0.0</td>\n",
       "      <td>0.0</td>\n",
       "      <td>1.0</td>\n",
       "      <td>0.0</td>\n",
       "      <td>0.0</td>\n",
       "      <td>...</td>\n",
       "      <td>0.0</td>\n",
       "      <td>0.0</td>\n",
       "      <td>0.0</td>\n",
       "      <td>0.0</td>\n",
       "      <td>0.0</td>\n",
       "      <td>0.0</td>\n",
       "      <td>0.0</td>\n",
       "      <td>0.0</td>\n",
       "      <td>0.0</td>\n",
       "      <td>0.0</td>\n",
       "    </tr>\n",
       "    <tr>\n",
       "      <th>3</th>\n",
       "      <td>1000026</td>\n",
       "      <td>6</td>\n",
       "      <td>25</td>\n",
       "      <td>6817.014000</td>\n",
       "      <td>0.0</td>\n",
       "      <td>0.0</td>\n",
       "      <td>0.0</td>\n",
       "      <td>0.0</td>\n",
       "      <td>0.0</td>\n",
       "      <td>0.0</td>\n",
       "      <td>...</td>\n",
       "      <td>6.0</td>\n",
       "      <td>13.0</td>\n",
       "      <td>1.0</td>\n",
       "      <td>2.0</td>\n",
       "      <td>6.0</td>\n",
       "      <td>3.0</td>\n",
       "      <td>13.0</td>\n",
       "      <td>0.0</td>\n",
       "      <td>4.0</td>\n",
       "      <td>3.0</td>\n",
       "    </tr>\n",
       "    <tr>\n",
       "      <th>4</th>\n",
       "      <td>1000033</td>\n",
       "      <td>15</td>\n",
       "      <td>7</td>\n",
       "      <td>23637.768571</td>\n",
       "      <td>0.0</td>\n",
       "      <td>0.0</td>\n",
       "      <td>0.0</td>\n",
       "      <td>0.0</td>\n",
       "      <td>0.0</td>\n",
       "      <td>0.0</td>\n",
       "      <td>...</td>\n",
       "      <td>0.0</td>\n",
       "      <td>0.0</td>\n",
       "      <td>3.0</td>\n",
       "      <td>2.0</td>\n",
       "      <td>1.0</td>\n",
       "      <td>0.0</td>\n",
       "      <td>5.0</td>\n",
       "      <td>0.0</td>\n",
       "      <td>1.0</td>\n",
       "      <td>1.0</td>\n",
       "    </tr>\n",
       "    <tr>\n",
       "      <th>...</th>\n",
       "      <td>...</td>\n",
       "      <td>...</td>\n",
       "      <td>...</td>\n",
       "      <td>...</td>\n",
       "      <td>...</td>\n",
       "      <td>...</td>\n",
       "      <td>...</td>\n",
       "      <td>...</td>\n",
       "      <td>...</td>\n",
       "      <td>...</td>\n",
       "      <td>...</td>\n",
       "      <td>...</td>\n",
       "      <td>...</td>\n",
       "      <td>...</td>\n",
       "      <td>...</td>\n",
       "      <td>...</td>\n",
       "      <td>...</td>\n",
       "      <td>...</td>\n",
       "      <td>...</td>\n",
       "      <td>...</td>\n",
       "      <td>...</td>\n",
       "    </tr>\n",
       "    <tr>\n",
       "      <th>1546</th>\n",
       "      <td>ZEA00000101R</td>\n",
       "      <td>58</td>\n",
       "      <td>1</td>\n",
       "      <td>1422.260000</td>\n",
       "      <td>0.0</td>\n",
       "      <td>0.0</td>\n",
       "      <td>0.0</td>\n",
       "      <td>0.0</td>\n",
       "      <td>0.0</td>\n",
       "      <td>0.0</td>\n",
       "      <td>...</td>\n",
       "      <td>0.0</td>\n",
       "      <td>0.0</td>\n",
       "      <td>0.0</td>\n",
       "      <td>0.0</td>\n",
       "      <td>0.0</td>\n",
       "      <td>0.0</td>\n",
       "      <td>0.0</td>\n",
       "      <td>0.0</td>\n",
       "      <td>1.0</td>\n",
       "      <td>0.0</td>\n",
       "    </tr>\n",
       "    <tr>\n",
       "      <th>1547</th>\n",
       "      <td>ZEA00000132R</td>\n",
       "      <td>78</td>\n",
       "      <td>9</td>\n",
       "      <td>120439.152222</td>\n",
       "      <td>0.0</td>\n",
       "      <td>0.0</td>\n",
       "      <td>0.0</td>\n",
       "      <td>0.0</td>\n",
       "      <td>0.0</td>\n",
       "      <td>0.0</td>\n",
       "      <td>...</td>\n",
       "      <td>4.0</td>\n",
       "      <td>0.0</td>\n",
       "      <td>10.0</td>\n",
       "      <td>1.0</td>\n",
       "      <td>2.0</td>\n",
       "      <td>5.0</td>\n",
       "      <td>0.0</td>\n",
       "      <td>7.0</td>\n",
       "      <td>0.0</td>\n",
       "      <td>0.0</td>\n",
       "    </tr>\n",
       "    <tr>\n",
       "      <th>1548</th>\n",
       "      <td>ZEA00000149R</td>\n",
       "      <td>15</td>\n",
       "      <td>66</td>\n",
       "      <td>18608.477273</td>\n",
       "      <td>0.0</td>\n",
       "      <td>0.0</td>\n",
       "      <td>0.0</td>\n",
       "      <td>0.0</td>\n",
       "      <td>0.0</td>\n",
       "      <td>0.0</td>\n",
       "      <td>...</td>\n",
       "      <td>36.0</td>\n",
       "      <td>9.0</td>\n",
       "      <td>12.0</td>\n",
       "      <td>5.0</td>\n",
       "      <td>21.0</td>\n",
       "      <td>11.0</td>\n",
       "      <td>15.0</td>\n",
       "      <td>20.0</td>\n",
       "      <td>11.0</td>\n",
       "      <td>13.0</td>\n",
       "    </tr>\n",
       "    <tr>\n",
       "      <th>1549</th>\n",
       "      <td>ZGA00000005R</td>\n",
       "      <td>82</td>\n",
       "      <td>6</td>\n",
       "      <td>14356.415000</td>\n",
       "      <td>0.0</td>\n",
       "      <td>0.0</td>\n",
       "      <td>0.0</td>\n",
       "      <td>0.0</td>\n",
       "      <td>0.0</td>\n",
       "      <td>0.0</td>\n",
       "      <td>...</td>\n",
       "      <td>1.0</td>\n",
       "      <td>1.0</td>\n",
       "      <td>3.0</td>\n",
       "      <td>4.0</td>\n",
       "      <td>0.0</td>\n",
       "      <td>0.0</td>\n",
       "      <td>0.0</td>\n",
       "      <td>4.0</td>\n",
       "      <td>0.0</td>\n",
       "      <td>0.0</td>\n",
       "    </tr>\n",
       "    <tr>\n",
       "      <th>1550</th>\n",
       "      <td>ZJA00000009R</td>\n",
       "      <td>364</td>\n",
       "      <td>1</td>\n",
       "      <td>641.210000</td>\n",
       "      <td>0.0</td>\n",
       "      <td>0.0</td>\n",
       "      <td>0.0</td>\n",
       "      <td>0.0</td>\n",
       "      <td>0.0</td>\n",
       "      <td>0.0</td>\n",
       "      <td>...</td>\n",
       "      <td>0.0</td>\n",
       "      <td>0.0</td>\n",
       "      <td>0.0</td>\n",
       "      <td>0.0</td>\n",
       "      <td>0.0</td>\n",
       "      <td>0.0</td>\n",
       "      <td>0.0</td>\n",
       "      <td>0.0</td>\n",
       "      <td>0.0</td>\n",
       "      <td>0.0</td>\n",
       "    </tr>\n",
       "  </tbody>\n",
       "</table>\n",
       "<p>1551 rows × 1517 columns</p>\n",
       "</div>"
      ],
      "text/plain": [
       "          CUSTOMER  recency  frequence          money  PROVINCE_BJ  \\\n",
       "0          1000022       35          7   22832.154286          0.0   \n",
       "1          1000023       43          6   80435.956667          0.0   \n",
       "2          1000025      348          1     580.000000          0.0   \n",
       "3          1000026        6         25    6817.014000          0.0   \n",
       "4          1000033       15          7   23637.768571          0.0   \n",
       "...            ...      ...        ...            ...          ...   \n",
       "1546  ZEA00000101R       58          1    1422.260000          0.0   \n",
       "1547  ZEA00000132R       78          9  120439.152222          0.0   \n",
       "1548  ZEA00000149R       15         66   18608.477273          0.0   \n",
       "1549  ZGA00000005R       82          6   14356.415000          0.0   \n",
       "1550  ZJA00000009R      364          1     641.210000          0.0   \n",
       "\n",
       "      PROVINCE_CQ  PROVINCE_DE  PROVINCE_GD  PROVINCE_GS  PROVINCE_GX  ...  \\\n",
       "0             0.0          0.0          0.0          0.0          0.0  ...   \n",
       "1             0.0          0.0         27.0          0.0          0.0  ...   \n",
       "2             0.0          0.0          1.0          0.0          0.0  ...   \n",
       "3             0.0          0.0          0.0          0.0          0.0  ...   \n",
       "4             0.0          0.0          0.0          0.0          0.0  ...   \n",
       "...           ...          ...          ...          ...          ...  ...   \n",
       "1546          0.0          0.0          0.0          0.0          0.0  ...   \n",
       "1547          0.0          0.0          0.0          0.0          0.0  ...   \n",
       "1548          0.0          0.0          0.0          0.0          0.0  ...   \n",
       "1549          0.0          0.0          0.0          0.0          0.0  ...   \n",
       "1550          0.0          0.0          0.0          0.0          0.0  ...   \n",
       "\n",
       "      PERIOD_3  PERIOD_4  PERIOD_5  PERIOD_6  PERIOD_7  PERIOD_8  PERIOD_9  \\\n",
       "0          0.0       2.0       0.0       0.0       4.0       2.0       0.0   \n",
       "1          0.0       3.0       0.0       0.0       7.0       0.0       5.0   \n",
       "2          0.0       0.0       0.0       0.0       0.0       0.0       0.0   \n",
       "3          6.0      13.0       1.0       2.0       6.0       3.0      13.0   \n",
       "4          0.0       0.0       3.0       2.0       1.0       0.0       5.0   \n",
       "...        ...       ...       ...       ...       ...       ...       ...   \n",
       "1546       0.0       0.0       0.0       0.0       0.0       0.0       0.0   \n",
       "1547       4.0       0.0      10.0       1.0       2.0       5.0       0.0   \n",
       "1548      36.0       9.0      12.0       5.0      21.0      11.0      15.0   \n",
       "1549       1.0       1.0       3.0       4.0       0.0       0.0       0.0   \n",
       "1550       0.0       0.0       0.0       0.0       0.0       0.0       0.0   \n",
       "\n",
       "      PERIOD_10  PERIOD_11  PERIOD_12  \n",
       "0           2.0       11.0        0.0  \n",
       "1           0.0       12.0        0.0  \n",
       "2           0.0        0.0        0.0  \n",
       "3           0.0        4.0        3.0  \n",
       "4           0.0        1.0        1.0  \n",
       "...         ...        ...        ...  \n",
       "1546        0.0        1.0        0.0  \n",
       "1547        7.0        0.0        0.0  \n",
       "1548       20.0       11.0       13.0  \n",
       "1549        4.0        0.0        0.0  \n",
       "1550        0.0        0.0        0.0  \n",
       "\n",
       "[1551 rows x 1517 columns]"
      ]
     },
     "execution_count": 77,
     "metadata": {},
     "output_type": "execute_result"
    }
   ],
   "source": [
    "df_one_hot = df_one_hot.groupby(\"CUSTOMER\").sum().reset_index()\n",
    "# df_one_hot= df_one_hot/data_f['frequence']\n",
    "# data_f['frequence']\n",
    "df_all_new_features = pd.merge(data_rfm,df_one_hot, on = 'CUSTOMER',how = 'inner')\n",
    "df_all_new_features"
   ]
  },
  {
   "cell_type": "markdown",
   "metadata": {},
   "source": [
    "## 对连续性数值进行标准化比如Zscore"
   ]
  },
  {
   "cell_type": "code",
   "execution_count": 78,
   "metadata": {},
   "outputs": [
    {
     "data": {
      "text/plain": [
       "array([[0.09366391, 0.04379562, 0.01755794, ..., 0.01587302, 0.18333333,\n",
       "        0.        ],\n",
       "       [0.11570248, 0.03649635, 0.0599676 , ..., 0.        , 0.2       ,\n",
       "        0.        ],\n",
       "       [0.95592287, 0.        , 0.00117523, ..., 0.        , 0.        ,\n",
       "        0.        ],\n",
       "       ...,\n",
       "       [0.03856749, 0.47445255, 0.01444834, ..., 0.15873016, 0.18333333,\n",
       "        0.06878307],\n",
       "       [0.2231405 , 0.03649635, 0.01131784, ..., 0.03174603, 0.        ,\n",
       "        0.        ],\n",
       "       [1.        , 0.        , 0.00122029, ..., 0.        , 0.        ,\n",
       "        0.        ]])"
      ]
     },
     "execution_count": 78,
     "metadata": {},
     "output_type": "execute_result"
    }
   ],
   "source": [
    "from sklearn import preprocessing\n",
    "from sklearn.cluster import KMeans\n",
    "from sklearn import metrics\n",
    "data_rfm = df_all_new_features.copy()\n",
    "min_max_scaler = preprocessing.MinMaxScaler()\n",
    "data_rfm_s = min_max_scaler.fit_transform(df_all_new_features.iloc[:,1:])\n",
    "data_rfm_s"
   ]
  },
  {
   "cell_type": "markdown",
   "metadata": {},
   "source": [
    "# 建立模型"
   ]
  },
  {
   "cell_type": "markdown",
   "metadata": {},
   "source": [
    "## 选择合适的cluster个数"
   ]
  },
  {
   "cell_type": "code",
   "execution_count": 79,
   "metadata": {},
   "outputs": [
    {
     "name": "stdout",
     "output_type": "stream",
     "text": [
      "[53.945310032329964, 51.91411338255942, 43.860122420662506, 42.41809351790321, 43.903200284989865, 41.45611890259749, 35.27631306872337] [0.6874174740982252, 0.023052703475159846, 0.02412893839971681, 0.02483475582568969, 0.030439290966806073, 0.03556036798257376, 0.029469410075866134] [2820.3157751822914, 2735.086697054756, 2689.7579413582575, 2629.90557255941, 2555.453052180852, 2513.5979153816193, 2515.9029596219234]\n"
     ]
    },
    {
     "data": {
      "image/png": "[encoded data removed]",
      "text/plain": [
       "<Figure size 1080x432 with 3 Axes>"
      ]
     },
     "metadata": {},
     "output_type": "display_data"
    }
   ],
   "source": [
    "inertia = []\n",
    "ch_score = []\n",
    "ss_score = []\n",
    "for k in range(2,9):\n",
    "    model = KMeans(n_clusters = k, init = 'k-means++',max_iter = 500)\n",
    "    model.fit(data_rfm_s)\n",
    "    pre = model.predict(data_rfm_s)\n",
    "    ch = metrics.calinski_harabaz_score(data_rfm_s,pre) \n",
    "    ss = metrics.silhouette_score(data_rfm_s,pre)\n",
    "    inertia.append(model.inertia_)\n",
    "    ch_score.append(ch)\n",
    "    ss_score.append(ss)\n",
    "print(ch_score,ss_score,inertia)\n",
    "\n",
    "score = pd.Series([ch_score,ss_score,inertia],index = ['ch_score','ss_score','inertia'])\n",
    "aa = score.index.tolist()\n",
    "plt.figure(figsize = (15,6))\n",
    "j = 1\n",
    "for i in aa:\n",
    "    plt.subplot(1,3,j)\n",
    "    plt.plot(list(range(2,9)),score[i])\n",
    "    plt.xlabel('k numbers',fontsize = 13)\n",
    "    plt.ylabel(f'{i}value',fontsize = 13)\n",
    "    plt.title(f'{i}value chaning trend',fontsize = 15)\n",
    "    j+=1\n",
    "plt.subplots_adjust(wspace = 0.3)"
   ]
  },
  {
   "cell_type": "code",
   "execution_count": 80,
   "metadata": {},
   "outputs": [
    {
     "data": {
      "text/html": [
       "<div>\n",
       "<style scoped>\n",
       "    .dataframe tbody tr th:only-of-type {\n",
       "        vertical-align: middle;\n",
       "    }\n",
       "\n",
       "    .dataframe tbody tr th {\n",
       "        vertical-align: top;\n",
       "    }\n",
       "\n",
       "    .dataframe thead th {\n",
       "        text-align: right;\n",
       "    }\n",
       "</style>\n",
       "<table border=\"1\" class=\"dataframe\">\n",
       "  <thead>\n",
       "    <tr style=\"text-align: right;\">\n",
       "      <th></th>\n",
       "      <th>CUSTOMER</th>\n",
       "      <th>recency</th>\n",
       "      <th>frequence</th>\n",
       "      <th>money</th>\n",
       "      <th>PROVINCE_BJ</th>\n",
       "      <th>PROVINCE_CQ</th>\n",
       "      <th>PROVINCE_DE</th>\n",
       "      <th>PROVINCE_GD</th>\n",
       "      <th>PROVINCE_GS</th>\n",
       "      <th>PROVINCE_GX</th>\n",
       "      <th>...</th>\n",
       "      <th>PERIOD_4</th>\n",
       "      <th>PERIOD_5</th>\n",
       "      <th>PERIOD_6</th>\n",
       "      <th>PERIOD_7</th>\n",
       "      <th>PERIOD_8</th>\n",
       "      <th>PERIOD_9</th>\n",
       "      <th>PERIOD_10</th>\n",
       "      <th>PERIOD_11</th>\n",
       "      <th>PERIOD_12</th>\n",
       "      <th>cluster</th>\n",
       "    </tr>\n",
       "  </thead>\n",
       "  <tbody>\n",
       "    <tr>\n",
       "      <th>0</th>\n",
       "      <td>1000022</td>\n",
       "      <td>35</td>\n",
       "      <td>7</td>\n",
       "      <td>22832.154286</td>\n",
       "      <td>0.0</td>\n",
       "      <td>0.0</td>\n",
       "      <td>0.0</td>\n",
       "      <td>0.0</td>\n",
       "      <td>0.0</td>\n",
       "      <td>0.0</td>\n",
       "      <td>...</td>\n",
       "      <td>2.0</td>\n",
       "      <td>0.0</td>\n",
       "      <td>0.0</td>\n",
       "      <td>4.0</td>\n",
       "      <td>2.0</td>\n",
       "      <td>0.0</td>\n",
       "      <td>2.0</td>\n",
       "      <td>11.0</td>\n",
       "      <td>0.0</td>\n",
       "      <td>0</td>\n",
       "    </tr>\n",
       "    <tr>\n",
       "      <th>1</th>\n",
       "      <td>1000023</td>\n",
       "      <td>43</td>\n",
       "      <td>6</td>\n",
       "      <td>80435.956667</td>\n",
       "      <td>0.0</td>\n",
       "      <td>0.0</td>\n",
       "      <td>0.0</td>\n",
       "      <td>27.0</td>\n",
       "      <td>0.0</td>\n",
       "      <td>0.0</td>\n",
       "      <td>...</td>\n",
       "      <td>3.0</td>\n",
       "      <td>0.0</td>\n",
       "      <td>0.0</td>\n",
       "      <td>7.0</td>\n",
       "      <td>0.0</td>\n",
       "      <td>5.0</td>\n",
       "      <td>0.0</td>\n",
       "      <td>12.0</td>\n",
       "      <td>0.0</td>\n",
       "      <td>0</td>\n",
       "    </tr>\n",
       "    <tr>\n",
       "      <th>2</th>\n",
       "      <td>1000025</td>\n",
       "      <td>348</td>\n",
       "      <td>1</td>\n",
       "      <td>580.000000</td>\n",
       "      <td>0.0</td>\n",
       "      <td>0.0</td>\n",
       "      <td>0.0</td>\n",
       "      <td>1.0</td>\n",
       "      <td>0.0</td>\n",
       "      <td>0.0</td>\n",
       "      <td>...</td>\n",
       "      <td>0.0</td>\n",
       "      <td>0.0</td>\n",
       "      <td>0.0</td>\n",
       "      <td>0.0</td>\n",
       "      <td>0.0</td>\n",
       "      <td>0.0</td>\n",
       "      <td>0.0</td>\n",
       "      <td>0.0</td>\n",
       "      <td>0.0</td>\n",
       "      <td>1</td>\n",
       "    </tr>\n",
       "    <tr>\n",
       "      <th>3</th>\n",
       "      <td>1000026</td>\n",
       "      <td>6</td>\n",
       "      <td>25</td>\n",
       "      <td>6817.014000</td>\n",
       "      <td>0.0</td>\n",
       "      <td>0.0</td>\n",
       "      <td>0.0</td>\n",
       "      <td>0.0</td>\n",
       "      <td>0.0</td>\n",
       "      <td>0.0</td>\n",
       "      <td>...</td>\n",
       "      <td>13.0</td>\n",
       "      <td>1.0</td>\n",
       "      <td>2.0</td>\n",
       "      <td>6.0</td>\n",
       "      <td>3.0</td>\n",
       "      <td>13.0</td>\n",
       "      <td>0.0</td>\n",
       "      <td>4.0</td>\n",
       "      <td>3.0</td>\n",
       "      <td>0</td>\n",
       "    </tr>\n",
       "    <tr>\n",
       "      <th>4</th>\n",
       "      <td>1000033</td>\n",
       "      <td>15</td>\n",
       "      <td>7</td>\n",
       "      <td>23637.768571</td>\n",
       "      <td>0.0</td>\n",
       "      <td>0.0</td>\n",
       "      <td>0.0</td>\n",
       "      <td>0.0</td>\n",
       "      <td>0.0</td>\n",
       "      <td>0.0</td>\n",
       "      <td>...</td>\n",
       "      <td>0.0</td>\n",
       "      <td>3.0</td>\n",
       "      <td>2.0</td>\n",
       "      <td>1.0</td>\n",
       "      <td>0.0</td>\n",
       "      <td>5.0</td>\n",
       "      <td>0.0</td>\n",
       "      <td>1.0</td>\n",
       "      <td>1.0</td>\n",
       "      <td>0</td>\n",
       "    </tr>\n",
       "    <tr>\n",
       "      <th>...</th>\n",
       "      <td>...</td>\n",
       "      <td>...</td>\n",
       "      <td>...</td>\n",
       "      <td>...</td>\n",
       "      <td>...</td>\n",
       "      <td>...</td>\n",
       "      <td>...</td>\n",
       "      <td>...</td>\n",
       "      <td>...</td>\n",
       "      <td>...</td>\n",
       "      <td>...</td>\n",
       "      <td>...</td>\n",
       "      <td>...</td>\n",
       "      <td>...</td>\n",
       "      <td>...</td>\n",
       "      <td>...</td>\n",
       "      <td>...</td>\n",
       "      <td>...</td>\n",
       "      <td>...</td>\n",
       "      <td>...</td>\n",
       "      <td>...</td>\n",
       "    </tr>\n",
       "    <tr>\n",
       "      <th>1546</th>\n",
       "      <td>ZEA00000101R</td>\n",
       "      <td>58</td>\n",
       "      <td>1</td>\n",
       "      <td>1422.260000</td>\n",
       "      <td>0.0</td>\n",
       "      <td>0.0</td>\n",
       "      <td>0.0</td>\n",
       "      <td>0.0</td>\n",
       "      <td>0.0</td>\n",
       "      <td>0.0</td>\n",
       "      <td>...</td>\n",
       "      <td>0.0</td>\n",
       "      <td>0.0</td>\n",
       "      <td>0.0</td>\n",
       "      <td>0.0</td>\n",
       "      <td>0.0</td>\n",
       "      <td>0.0</td>\n",
       "      <td>0.0</td>\n",
       "      <td>1.0</td>\n",
       "      <td>0.0</td>\n",
       "      <td>0</td>\n",
       "    </tr>\n",
       "    <tr>\n",
       "      <th>1547</th>\n",
       "      <td>ZEA00000132R</td>\n",
       "      <td>78</td>\n",
       "      <td>9</td>\n",
       "      <td>120439.152222</td>\n",
       "      <td>0.0</td>\n",
       "      <td>0.0</td>\n",
       "      <td>0.0</td>\n",
       "      <td>0.0</td>\n",
       "      <td>0.0</td>\n",
       "      <td>0.0</td>\n",
       "      <td>...</td>\n",
       "      <td>0.0</td>\n",
       "      <td>10.0</td>\n",
       "      <td>1.0</td>\n",
       "      <td>2.0</td>\n",
       "      <td>5.0</td>\n",
       "      <td>0.0</td>\n",
       "      <td>7.0</td>\n",
       "      <td>0.0</td>\n",
       "      <td>0.0</td>\n",
       "      <td>0</td>\n",
       "    </tr>\n",
       "    <tr>\n",
       "      <th>1548</th>\n",
       "      <td>ZEA00000149R</td>\n",
       "      <td>15</td>\n",
       "      <td>66</td>\n",
       "      <td>18608.477273</td>\n",
       "      <td>0.0</td>\n",
       "      <td>0.0</td>\n",
       "      <td>0.0</td>\n",
       "      <td>0.0</td>\n",
       "      <td>0.0</td>\n",
       "      <td>0.0</td>\n",
       "      <td>...</td>\n",
       "      <td>9.0</td>\n",
       "      <td>12.0</td>\n",
       "      <td>5.0</td>\n",
       "      <td>21.0</td>\n",
       "      <td>11.0</td>\n",
       "      <td>15.0</td>\n",
       "      <td>20.0</td>\n",
       "      <td>11.0</td>\n",
       "      <td>13.0</td>\n",
       "      <td>0</td>\n",
       "    </tr>\n",
       "    <tr>\n",
       "      <th>1549</th>\n",
       "      <td>ZGA00000005R</td>\n",
       "      <td>82</td>\n",
       "      <td>6</td>\n",
       "      <td>14356.415000</td>\n",
       "      <td>0.0</td>\n",
       "      <td>0.0</td>\n",
       "      <td>0.0</td>\n",
       "      <td>0.0</td>\n",
       "      <td>0.0</td>\n",
       "      <td>0.0</td>\n",
       "      <td>...</td>\n",
       "      <td>1.0</td>\n",
       "      <td>3.0</td>\n",
       "      <td>4.0</td>\n",
       "      <td>0.0</td>\n",
       "      <td>0.0</td>\n",
       "      <td>0.0</td>\n",
       "      <td>4.0</td>\n",
       "      <td>0.0</td>\n",
       "      <td>0.0</td>\n",
       "      <td>0</td>\n",
       "    </tr>\n",
       "    <tr>\n",
       "      <th>1550</th>\n",
       "      <td>ZJA00000009R</td>\n",
       "      <td>364</td>\n",
       "      <td>1</td>\n",
       "      <td>641.210000</td>\n",
       "      <td>0.0</td>\n",
       "      <td>0.0</td>\n",
       "      <td>0.0</td>\n",
       "      <td>0.0</td>\n",
       "      <td>0.0</td>\n",
       "      <td>0.0</td>\n",
       "      <td>...</td>\n",
       "      <td>0.0</td>\n",
       "      <td>0.0</td>\n",
       "      <td>0.0</td>\n",
       "      <td>0.0</td>\n",
       "      <td>0.0</td>\n",
       "      <td>0.0</td>\n",
       "      <td>0.0</td>\n",
       "      <td>0.0</td>\n",
       "      <td>0.0</td>\n",
       "      <td>1</td>\n",
       "    </tr>\n",
       "  </tbody>\n",
       "</table>\n",
       "<p>1551 rows × 1518 columns</p>\n",
       "</div>"
      ],
      "text/plain": [
       "          CUSTOMER  recency  frequence          money  PROVINCE_BJ  \\\n",
       "0          1000022       35          7   22832.154286          0.0   \n",
       "1          1000023       43          6   80435.956667          0.0   \n",
       "2          1000025      348          1     580.000000          0.0   \n",
       "3          1000026        6         25    6817.014000          0.0   \n",
       "4          1000033       15          7   23637.768571          0.0   \n",
       "...            ...      ...        ...            ...          ...   \n",
       "1546  ZEA00000101R       58          1    1422.260000          0.0   \n",
       "1547  ZEA00000132R       78          9  120439.152222          0.0   \n",
       "1548  ZEA00000149R       15         66   18608.477273          0.0   \n",
       "1549  ZGA00000005R       82          6   14356.415000          0.0   \n",
       "1550  ZJA00000009R      364          1     641.210000          0.0   \n",
       "\n",
       "      PROVINCE_CQ  PROVINCE_DE  PROVINCE_GD  PROVINCE_GS  PROVINCE_GX  ...  \\\n",
       "0             0.0          0.0          0.0          0.0          0.0  ...   \n",
       "1             0.0          0.0         27.0          0.0          0.0  ...   \n",
       "2             0.0          0.0          1.0          0.0          0.0  ...   \n",
       "3             0.0          0.0          0.0          0.0          0.0  ...   \n",
       "4             0.0          0.0          0.0          0.0          0.0  ...   \n",
       "...           ...          ...          ...          ...          ...  ...   \n",
       "1546          0.0          0.0          0.0          0.0          0.0  ...   \n",
       "1547          0.0          0.0          0.0          0.0          0.0  ...   \n",
       "1548          0.0          0.0          0.0          0.0          0.0  ...   \n",
       "1549          0.0          0.0          0.0          0.0          0.0  ...   \n",
       "1550          0.0          0.0          0.0          0.0          0.0  ...   \n",
       "\n",
       "      PERIOD_4  PERIOD_5  PERIOD_6  PERIOD_7  PERIOD_8  PERIOD_9  PERIOD_10  \\\n",
       "0          2.0       0.0       0.0       4.0       2.0       0.0        2.0   \n",
       "1          3.0       0.0       0.0       7.0       0.0       5.0        0.0   \n",
       "2          0.0       0.0       0.0       0.0       0.0       0.0        0.0   \n",
       "3         13.0       1.0       2.0       6.0       3.0      13.0        0.0   \n",
       "4          0.0       3.0       2.0       1.0       0.0       5.0        0.0   \n",
       "...        ...       ...       ...       ...       ...       ...        ...   \n",
       "1546       0.0       0.0       0.0       0.0       0.0       0.0        0.0   \n",
       "1547       0.0      10.0       1.0       2.0       5.0       0.0        7.0   \n",
       "1548       9.0      12.0       5.0      21.0      11.0      15.0       20.0   \n",
       "1549       1.0       3.0       4.0       0.0       0.0       0.0        4.0   \n",
       "1550       0.0       0.0       0.0       0.0       0.0       0.0        0.0   \n",
       "\n",
       "      PERIOD_11  PERIOD_12  cluster  \n",
       "0          11.0        0.0        0  \n",
       "1          12.0        0.0        0  \n",
       "2           0.0        0.0        1  \n",
       "3           4.0        3.0        0  \n",
       "4           1.0        1.0        0  \n",
       "...         ...        ...      ...  \n",
       "1546        1.0        0.0        0  \n",
       "1547        0.0        0.0        0  \n",
       "1548       11.0       13.0        0  \n",
       "1549        0.0        0.0        0  \n",
       "1550        0.0        0.0        1  \n",
       "\n",
       "[1551 rows x 1518 columns]"
      ]
     },
     "execution_count": 80,
     "metadata": {},
     "output_type": "execute_result"
    }
   ],
   "source": [
    "model = KMeans(n_clusters = 3, init = 'k-means++',max_iter = 500)\n",
    "model.fit(data_rfm_s)\n",
    "ppre = model.predict(data_rfm_s)\n",
    "ppre\n",
    "ppre = pd.DataFrame(ppre)\n",
    "data = pd.concat([df_all_new_features,ppre],axis = 1)\n",
    "data.rename({0:u'cluster'},axis = 1,inplace = True)\n",
    "data"
   ]
  },
  {
   "cell_type": "code",
   "execution_count": 81,
   "metadata": {},
   "outputs": [],
   "source": [
    "customer = pd.merge(data[['CUSTOMER','cluster']],df_new, on = 'CUSTOMER',how = 'inner')"
   ]
  },
  {
   "cell_type": "markdown",
   "metadata": {},
   "source": [
    "# 基于聚类分类,使用协同过滤算法进行产品推荐给不同客户"
   ]
  },
  {
   "cell_type": "code",
   "execution_count": 82,
   "metadata": {
    "scrolled": true
   },
   "outputs": [],
   "source": [
    "cluster_0 = customer[customer[\"cluster\"]==0][['CUSTOMER','ITEM','QTY']]\n",
    "cluster_0.groupby(['CUSTOMER','ITEM']).sum().to_csv('./data/cluster_0.csv')"
   ]
  },
  {
   "cell_type": "code",
   "execution_count": 83,
   "metadata": {},
   "outputs": [
    {
     "name": "stdout",
     "output_type": "stream",
     "text": [
      "{'1000022': {'1044255': '1', '1044338': '1', '1044680': '4', '1060063': '20', '1060064': '14', '1076398': '4', '1212049': '1', '1212050': '1', '2033415': '4', '2033416': '4', '2067169': '1', '2074797': '4', '5311684': '8', '6025622': '8'}, '1000023': {'1024445': '2', '1047717': '2', '1090047': '7', '1102165': '1', '1212028': '1', '1212029': '1', '1212033': '1', '1212034': '1', '1212037': '9', '1212038': '9', '1212060': '2', '1212061': '2', '2027726': '2', '2028369': '1', '2067169': '15', '2074406': '7', '2074407': '2', '2102275': '1', '6035129': '1', '6054121': '3'}, '1000026': {'1019973': '1', '1060058': '61', '1060847': '50', '1061172': '4', '1061173': '4', '1061176': '5', '1061177': '5', '1061178': '5', '1061179': '5', '1070646': '2', '1070647': '2', '1078498': '7', '1207652': '2', '1212017': '2', '1212019': '2', '1212053': '1', '1212071': '1', '1213763': '1', '1213764': '1', '2020204': '1', '2067169': '1', '2099265': '4', '5307083': '2', '5307084': '5', '6023140': '7', '6025470': '2', '6035129': '1'}, '1000033': {'1081529': '12', '1200558': '6', '1200575': '6', '2031065': '6', '2033412': '12', '6035129': '2'}, '1000040': {'1060058': '214', '1090999': '320', '1091035': '2', '5307084': '86', '6034309': '318', '6045184': '2'}, '1000045': {'1027377': '2', '1029491': '1'}, '1000048': {'5311688': '57', '6025615': '57'}, '1000070': {'1060056': '2', '1060066': '8'}, '1000091': {'1019972': '6', '1029489': '2', '1051487': '2', '1056985': '6', '1059966': '20', '1060065': '245', '1060846': '342', '1061176': '1', '1061177': '1', '1062566': '82', '1068191': '44', '1093859': '20', '1093860': '20', '1221403': '25', '1221411': '2', '1221413': '2', '1221418': '2', '1221420': '2', '1221426': '22', '1221433': '25', '1221435': '22', '2016178': '2', '2016179': '2', '2020214': '6', '2024352': '3', '2066603': '2', '2067169': '58', '2080165': '2', '2099265': '10', '5307082': '7', '5307083': '42', '5307085': '24', '5309397': '1953', '5309718': '130', '6025612': '1512', '6025614': '183', '6027952': '42', '6035129': '4', '6054343': '35'}, '1000117': {'1046209': '2', '1212056': '2', '1212057': '2', '2020214': '1', '2047443': '2', '2047841': '2', '2067169': '2'}, '1000131': {'2016178': '6', '2016179': '6', '2016180': '6', '2034879': '26', '2034880': '40'}, '1000140': {'1212064': '1', '1212065': '1', '2067169': '2'}, '1000141': {'2034879': '1', '2039857': '1', '2039858': '1'}, '1000163': {'1050748': '2', '1056983': '54', '2033412': '2', '2034819': '50', '7083088': '1'}, '1000168': {'1073015': '38', '1073017': '1', '1078498': '40', '1085900': '6', '5309313': '4', '6025472': '4', '6025670': '4', '6027943': '6'}, '1000173': {'1207649': '4'}, '1000178': {'1213765': '12', '1213766': '12', '1216684': '4', '1216685': '4', '2067169': '16'}, '1000185': {'1061177': '2', '1099012': '3', '1099013': '20', '1099027': '14', '1099028': '3', '1099029': '29', '1099030': '33', '1099031': '4'}, '1000208': {'1060058': '2', '1221407': '1', '1221408': '2', '1221411': '9', '1221413': '4', '1221418': '9', '1221420': '4', '1221425': '1', '1221426': '3', '1221434': '1', '1221435': '3', '2067169': '18', '5311686': '1', '5311688': '6', '6025614': '1', '6025615': '6'}, '1000227': {'1085899': '2', '1085900': '18'}, '1000230': {'1027377': '228', '1044631': '1', '1044680': '1', '1058668': '10', '1062899': '2', '1085667': '16', '1085668': '16', '1085899': '129', '1086266': '1', '1099028': '19', '2033414': '228', '2069284': '2', '2077816': '2', '6035129': '7'}, '1000231': {'6035419': '1', '6035420': '1', '6035429': '1', '6035430': '1'}, '1000245': {'1044629': '23', '1044680': '97', '1047717': '26', '1059860': '26', '1060058': '62', '1085899': '2', '1085900': '2', '1212037': '1', '1212038': '1', '6025470': '6', '6025644': '11'}, '1000264': {'1061176': '2', '1061177': '2', '1061178': '6', '1061179': '6'}, '1000291': {'1024445': '3', '1212056': '1', '1212057': '1', '1216312': '1', '1216313': '1', '1216320': '1', '1216321': '1', '2027735': '8', '6035129': '2'}, '1000292': {'1213759': '3', '1213760': '3', '1213761': '1', '1213762': '1', '1213763': '2', '1213764': '2', '1213771': '1', '1213772': '1', '2066603': '18'}, '1000299': {'1076397': '1', '2027735': '2', '2039803': '3'}, '1000300': {'1019216': '1', '1019217': '1', '1051487': '1', '1212053': '1', '1212064': '1', '1212065': '1', '1212071': '1'}, '1000340': {'1044338': '1', '1060065': '1', '1061177': '1', '2020214': '4', '2027735': '18', '2067169': '25'}, '1000346': {'1059966': '15', '1060059': '2', '1063095': '12', '1085900': '13'}, '1000409': {'1044255': '2', '1044680': '4', '1060064': '59', '1061172': '18', '1061173': '18', '1061174': '28', '1061175': '27', '1061176': '9', '1061177': '7', '1061178': '5', '1061179': '5', '1062566': '10', '1221403': '1', '1221411': '3', '1221418': '3', '1221433': '1', '5307084': '17', '6026691': '3', '6027952': '15'}, '1000436': {'2016178': '10', '2016179': '10'}, '1000445': {'2016178': '5', '2016179': '5', '2034879': '3'}, '1000454': {'1018733': '1', '1019196': '1', '1019197': '1', '1024604': '1', '2027735': '2'}, '1000481': {'1024101': '1', '1056982': '1', '1200568': '2', '1200585': '2', '1212054': '8', '1212055': '8', '1212062': '13', '1212063': '13', '2016178': '2', '2016179': '2', '2016180': '2', '2027726': '1', '2031065': '2', '2033415': '1', '2034880': '2', '2039857': '1', '2067169': '16', '6035129': '1'}, '1000493': {'7083088': '1'}, '1000513': {'1019198': '88', '1019199': '88', '1019209': '1', '1024101': '130', '1026842': '5', '1027376': '1', '1029489': '34', '1046205': '2', '1048539': '1', '1048540': '1', '1053148': '4', '1060058': '2', '1104571': '1', '1200616': '3', '1200622': '3', '1212024': '2', '1212025': '2', '1212031': '1', '1212032': '1', '1212049': '1', '1212050': '1', '1212051': '1', '1212052': '1', '1212053': '1', '1212056': '60', '1212057': '60', '1212064': '57', '1212065': '57', '1212071': '1', '1213761': '2', '1213762': '2', '1215868': '12', '1215869': '12', '1216372': '70', '1216373': '70', '1220645': '27', '1220658': '27', '1220874': '4', '1220887': '4', '2016178': '169', '2016179': '4', '2016180': '2', '2020061': '4', '2020214': '88', '2024352': '163', '2027735': '5', '2047841': '7', '2066603': '256', '2067169': '110', '2077387': '66', '2077389': '24', '2084288': '2', '5307082': '3', '5307083': '2', '5307084': '33', '5307085': '2', '5307086': '1', '5309590': '2', '5309719': '18', '5311691': '3', '5311845': '2', '5321587': '3', '6021750': '1', '6025472': '8', '6025614': '2', '6025632': '2', '6030489': '40', '6035129': '5', '6035200': '1', '6035202': '1', '6035745': '3', '7083084': '1'}, '1000515': {'1027375': '1', '1060058': '12', '1060061': '6', '1062566': '5', '1068191': '2', '1221402': '1', '1221404': '1', '1221426': '11', '1221435': '11', '2067169': '13', '5311687': '525', '5311688': '4', '5311837': '4', '6025614': '525', '6025615': '4', '6050836': '20'}, '1000517': {'1019202': '1', '1019203': '1', '1041174': '4', '1078877': '3', '1078878': '3', '4031608': '14', '6035200': '1'}, '1000519': {'1016296': '1', '1017155': '2', '1018742': '1', '1060059': '10', '1060848': '10', '1073778': '1', '1077745': '3', '1085898': '10', '2027735': '15', '5307086': '2', '5311686': '5', '6025614': '5', '6055323': '5'}, '1000533': {'1056983': '4', '1070117': '2', '1085669': '10', '1085670': '10', '1085673': '1', '1085674': '1', '1212017': '2', '1212019': '2', '1212054': '10', '1212055': '10', '1213759': '1', '1213760': '1', '2020204': '17', '2034819': '4', '2066603': '24', '2067169': '1', '5309052': '1', '5311686': '170', '5330389': '68', '6023135': '1', '6025614': '209', '6035129': '1'}, '1000544': {'1027377': '22', '1213765': '1', '1213766': '1', '2034819': '13', '2067169': '1', '5330389': '44', '6021750': '5', '6025614': '35'}, '1000556': {'1063094': '4', '1213757': '4', '1213758': '4', '1213761': '1', '1213762': '1', '1213765': '7', '1213766': '7', '1213771': '1', '1213772': '1', '2034880': '2', '2067169': '12', '6025470': '14'}, '1000589': {'1020155': '15', '1024103': '13', '1044633': '1', '2016178': '21', '2016179': '21', '2027732': '13', '2028369': '14', '6033224': '2', '6033230': '3', '6035129': '3'}, '1000599': {'1059966': '49', '1061176': '1', '1061177': '1', '2020214': '9', '5307084': '2', '5309397': '1', '5311688': '1', '6021750': '2', '6025612': '1', '6025615': '1'}, '1000600': {'1060058': '113', '1085900': '6'}, '1000601': {'1019306': '2', '1019307': '2', '1048539': '6', '1048540': '6', '1073015': '2'}, '1000614': {'1044255': '10', '1044338': '10', '1044339': '2', '1044627': '5', '1044629': '13', '1044679': '16', '1044680': '93', '1047717': '11', '1051487': '6', '1056985': '2', '1059860': '13', '1060065': '2', '1060067': '2', '1061172': '1', '1061173': '1', '1061176': '1', '1061177': '1', '1061178': '1', '1061179': '1', '1068191': '10', '1085665': '9', '1085666': '9', '1085667': '11', '1085668': '11', '1085669': '7', '1085670': '7', '1085671': '2', '1085672': '2', '1085898': '3', '1085899': '2', '1085900': '2', '1212005': '5', '1212018': '5', '1212028': '1', '1212029': '1', '1212051': '3', '1212052': '3', '1212054': '5', '1212055': '5', '1221401': '1', '1221402': '34', '1221404': '34', '1221407': '26', '1221408': '26', '1221411': '26', '1221412': '16', '1221413': '6', '1221415': '1', '1221418': '26', '1221419': '16', '1221420': '6', '1221422': '1', '1221425': '1', '1221426': '11', '1221427': '9', '1221428': '6', '1221429': '5', '1221430': '1', '1221432': '1', '1221434': '1', '1221435': '11', '1221436': '9', '1221437': '6', '1221438': '5', '1221439': '1', '2023154': '6', '2034879': '2', '2034880': '4', '2066603': '54', '2067169': '100', '5309397': '17', '5309718': '2', '5309719': '1', '5311683': '14', '5311686': '2', '6021091': '1', '6025612': '2', '6025614': '17', '6025618': '14', '6025635': '31', '6026691': '20', '6033230': '1', '6033231': '9', '6035129': '11', '6035130': '1', '6045193': '4', '6051884': '11'}, '1000637': {'1221411': '1', '1221418': '1', '1221426': '3', '1221435': '3', '2067169': '4', '6025470': '9'}, '1000657': {'2034819': '8'}, '1000662': {'1060060': '12', '1060063': '26'}, '1000663': {'1200566': '2', '1200593': '2'}, '1000676': {'1085669': '47', '1085670': '47', '2020204': '17'}, '1000679': {'1019174': '2', '1019218': '4', '1019219': '4', '1019220': '1', '1019221': '1', '1059966': '100', '1060064': '1', '1212005': '0', '1212017': '1', '1212018': '0', '1212019': '1', '1212054': '1', '1212055': '1', '1212060': '45', '1212061': '45', '1213759': '1', '1213760': '1', '2020214': '10', '2067169': '46', '5307082': '56', '5330389': '50', '6023140': '56', '6025614': '50'}, '1000694': {'5309397': '216', '6025612': '363'}, '1000708': {'1061172': '1', '1061173': '1', '1061176': '1', '1061177': '1', '1061178': '2', '1061179': '2', '1068191': '2', '1070646': '1', '1070647': '1', '1073267': '13', '1076397': '16', '1081529': '3', '1085665': '1', '1085666': '1', '1085667': '2', '1085668': '2', '1085673': '3', '1085674': '3', '1213773': '1', '1213774': '1', '2034820': '3', '2034880': '1', '2067169': '1', '2080170': '1', '2082101': '1', '4076417': '1', '5334126': '40', '6025470': '1', '6035129': '1'}, '1000714': {'1056984': '2', '1083567': '9', '1085665': '4', '1085666': '4', '2020204': '5', '2020214': '4', '2033411': '2', '2067169': '1', '6035137': '4', '7083088': '1'}, '1000734': {'1027376': '390', '1058668': '159', '1086263': '59', '2034819': '390', '6035129': '5'}, '1000746': {'1056985': '2', '2039803': '7'}, '1000753': {'1056982': '4', '2033362': '4', '2034879': '4', '6035129': '5', '6035130': '1'}, '1000764': {'1058668': '1', '1060058': '1', '1069450': '2', '1085667': '1', '1085668': '1', '1085669': '7', '1085670': '7'}, '1000806': {'5309052': '4', '6025615': '2', '6030489': '4'}, '1000810': {'7083089': '1'}, '1000821': {'1213761': '2', '1213762': '2', '1221401': '4', '1221428': '4', '1221432': '4', '1221437': '4', '2067169': '10'}, '1000824': {'1043740': '2', '1043798': '2', '1085665': '12', '1085666': '12', '1213739': '11', '1213755': '11', '1213759': '17', '1213760': '17', '1213763': '2', '1213764': '2', '2020204': '1', '2020214': '2', '2066603': '26', '2067169': '10'}, '1000837': {'1044338': '1', '1044680': '2', '1212033': '1', '7083082': '1'}, '1000860': {'1019152': '5', '1019153': '5', '1024101': '4', '1024446': '1', '1043745': '6', '1043746': '6', '1046205': '1', '1046207': '8', '1046209': '3', '1053148': '12', '1053150': '1', '1076398': '3', '1095014': '79', '1212026': '9', '1212027': '9', '1212035': '15', '1212036': '15', '1212049': '6', '1212050': '6', '1212053': '13', '1212054': '10', '1212055': '10', '1212056': '12', '1212057': '12', '1212060': '145', '1212061': '146', '1212064': '3', '1212065': '3', '1212071': '13', '2016178': '32', '2020214': '6', '2024352': '8', '2027357': '14', '2027735': '7', '2047841': '28', '2067169': '177', '2074406': '82', '2100900': '32', '5307086': '1', '6035129': '3', '6035596': '1', '7083088': '2', '7083089': '1', '7083142': '1'}, '1000861': {'2031065': '1'}, '1000870': {'1059966': '4', '1085667': '4', '1085668': '4', '1085673': '4', '1085674': '4'}, '1000876': {'1016296': '14', '1019194': '1', '1028463': '1', '1041675': '1', '1044679': '4', '1060058': '16', '1060065': '9', '1061176': '8', '1061177': '8', '1062281': '200', '1085669': '4', '1085670': '4', '1085671': '1', '1085672': '1', '1085673': '1', '1085674': '1', '1200678': '1', '2045401': '1', '2046197': '2', '2047444': '2', '2100900': '1', '4031608': '2', '5307083': '1', '6023140': '1', '6025470': '13', '6025652': '1', '6035421': '5', '6035422': '5'}, '1000890': {'1200557': '1', '1200574': '1', '1212030': '2', '1212070': '2', '2071576': '2', '6035421': '3', '6035422': '3', '6035423': '3', '6035424': '3'}, '1000914': {'5311687': '30', '5330389': '80', '6025614': '110'}, '1000957': {'1044679': '3', '1044680': '12', '1060058': '253', '1062566': '26', '1086263': '4', '1086265': '24', '6035129': '5', '7083091': '5'}, '1000966': {'1019196': '1', '1027376': '1', '1050748': '3', '1056983': '5', '1061176': '2', '1061177': '2', '1083567': '1', '1212017': '1', '1212019': '1', '1212049': '7', '1212050': '7', '1212053': '7', '1212054': '3', '1212055': '3', '1212071': '7', '1213757': '2', '1213758': '2', '1213759': '6', '1213760': '6', '1213761': '2', '1213762': '2', '1213763': '12', '1213764': '12', '1213765': '1', '1213766': '1', '1213767': '3', '1213768': '3', '1213771': '2', '1213772': '2', '2016178': '8', '2016179': '8', '2020204': '1', '2033362': '5', '2034819': '3', '2034880': '7', '2039857': '7', '2067169': '44', '2074406': '1', '2074407': '1', '2074797': '1', '6025470': '2', '6035129': '2', '6035130': '1', '6035596': '1'}, '1000978': {'2018105': '1', '2020204': '3', '2024263': '8', '2067169': '4', '6026691': '5', '6035137': '42'}, '1001019': {'1063095': '3', '2020204': '2', '2033411': '5', '2099265': '2', '5309052': '1', '5311688': '10', '5319015': '1', '6023135': '1', '6025615': '10'}, '1001024': {'5309397': '63', '6025614': '63'}, '1001026': {'1028463': '3', '1200685': '3', '1212064': '6', '1212065': '6', '2031065': '3', '2067169': '6', '6035129': '1'}, '1001031': {'6027946': '1'}, '1001045': {'1085900': '1'}, '1001049': {'1019990': '8', '1024445': '6', '1024446': '2', '1026842': '29', '1028461': '20', '1028463': '42', '1029489': '8', '1056982': '2', '1056984': '6', '1056985': '16', '1081529': '56', '1200679': '20', '1200685': '17', '1200686': '26', '1203794': '8', '1205384': '8', '2016178': '16', '2018105': '4', '2024352': '13', '2033362': '8', '2033411': '50', '2033805': '4', '2034879': '2', '2046725': '6', '2060711': '21', '5306274': '48', '5307083': '32', '5308825': '32', '5311686': '32', '6025614': '32', '6026690': '2', '6030489': '35', '6035129': '1', '7021907': '7'}, '1001051': {'1076397': '2', '1076932': '4', '2074362': '4', '2074407': '2', '2074797': '2', '6021750': '1'}, '1001057': {'2034880': '2', '2076386': '11', '2076388': '11', '6027944': '6', '6035129': '1'}, '1001087': {'1099031': '1', '1213744': '1', '1213745': '1', '1213763': '2', '1213764': '2', '2067169': '3'}, '1001099': {'1073015': '15'}, '1001112': {'1212017': '1', '1212019': '1', '1212047': '127', '1212048': '103', '2067169': '125'}, '1001118': {'6035200': '1'}, '1001134': {'1086266': '5'}, '1001150': {'1059966': '45', '1221427': '2', '1221429': '4', '1221436': '2', '1221438': '4', '2067169': '6'}, '1001152': {'1076397': '1', '6025472': '1'}, '1001164': {'1027376': '67', '1056984': '3', '1061176': '4', '1061177': '4', '1061178': '4', '1061179': '4', '1068191': '41', '1085665': '3', '1085666': '3', '1085667': '2', '1085668': '2', '1099027': '2', '2033362': '67', '2034819': '2', '6026691': '15', '6035129': '1', '7083088': '3'}, '1001166': {'1019171': '1', '1019255': '1', '1019256': '1', '1044338': '1', '1044339': '1', '1044679': '1', '1059860': '2', '1059966': '10', '1060058': '3', '1060059': '1', '1060065': '1', '1060847': '5', '1061173': '1', '1061176': '3', '1061177': '3', '1061178': '5', '1061179': '5', '1062280': '1', '1062566': '2', '1062899': '1', '1068191': '4', '1085898': '4', '1085900': '2', '1092345': '19', '1200675': '1', '1207520': '1', '1207815': '2', '1212028': '1', '1212029': '1', '1212064': '1', '1220072': '2', '1220073': '2', '2023157': '3', '2027726': '1', '2052137': '2', '2067169': '1', '2080167': '7', '2082101': '7', '2099264': '4', '5307082': '3', '5307086': '3', '5307093': '5', '5309397': '18', '5311687': '4', '6023135': '5', '6025470': '3', '6025472': '9', '6025473': '11', '6025614': '2', '6025644': '5', '6025652': '7', '6026698': '2', '6035129': '2', '6035137': '2', '6035429': '2', '6035430': '2', '6035593': '1', '6035597': '3', '7021907': '8'}, '1001214': {'2024352': '1', '2027735': '3', '2028204': '1'}, '1001224': {'1212060': '1', '1212061': '1', '2067169': '1'}, '1001234': {'1016296': '5', '1024101': '18', '1024445': '1', '1029489': '4', '1044629': '1', '1044630': '1', '1044680': '2', '1046209': '22', '1056982': '2', '1058668': '1', '1068191': '1', '1085900': '4', '1212033': '1', '1212034': '1', '1212047': '44', '1212048': '44', '1212051': '6', '1212052': '6', '1212053': '3', '1212054': '18', '1212055': '18', '1212056': '33', '1212057': '33', '1212058': '6', '1212059': '6', '1212060': '29', '1212061': '29', '1212071': '3', '1213761': '9', '1213762': '9', '1213767': '6', '1213768': '6', '1213775': '5', '1213776': '5', '1216224': '3', '1216225': '3', '2016178': '6', '2024352': '14', '2027725': '1', '2027726': '7', '2028369': '1', '2033414': '2', '2033415': '2', '2033416': '2', '2034880': '2', '2047841': '22', '2067169': '187', '2069823': '1', '4071409': '5', '5307085': '2', '6023135': '2', '6025470': '24', '6025472': '90', '6035037': '1', '6035129': '9', '6051883': '2', '7083088': '3'}, '1001245': {'1065062': '4', '1068191': '2', '5309052': '1', '5330389': '4', '6054343': '1'}, '1001254': {'1059965': '7', '1207653': '4', '1207672': '0', '1212026': '1', '1212027': '1', '1212028': '1', '1212029': '1', '1212051': '1', '1212052': '1', '1213744': '1', '1213745': '1', '1213748': '1', '1213749': '1', '1213757': '1', '1213758': '1', '2047004': '0', '2047009': '0', '2057153': '0', '2067169': '6', '6025470': '6'}, '1001264': {'1085673': '1', '1085674': '1', '1085900': '1', '5309313': '1', '6025628': '1', '6035037': '1'}, '1001284': {'1024102': '1', '1212033': '4', '1212034': '4', '1212037': '6', '1212038': '6', '1212045': '14', '1212046': '14', '1212060': '4', '1212061': '2', '1212064': '2', '1212065': '2', '2066603': '4', '2067169': '53', '5307082': '3', '5307085': '4', '6023135': '7', '7083088': '2'}, '1001287': {'6035429': '2', '6035430': '2'}, '1001321': {'1104233': '1', '7083082': '1'}, '1001340': {'1214328': '129'}, '1001342': {'1044627': '2', '1044680': '2', '1058668': '2', '1207653': '4', '1207660': '2', '2046398': '3'}, '1001363': {'1059965': '28', '1061176': '7', '1061177': '7', '2080165': '39'}, '1001368': {'1085671': '4', '1085672': '4', '1099031': '35', '1099033': '27', '1214328': '1', '2027735': '1', '2031065': '2'}, '1001421': {'1044255': '3', '1044680': '9', '1058196': '2', '1059860': '3', '1062333': '2', '1070120': '10', '1085898': '2', '1085899': '1', '1086266': '1', '1207515': '4', '2033412': '2', '2034880': '2', '2039857': '2', '2046398': '4', '5311685': '4', '6025622': '4', '6035129': '2', '6035130': '2'}, '1001460': {'1068191': '1', '1085899': '9', '1221402': '10', '1221403': '49', '1221404': '10', '1221407': '5', '1221408': '5', '1221412': '14', '1221419': '14', '1221425': '31', '1221426': '34', '1221427': '9', '1221428': '33', '1221429': '22', '1221430': '8', '1221433': '49', '1221434': '31', '1221435': '34', '1221436': '9', '1221437': '33', '1221438': '20', '1221439': '8', '2039803': '26', '2067169': '188', '2099265': '13', '5309397': '30', '6021153': '3', '6025612': '30', '6035129': '1'}, '1001464': {'6025470': '7'}, '1001471': {'1085665': '2', '1085666': '2', '1085673': '1', '1085674': '1', '1213763': '1', '1213764': '1'}, '1001481': {'1048539': '2', '1048540': '1', '1048934': '1', '1059966': '36', '1060058': '2', '1061172': '5', '1061173': '5', '1061174': '12', '1061175': '12', '1061176': '2', '1061177': '5', '1068191': '1', '1085669': '1', '1085670': '1', '1200628': '1', '1212048': '1', '1213760': '1', '1215873': '1', '2020204': '1', '2027725': '1', '2027735': '2', '2028369': '2', '2033671': '3', '2034880': '2', '2066603': '8', '2067169': '4', '2099265': '2', '4076417': '1', '5307082': '4', '5307086': '3', '6021750': '2', '6023135': '4', '6025470': '2', '6025472': '1', '6026691': '6', '6026694': '2', '6027946': '1', '6030489': '10', '6033224': '2', '6035129': '1', '6035130': '1', '6035137': '2', '6035417': '2', '6035418': '2', '6035422': '2', '6035597': '3', '6035797': '1'}, '1001504': {'1061177': '1', '1213739': '1', '1213755': '1', '2067169': '2', '6025670': '3'}, '1001518': {'1027375': '1', '1044679': '1', '1044680': '1', '1099028': '8', '2033362': '1', '6035129': '1'}, '1001536': {'1059966': '2', '1085667': '1', '1085668': '1', '1085899': '15', '1085900': '15', '1212005': '1', '1212018': '1', '1212047': '1', '1212048': '1', '1212051': '2', '1212052': '2', '1212053': '15', '1212071': '15', '2016178': '5', '2016179': '5', '2016180': '5', '2066603': '2', '2067169': '18', '5307084': '7', '6023140': '7', '6025470': '2', '7083088': '1'}, '1001600': {'1016296': '1', '1019216': '4', '1019217': '4', '1019222': '1', '1019223': '1', '1019232': '1', '1019233': '1', '1019990': '2', '1027375': '4', '1027376': '1', '1029438': '2', '1029439': '2', '1029489': '1', '1029572': '2', '1029573': '2', '1044629': '1', '1044679': '21', '1058668': '21', '1060058': '1', '1060065': '44', '1061172': '8', '1061173': '8', '1061174': '17', '1061175': '17', '1061176': '1', '1061177': '1', '1062333': '4', '1068191': '390', '1070646': '1', '1070647': '1', '1085665': '7', '1085666': '7', '1085667': '20', '1085668': '20', '1085669': '23', '1085670': '23', '1085673': '21', '1085674': '21', '1085899': '1', '1092345': '64', '1099032': '5', '1212024': '2', '1212025': '2', '1212026': '2', '1212027': '2', '1212028': '18', '1212029': '18', '1212031': '19', '1212032': '19', '1212033': '5', '1212034': '5', '1212035': '2', '1212036': '2', '1212047': '2', '1212048': '2', '1212051': '1', '1212052': '1', '1212054': '15', '1212055': '15', '1213738': '1', '1213754': '1', '1213759': '2', '1213760': '2', '1213763': '3', '1213764': '3', '1213767': '4', '1213768': '4', '1220641': '2', '1220654': '2', '1220680': '6', '1220686': '6', '1220687': '2', '1220689': '2', '1220694': '6', '1220700': '6', '1220701': '2', '1220702': '2', '2018306': '8', '2020204': '8', '2020214': '6', '2033362': '5', '2066603': '6', '2067169': '250', '2077387': '10', '2077388': '26', '2099265': '4', '5307083': '88', '5308938': '32', '5309313': '3', '5309719': '5', '5311369': '4', '5311688': '25', '5311837': '13', '5311845': '5', '5314785': '5', '6025439': '3', '6025615': '25', '6025628': '3', '6025632': '2', '6026697': '1', '6026698': '1', '6030489': '121', '6033232': '18', '6035129': '10', '7083088': '1'}, '1001629': {'6035136': '5'}, '1001635': {'1027376': '31', '1044680': '1', '1056983': '2', '1058388': '1', '1058668': '1', '1085899': '31', '1085900': '22', '2034819': '33', '6035129': '1'}, '1001668': {'1027376': '6', '2034819': '6', '6035129': '1'}, '1001673': {'1085671': '10', '1085672': '10', '1099031': '2'}, '1001684': {'1085673': '3', '1085674': '3'}, '1001695': {'1027376': '21', '1044631': '32', '1050748': '102', '1081529': '32', '1086266': '134', '2033362': '252', '6026691': '141'}, '1001699': {'1016296': '1', '1018729': '2', '1018730': '2', '1019146': '1', '1019148': '1', '1019150': '3', '1019151': '1', '1019152': '1', '1019153': '1', '1019160': '1', '1019161': '1', '1019170': '1', '1019171': '1', '1019202': '1', '1019203': '1', '1019222': '1', '1019281': '1', '1019282': '1', '1019338': '1', '1022951': '1', '1023048': '2', '1023086': '1', '1024101': '1', '1026842': '1', '1027375': '1', '1027377': '5', '1028461': '7', '1029491': '2', '1044338': '1', '1044339': '2', '1044629': '1', '1047533': '1', '1048539': '2', '1048540': '2', '1059965': '50', '1059966': '57', '1060056': '10', '1060058': '78', '1060059': '1', '1060066': '5', '1060847': '10', '1060850': '5', '1061172': '27', '1061173': '27', '1061174': '32', '1061175': '18', '1061176': '8', '1061177': '6', '1061178': '11', '1061179': '10', '1062267': '5', '1062281': '10', '1062676': '57', '1070116': '2', '1084213': '1', '1086120': '1', '1086122': '1', '1200555': '4', '1200572': '4', '1200575': '1', '1200619': '1', '1200680': '1', '1200681': '7', '1200685': '1', '1200698': '1', '1201062': '1', '1201361': '1', '1207514': '2', '1207791': '2', '1207801': '3', '1207804': '0', '1207805': '2', '1213757': '1', '1213758': '1', '1215842': '1', '1215843': '1', '1216326': '1', '2016178': '2', '2016179': '2', '2020061': '2', '2020204': '74', '2023157': '19', '2023159': '2', '2024352': '1', '2027735': '21', '2031065': '2', '2033362': '4', '2033414': '1', '2034880': '2', '2039803': '62', '2039857': '3', '2039858': '1', '2044431': '2', '2044432': '2', '2044459': '3', '2046197': '4', '2046390': '12', '2046398': '12', '2047006': '2', '2048430': '3', '2057153': '12', '2067169': '1', '2074098': '4', '2077387': '1', '2080167': '6', '2082101': '6', '2099265': '3', '2100900': '3', '5307090': '12', '5309315': '10', '5309397': '1', '5311684': '2', '5311686': '10', '5311688': '3', '5314068': '12', '5320533': '24', '5326188': '5', '5330389': '18', '6012702': '2', '6021750': '10', '6021793': '2', '6022607': '3', '6022874': '6', '6023135': '12', '6025471': '1', '6025612': '18', '6025614': '8', '6025615': '4', '6025620': '2', '6025632': '1', '6025652': '5', '6026529': '20', '6026691': '3', '6026695': '2', '6026698': '2', '6027894': '5', '6027895': '3', '6027898': '2', '6027943': '4', '6027947': '5', '6035129': '4', '6035136': '31', '6035137': '9', '6035419': '15', '6035421': '13', '6035422': '12', '6035424': '2', '6035429': '23', '6035430': '6', '6035517': '2', '6035518': '2', '6035597': '2', '6045194': '17', '6045199': '5', '6045611': '2', '6050836': '2', '6051884': '4', '6052156': '24'}, '1001731': {'2020204': '8'}, '1001757': {'1060058': '37', '1060847': '10'}, '1001797': {'1212028': '1', '1212029': '1', '1212051': '1', '1212052': '1', '6026695': '2', '6026698': '1', '6035037': '1'}, '1001806': {'1076398': '2', '1213771': '6', '1213772': '6', '2099265': '6'}, '1001809': {'1085669': '2', '1085670': '2', '1085673': '24', '1085674': '24'}, '1001819': {'1061176': '1', '1061177': '1', '1061178': '2', '1061179': '2', '1070646': '1', '1070647': '1', '1081529': '3', '1085667': '2', '1085668': '2', '1099012': '6', '1099030': '4', '1099031': '6', '1213757': '2', '1213758': '2', '1213759': '3', '1213760': '3', '1213763': '3', '1213764': '3', '2067169': '11', '2080170': '1', '2082101': '1', '6025470': '3'}, '1001830': {'1024101': '3', '1024446': '2', '1073108': '5', '1073112': '5', '1073114': '4', '1073115': '6', '1073116': '17', '1082571': '1', '1212049': '7', '1212050': '7', '1212053': '4', '1212056': '16', '1212057': '17', '1212060': '18', '1212061': '18', '1212064': '12', '1212065': '12', '1212071': '4', '1213761': '4', '1213762': '4', '1213767': '10', '1213768': '10', '2024352': '12', '2031065': '16', '2048455': '7', '2066603': '52', '2067169': '69', '2074406': '1', '6035129': '12'}, '1001855': {'1059966': '180', '1061172': '12', '1061173': '12'}, '1001873': {'2039803': '10'}, '1001887': {'1056982': '1', '2033362': '1', '6035129': '3'}, '1001890': {'2020214': '4'}, '1001905': {'2067169': '4'}, '1001913': {'1060059': '6', '1060847': '8', '6025449': '3', '6025471': '5'}, '1001979': {'1016296': '1', '1044255': '2', '1044629': '1', '1044630': '2', '1044680': '1', '1085665': '11', '1085666': '11', '1085667': '1', '1085668': '1', '1085669': '23', '1085670': '23', '1085900': '5', '1099033': '5', '1212026': '3', '1212027': '3', '1212064': '1', '1212065': '1', '1213739': '7', '1213755': '7', '1213757': '9', '1213758': '9', '1213759': '32', '1213760': '32', '1213761': '1', '1213762': '1', '1213763': '3', '1213764': '3', '2020204': '3', '2027735': '23', '2034879': '2', '2067169': '50', '4057286': '1', '5307086': '1', '5311686': '1', '6025470': '4', '6025472': '4', '6025612': '1', '6035129': '2', '6035131': '1', '6035596': '2', '6045193': '1'}, '1001989': {'1056983': '2', '2034819': '7', '6035129': '3'}, '1002047': {'1221071': '1', '1221074': '2', '1221082': '1', '1221085': '2', '2023154': '1', '2067169': '1'}, '1002054': {'1044630': '1', '1060065': '1', '2034819': '1', '2039803': '10', '2067169': '1', '5307085': '5', '5311686': '5', '6045192': '2'}, '1002081': {'5307084': '5', '6023140': '5'}, '1002087': {'1063095': '15'}, '1002104': {'1044255': '15', '1044339': '15', '1044680': '18', '1050748': '17', '1059860': '0', '1062899': '20', '2033411': '17', '2068353': '7', '6035129': '4'}, '1002129': {'1056984': '98', '2033412': '98', '2034880': '98', '5330389': '2', '6025614': '2', '6035129': '5', '7083088': '1'}, '1002133': {'1024101': '1', '1215868': '2', '1215869': '2', '1215872': '2', '1215873': '2', '6050836': '4'}, '1002137': {'6026691': '2'}, '1002171': {'5311684': '4'}, '1002178': {'1081529': '3', '1099033': '8', '2033413': '3', '2034879': '2', '6035129': '1'}, '1002199': {'1085665': '1', '1085666': '1', '1085669': '2', '1085670': '2', '1085671': '1', '1085672': '1', '1085673': '1', '1085674': '1', '2020204': '5'}, '1002232': {'1060066': '7', '1061176': '5', '1061177': '5', '1061178': '15', '1061179': '15', '1213769': '4', '1213770': '4', '2067169': '4'}, '1002244': {'1062566': '34', '1085669': '4', '1085670': '4'}, '1002272': {'1081529': '1', '2033362': '1', '2034880': '1', '6035129': '1'}, '1002275': {'1085665': '102', '1085666': '102', '2044623': '102'}, '1002279': {'1068191': '3', '6026691': '3'}, '1002293': {'1092594': '1', '1092596': '1', '2067169': '1', '5311687': '2', '6025612': '2'}, '1002300': {'1041174': '2', '1041180': '8', '1044255': '1', '1044339': '1', '1044629': '8', '1044680': '113', '1049100': '37', '1059046': '10', '1059047': '11', '1200566': '1', '1200583': '1', '1212026': '1', '1212027': '1', '2045401': '1', '2046045': '2', '2066603': '2', '4031608': '14', '6025470': '5', '6025472': '5', '6035129': '1', '6045183': '11'}, '1002301': {'2020214': '5'}, '1002319': {'1024102': '11', '1044255': '2', '1044680': '12', '1047717': '10', '1056982': '7', '1059554': '12', '1062899': '3', '2016178': '9', '2016179': '9', '2016180': '9', '2020204': '216', '2024352': '9', '2033362': '4', '2034880': '8', '2068448': '3', '5315327': '9', '6035129': '1'}, '1002354': {'1026842': '2', '1085899': '1', '1085900': '1', '1203792': '2', '1203798': '2', '1212060': '48', '1212061': '48', '1213744': '1', '1213745': '1', '1213748': '1', '1213749': '1', '1213757': '1', '1213758': '1', '1213759': '1', '1213760': '1', '1213769': '1', '1213770': '1', '1213771': '1', '1213772': '1', '2066603': '2', '2067169': '79', '5320533': '5', '5330389': '64', '6025471': '3', '6025614': '64', '6027898': '1', '6035129': '1', '7021907': '2'}, '1002389': {'1016296': '1', '4040561': '1'}, '1002394': {'1027376': '1', '1027377': '1', '1044255': '1', '1044338': '1', '1044627': '4', '1044629': '1', '1044679': '6', '1044680': '11', '1047717': '2', '1056985': '58', '1059860': '2', '1060059': '6', '1060064': '22', '1061172': '1', '1061173': '1', '1061174': '2', '1061175': '2', '1063097': '3', '1068191': '2', '1076933': '2', '1085665': '25', '1085666': '24', '1085667': '26', '1085668': '26', '1085669': '15', '1085670': '15', '1085673': '2', '1085674': '2', '1085898': '1', '1085899': '59', '1085900': '30', '1092343': '4', '1098989': '2', '1099012': '5', '1099013': '15', '1099028': '6', '1099030': '6', '1099031': '2', '1099033': '8', '1212026': '2', '1212027': '2', '1213739': '4', '1213755': '4', '1213757': '6', '1213758': '6', '1213759': '1', '1213760': '1', '1213763': '1', '1213764': '1', '1213773': '1', '1213774': '1', '1216372': '4', '1216373': '4', '2031065': '2', '2033362': '1', '2033416': '2', '2034820': '1', '2066603': '6', '2067169': '23', '2074098': '28', '4057286': '1', '5307082': '4', '5309052': '2', '5309718': '20', '5311686': '17', '5330389': '4', '6012702': '2', '6023140': '6', '6023206': '2', '6025470': '1', '6025614': '19', '6026500': '8', '6035129': '2', '6035130': '1'}, '1002410': {'1068191': '6', '1081529': '3', '1099012': '4', '1099030': '3', '2033362': '3', '2034879': '3', '6031350': '21', '6035129': '1'}, '1002468': {'1019150': '1', '1019151': '1', '1019152': '3', '1019153': '3', '1059966': '20', '1061176': '1', '1061177': '1', '1061178': '2', '1061179': '2', '2020061': '6', '2020214': '1', '6025652': '1'}, '1002476': {'1073767': '2', '1073778': '2', '1213757': '2', '1213758': '2', '2067169': '2', '5334126': '7', '6025614': '1'}, '1002488': {'1070120': '2', '1073776': '3', '1085899': '20', '1085900': '20', '1212005': '4', '1212018': '4', '1212028': '10', '1212029': '9', '1221428': '1', '1221437': '1', '2045070': '8', '2045071': '9', '2067169': '30', '5307086': '4', '6012699': '4', '6012702': '4'}, '1002518': {'1085665': '2', '1085666': '2'}, '1002520': {'5311708': '136', '6035597': '116'}, '1002540': {'1085673': '1', '1085674': '1', '1085900': '169', '1212053': '1', '1212071': '1', '5311686': '18', '5330389': '15', '6025614': '43', '6026691': '2'}, '1002542': {'1024102': '8', '1076397': '4', '1085673': '18', '1085674': '18', '2016178': '8', '2027728': '4', '2028370': '4', '6035129': '1', '6035137': '4', '6035141': '48', '6052503': '48'}, '1002572': {'1027376': '17', '2034819': '17', '6026691': '20'}, '1002585': {'1060847': '2', '1062566': '7', '1085673': '2', '1085674': '2', '1085899': '5', '1212025': '1', '1220942': '2', '1220945': '1', '1220947': '1', '1220953': '2', '1220956': '1', '1220958': '1', '2074362': '2', '6012699': '5', '6012702': '8'}, '1002586': {'1024101': '10', '1029489': '6', '1061176': '45', '1061177': '42', '1061178': '120', '1061179': '116', '1076398': '2', '1104234': '1', '1212047': '19', '1212048': '19', '1212049': '6', '1212050': '7', '1212051': '3', '1212052': '3', '1212053': '2', '1212054': '8', '1212055': '8', '1212056': '36', '1212057': '36', '1212060': '15', '1212061': '15', '1212062': '7', '1212063': '7', '1212064': '12', '1212065': '12', '1212071': '2', '1221401': '3', '1221430': '6', '1221432': '3', '1221439': '6', '2016178': '14', '2024352': '16', '2066603': '6', '2066795': '20', '2067169': '98', '6035129': '2'}, '1002587': {'1059965': '48', '1073015': '1', '1085665': '1', '1085666': '1', '1085669': '10', '1085670': '10', '1085671': '2', '1085672': '2', '1085673': '5', '1085674': '5', '1207675': '6', '1207676': '2', '1212026': '28', '1212027': '28', '1212054': '2', '1212055': '2', '1212056': '8', '1212057': '8', '1212060': '3', '1212061': '4', '1212066': '2', '1212067': '2', '2066603': '8', '2067169': '117', '5307090': '35', '5311688': '17', '6025615': '17', '6035130': '1', '6035137': '3', '6035423': '57', '6035424': '57', '6045610': '35'}, '1002596': {'1063096': '2', '1212058': '1', '1212059': '1', '1221426': '1', '1221435': '1', '2067169': '1'}, '1002598': {'1024446': '1', '1213773': '3', '1213774': '3'}, '1002612': {'1027376': '3', '1085671': '1', '1085672': '1', '2020204': '1', '2033362': '2', '6035129': '1', '7083084': '1'}, '1002623': {'1060065': '5', '1085665': '1', '1085666': '1', '1085899': '1', '1212037': '1', '1212038': '1', '1213757': '1', '1213758': '1', '2067169': '1', '6025472': '1', '6035136': '4'}, '1002633': {'1061176': '2', '1061177': '2'}, '1002648': {'6035131': '4', '6035137': '4'}, '1002691': {'1061176': '2', '1061177': '2', '1061178': '2', '1061179': '2', '1213763': '1', '1213764': '1', '2067169': '1', '5320813': '7', '6025615': '7', '6045208': '1'}, '1002700': {'1068191': '45'}, '1002713': {'1213759': '79', '1213760': '79', '1213771': '1', '1213772': '1', '2067169': '80', '5309719': '8'}, '1002720': {'1213763': '8', '1213764': '8', '2067169': '8'}, '1002743': {'1029491': '1', '1029493': '1'}, '1002757': {'1060063': '22', '1200558': '18', '1200575': '18'}, '1002773': {'1212031': '2', '1212032': '2', '1212033': '1', '1212034': '1', '1212037': '1', '1212038': '1', '2067169': '4'}, '1002779': {'1024445': '70', '1024446': '46', '1212056': '1', '1212057': '1', '1212060': '1', '1212061': '1', '1213767': '3', '1213768': '2', '2016178': '26', '2020204': '2', '2024352': '116', '2067169': '18', '6035129': '3'}, '1002800': {'1085665': '52', '1085666': '52', '2020204': '20', '2044623': '12', '2067169': '32', '5309589': '10'}, '1002802': {'1019160': '1', '1019222': '4', '1019223': '4', '1022921': '1', '1027376': '1', '1042097': '2', '1046205': '8', '1051487': '1', '1056983': '33', '1059966': '56', '1068191': '6', '1076397': '2', '1081529': '4', '1092343': '17', '1092350': '17', '1200568': '1', '1201092': '1', '1212053': '6', '1212056': '7', '1212057': '7', '1212071': '6', '1213738': '1', '1213754': '1', '1213763': '2', '1213764': '3', '1213767': '6', '1213768': '6', '1216308': '1', '1216309': '1', '1216338': '1', '1216339': '1', '1220682': '4', '1220709': '4', '1221430': '2', '1221439': '2', '2027735': '1', '2033412': '4', '2034819': '1', '2034820': '17', '2034880': '4', '2047841': '8', '2067169': '43', '5311686': '17', '6025614': '17', '6026691': '4', '6027894': '1', '6027895': '1', '6027898': '2', '6035129': '5', '6035421': '27', '6035422': '27', '6035429': '16', '6035430': '16'}, '1002814': {'1019148': '1', '1019149': '1', '1060058': '4', '1060847': '4', '1207660': '1', '1207679': '1', '1207684': '1', '2020061': '4', '6025644': '4', '7083082': '1'}, '1002817': {'1060064': '1', '6035129': '1'}, '1002821': {'1213738': '1', '1213754': '1', '2067169': '1'}, '1002829': {'1019150': '1', '1023048': '1', '1085671': '1', '1085672': '1', '1085673': '1', '1085674': '1', '7021907': '2'}, '1002832': {'1019206': '25', '1024102': '2', '1040816': '25', '1213767': '1', '1213768': '1', '2020214': '27', '2046198': '2', '2067169': '2', '4031608': '1'}, '1002845': {'1024102': '1', '1060063': '6', '1085671': '1', '1085672': '1', '1085673': '1', '1085674': '1', '1085899': '36', '1085900': '6', '1092343': '4', '1212005': '1', '1212018': '1', '1212027': '2', '1212029': '2', '1212030': '8', '1212047': '12', '1212048': '12', '1212049': '2', '1212050': '2', '1212051': '1', '1212052': '1', '1212053': '1', '1212054': '14', '1212055': '14', '1212056': '1', '1212057': '1', '1212060': '6', '1212061': '6', '1212064': '1', '1212065': '1', '1212070': '8', '1212071': '3', '1213718': '1', '1213743': '1', '1213745': '1', '1213746': '1', '1213747': '1', '1213757': '8', '1213758': '10', '1213759': '11', '1213760': '11', '1213761': '2', '1213762': '2', '1213763': '2', '1213764': '2', '1213765': '10', '1213766': '10', '1213767': '10', '1213768': '10', '1213769': '2', '1213770': '2', '1213771': '2', '1213772': '2', '1216316': '1', '1216317': '1', '1221407': '1', '1221408': '1', '2066603': '16', '2067169': '48', '2071544': '12', '4071409': '1', '5308825': '4', '5308938': '4', '5311688': '1', '6023135': '4', '6025615': '1', '6035129': '1', '6035136': '6', '7083089': '1'}, '1002874': {'1024101': '1', '1024445': '1'}, '1002893': {'1019196': '2', '1019197': '2', '1061176': '10', '1061177': '10', '1061178': '10', '1061179': '10', '1068191': '12', '1213718': '2', '1213743': '2', '1213759': '4', '1213760': '4', '1213763': '2', '1213764': '2', '2020061': '8', '2067169': '8', '5311683': '6', '5311688': '4', '5330389': '2', '6025470': '2', '6025614': '2', '6025618': '6', '6035129': '3'}, '1002903': {'1062566': '30'}, '1002911': {'1024102': '2'}, '1002929': {'1068191': '11', '1085899': '12', '1085900': '7', '1200630': '1', '1200657': '1', '1212062': '6', '1212063': '6', '1213718': '5', '1213743': '5', '1213773': '10', '1213774': '10', '2067169': '21', '5311686': '14', '6025438': '9', '6025614': '14', '6045210': '1', '7083089': '1'}, '1002930': {'1027376': '1', '1029490': '10', '1068191': '2', '1221416': '2', '1221423': '2', '2024352': '10', '2033362': '1', '2067169': '2', '6035129': '3'}, '1002939': {'1059966': '28', '1060059': '39', '1062280': '14', '1092343': '8', '1213757': '4', '1213758': '4', '1213759': '1', '1213760': '1', '2067169': '5', '5307082': '8', '6023135': '8'}, '1002941': {'1062566': '37', '1068191': '40', '1085899': '2', '1085900': '4', '1086265': '7', '1212047': '10', '1212048': '10', '1212049': '2', '1212050': '2', '1212054': '3', '1212055': '3', '1212056': '9', '1212057': '9', '1212060': '21', '1212061': '21', '2067169': '54', '5311688': '27', '5311837': '12', '6025615': '27', '6035129': '8'}, '1002987': {'1060058': '6', '1060063': '12', '1090999': '178', '1091938': '4', '1212028': '1', '1212029': '1', '2066603': '4', '2067169': '1', '6026691': '3', '6034309': '183', '6055323': '2'}, '1003018': {'1068191': '12', '5309397': '9', '6025614': '9'}, '1003036': {'1024445': '1', '1024446': '1', '1070116': '8', '1085899': '1', '2027726': '1', '2034879': '4', '2039857': '4', '2080905': '1', '5340164': '8', '6035129': '1'}, '1003038': {'1059966': '8', '2027735': '2', '2039857': '1', '2039858': '1', '6025471': '1', '6025472': '7'}, '1003094': {'1046205': '3', '1046207': '1', '1046209': '1', '1212060': '5', '1212061': '5', '2016178': '5', '2047841': '5', '2067169': '10', '4084688': '1', '6035129': '1', '7083082': '2'}, '1003096': {'1029490': '1', '1068191': '1', '1202037': '1', '1206187': '1', '2027735': '1', '5309718': '1'}, '1003106': {'1062333': '2', '1081529': '64', '1085665': '44', '1085666': '44', '1085667': '85', '1085668': '85', '1085669': '60', '1085670': '60', '1085671': '32', '1085672': '32', '1085673': '31', '1085674': '31', '1099015': '8', '1099016': '9', '1099017': '24', '1099018': '3', '1099019': '24', '1099020': '4', '1099021': '6', '1099024': '2', '1106495': '2', '1212005': '2', '1212018': '2', '1212024': '7', '1212025': '7', '1212026': '12', '1212027': '12', '1212028': '13', '1212029': '13', '1212030': '2', '1212033': '2', '1212034': '2', '1212045': '1', '1212046': '1', '1212049': '1', '1212050': '1', '1212053': '2', '1212054': '2', '1212055': '2', '1212070': '2', '1212071': '2', '2020204': '2', '2034819': '64', '2067169': '56', '6035037': '15', '6035129': '2'}, '1003120': {'1027375': '1', '1056984': '1', '2033414': '1', '2034880': '4', '6035129': '1'}, '1003129': {'5307084': '3', '5309719': '1', '5311684': '3', '6023140': '2', '6025618': '3', '6025635': '1'}, '1003140': {'6035129': '2'}, '1003152': {'1085900': '3', '1099029': '39', '5307083': '6', '5309052': '6', '5309313': '88', '5311687': '22', '6023135': '6', '6025614': '26', '6025668': '62', '6026695': '19'}, '1003154': {'1059966': '10', '1060062': '148', '1060065': '138', '1062676': '10', '1085900': '1', '1200561': '1', '1200578': '1', '5309397': '5', '5309718': '5', '6025472': '1', '6025614': '5'}, '1003169': {'1056983': '78', '2033362': '86', '6035129': '18'}, '1003172': {'1068191': '3', '1085665': '12', '1085666': '12', '1085667': '2', '1085668': '2', '1085669': '20', '1085670': '20', '6026691': '3'}, '1003174': {'1044339': '1', '1201062': '1', '1201064': '1', '1207656': '1', '1207675': '1', '1216206': '1', '1216207': '1', '1216294': '1', '1216295': '1', '2045070': '2', '2045071': '2', '2067169': '2', '2069823': '2', '6022471': '1'}, '1003208': {'1027376': '3', '1081529': '5', '2033362': '9', '6035129': '1'}, '1003209': {'6033224': '4'}, '1003213': {'6025470': '12'}, '1003227': {'1019200': '2', '1019201': '2', '1062280': '6', '1062281': '4', '1102671': '1', '1212031': '2', '1212032': '2', '2047443': '4', '2067169': '4', '5311687': '1', '6025614': '1', '6038239': '2', '7021907': '1'}, '1003240': {'1060062': '10', '1062281': '4', '1062566': '140'}, '1003244': {'1068191': '1', '1207661': '2', '5309397': '25', '5311688': '5', '6025614': '25', '6025615': '5'}, '1003254': {'1026842': '0', '1028463': '1', '1076930': '6', '1085665': '5', '1085666': '5', '1085667': '1', '1085668': '1', '1085673': '17', '1085674': '17', '1200685': '1', '1201682': '1', '1201769': '1', '1203792': '5', '1203798': '5', '2020204': '1', '2031065': '7', '5307084': '11', '5307091': '10', '5308825': '11', '5309718': '6', '5311686': '6', '6021091': '11', '6025470': '13', '6025472': '5', '6025614': '6', '7083088': '1'}, '1003255': {'1085900': '12'}, '1003266': {'1044255': '17', '1212026': '1', '1212027': '1', '1212028': '1', '1212029': '1', '2067169': '8', '5307086': '1', '6022607': '2', '6035129': '1'}, '1003269': {'1018738': '1', '1019180': '1', '1019181': '1', '1019226': '1', '1022789': '1', '1022790': '1', '1061176': '1', '1061177': '1', '1063094': '4', '1085665': '13', '1085666': '13', '1085667': '11', '1085668': '12', '1085673': '5', '1085674': '5', '1203794': '1', '1203914': '2', '1205384': '1', '1212024': '1', '1212025': '1', '2039803': '3', '2099265': '1', '6012702': '1', '6025470': '1', '6030489': '2', '6035129': '1', '6035797': '2', '7021907': '2'}, '1003279': {'1058668': '1', '1061172': '1', '1061173': '1', '1069625': '1', '1093094': '2', '1213769': '4', '1213770': '4', '2067169': '4'}, '1003301': {'1212054': '2', '1212055': '2', '5311688': '3', '6025615': '4'}, '1003311': {'1207664': '4', '1207669': '6', '1212005': '1', '1212018': '1', '1212026': '4', '1212027': '4', '1212031': '2', '1212032': '2', '2023154': '1', '2066603': '14', '2067169': '7'}, '1003324': {'1029490': '2', '1085899': '1', '1201590': '4', '1201591': '4', '1212049': '1', '1212050': '1', '1212054': '9', '1212055': '9', '2016178': '2', '2016179': '2', '2024352': '2', '2033671': '8', '2067169': '10', '6045199': '4', '7021907': '16'}, '1003354': {'1027376': '4', '1050748': '9', '1061172': '10', '1061173': '10', '1061176': '3', '1061177': '4', '1061178': '6', '1061179': '7', '1062566': '10', '1068191': '2', '1070646': '3', '1070647': '3', '1221403': '2', '1221426': '9', '1221433': '2', '1221435': '9', '2034819': '9', '2039803': '4', '2067169': '11', '5309397': '277', '5311686': '10', '6025612': '274', '6025614': '8'}, '1003364': {'1044679': '15', '1044680': '37', '1060058': '538', '1062566': '88', '1073767': '49', '1086263': '8', '1086265': '73', '1101132': '1', '1101192': '1', '1101438': '1', '1101476': '1', '1101732': '1', '1102250': '1', '6021153': '20', '6035129': '3'}, '1003368': {'1056983': '10', '2034819': '10'}, '1003379': {'1062566': '6'}, '1003398': {'6025473': '4', '6033224': '2'}, '1003405': {'1024101': '3', '1024446': '2', '1092343': '1', '1099031': '1', '1212037': '3', '1212038': '3', '2016178': '1', '2016179': '1', '2024352': '5', '2067169': '10', '5307082': '1', '6023140': '1'}, '1003423': {'1024101': '2', '1027375': '2', '1046207': '1', '1076397': '18', '1076398': '4', '1200575': '1', '1200698': '1', '1203923': '1', '1207652': '2', '1213761': '2', '1213762': '2', '1213767': '3', '1213768': '3', '2020214': '1', '2067169': '37', '2071542': '8', '2074406': '16', '2074797': '8', '6023140': '2', '6025615': '1'}, '1003430': {'1024446': '1', '1044338': '1', '1044680': '1'}, '1003442': {'1029490': '1', '1044338': '1', '1044680': '1', '1051487': '1', '1059966': '10', '1060056': '6', '1061172': '6', '1061173': '6', '1061174': '6', '1061175': '6', '1062281': '2', '1062332': '2', '1063095': '4', '1068191': '9', '1085665': '6', '1085666': '6', '1085900': '10', '1207514': '2', '1207661': '1', '1207883': '4', '1207885': '5', '1207887': '5', '1213718': '3', '1213743': '3', '1213750': '1', '1213751': '1', '1220874': '2', '1220887': '2', '2016178': '3', '2027728': '1', '2067169': '9', '2074098': '2', '5307084': '7', '5307090': '28', '5309314': '18', '5330389': '54', '6021153': '27', '6023135': '7', '6025448': '2', '6025614': '54', '6025644': '2', '6025652': '10', '6026691': '8', '6026695': '18', '6035129': '2'}, '1003446': {'1213760': '1', '1213763': '1', '2071542': '1', '2071576': '1'}, '1003516': {'1070122': '77'}, '1003525': {'1044680': '76', '1047717': '76', '1059860': '76', '1221427': '24', '1221430': '24', '1221436': '24', '1221439': '24', '2067169': '48'}, '1003540': {'1099013': '8', '1212024': '3', '1212025': '3', '2066603': '2', '2067169': '2'}, '1003554': {'1099027': '2'}, '1003575': {'1044255': '2', '1044339': '1', '1044631': '1', '1044680': '6', '1056984': '1', '1062333': '8', '1062899': '1', '1100851': '1', '1100889': '6', '1101139': '1', '1103397': '1', '1212062': '1', '1212063': '1', '2067169': '2', '2105663': '6', '6035129': '4', '6035131': '3', '7083084': '1'}, '1003585': {'1060058': '42'}, '1003638': {'1061176': '3', '1061177': '3', '1061178': '3', '1061179': '3'}, '1003644': {'1044680': '1', '1058668': '2', '1062332': '1', '1063094': '69', '1085900': '1', '1086263': '23', '1086264': '3', '1086265': '2', '1092343': '15', '1212005': '4', '1212018': '4', '1212024': '1', '1212025': '1', '1212026': '5', '1212027': '6', '1212028': '7', '1212029': '7', '1212030': '5', '1212031': '2', '1212032': '2', '1212049': '2', '1212050': '2', '1212070': '5', '2067169': '34', '2099265': '1', '5307084': '158', '5308938': '15', '6023140': '173'}, '1003662': {'1061172': '7', '1061173': '7', '1061174': '16', '1061175': '16', '1213761': '4', '1213762': '4', '2067169': '4'}, '1003670': {'1213763': '1', '1213764': '1', '2067169': '1', '5309314': '2', '6025629': '2'}, '1003698': {'1059966': '10'}, '1003714': {'1059965': '8', '1060063': '1', '1061176': '5', '1061177': '5', '1061178': '6', '1061179': '6', '1062566': '3', '1068191': '35', '1070646': '1', '1070647': '1', '1085665': '4', '1085666': '4', '1085667': '27', '1085668': '27', '1085899': '15', '1085900': '3', '1085901': '1', '1213763': '2', '1213764': '2', '2099265': '2', '5307083': '3', '5307084': '10', '5307090': '16', '5308825': '2', '5309719': '16', '5311686': '15', '5311687': '21', '5311688': '1', '5330389': '4', '6023140': '32', '6025614': '27'}, '1003725': {'1024448': '1', '1056986': '9', '2033362': '1', '2034879': '8', '2034880': '2', '2039857': '10', '2039858': '10', '6042893': '9'}, '1003742': {'1085665': '65', '1085666': '65'}, '1003820': {'1060058': '1', '1081529': '2', '1085899': '1', '1213767': '1', '1213768': '1', '2033412': '2', '2034879': '2', '2067169': '1', '6026692': '3', '6035129': '1'}, '1003846': {'5309314': '2', '5309397': '2', '6025614': '2'}, '1003847': {'1019228': '1', '1019229': '1', '2020214': '2'}, '1003868': {'1044008': '1', '1221071': '1', '1221082': '1', '2046196': '2', '2074098': '2', '6035129': '1'}, '1003869': {'1085899': '31', '1085900': '50', '1104676': '25', '1213759': '31', '1213760': '31', '2067169': '32', '5309052': '9', '6021153': '4'}, '1003902': {'1042097': '1', '1215799': '1', '1215800': '1', '1215831': '12', '1215832': '12', '1215844': '6', '1215845': '6', '1215846': '3', '1215847': '3', '2077387': '20', '2077389': '20', '2077390': '20', '6035137': '1'}, '1003914': {'1060059': '9', '1061172': '6', '1061173': '6', '1061174': '9', '1061175': '9', '1061176': '3', '1061177': '3', '1061178': '3', '1061179': '3', '1062281': '300', '1063094': '4', '1068191': '2', '1070644': '4', '1070645': '4', '1070646': '1', '1070647': '1', '1083245': '2', '1083247': '2', '1213757': '6', '1213758': '6', '1213765': '5', '1213766': '5', '2067169': '9', '2074098': '4', '4076417': '1', '5309314': '7', '5311686': '19', '6025471': '12', '6025614': '19', '6025670': '7', '6026691': '5', '6026698': '2'}, '1003949': {'1016296': '1', '5330389': '2', '6025470': '7', '6025614': '2'}, '1003997': {'1056983': '1', '2033362': '1'}, '1004064': {'1016296': '1', '1019228': '2', '1041174': '3', '1059966': '10', '1060847': '8', '1061176': '3', '1076398': '1', '1200555': '1', '1200572': '1', '2028369': '1', '2028370': '1', '2041148': '1', '2045401': '4', '2046045': '2', '2067169': '29', '2071542': '16', '2077387': '8', '2099264': '8', '4040561': '1', '5309052': '3', '6025470': '4', '6025472': '10', '6025614': '17', '6025615': '1', '6027946': '6', '6035421': '2'}, '1004077': {'1068191': '61', '1099015': '2', '1099019': '3', '1099030': '5', '1099031': '6', '1213760': '1', '1213763': '7', '1213764': '7', '1213767': '3', '1213768': '3', '1216676': '1', '1216677': '1', '2067169': '16'}, '1004081': {'1085900': '1', '5311686': '5', '6025655': '5'}, '1004111': {'1073015': '285', '1085899': '1', '1221407': '1', '1221408': '1'}, '1004137': {'7083088': '1'}, '1004139': {'1060059': '13', '1212017': '2', '1212019': '2', '2028204': '1', '2039803': '5', '7083088': '2'}, '1004149': {'1044255': '1', '1044338': '1', '1044679': '1', '1044680': '10', '1060063': '3'}, '1004150': {'1060058': '35', '1060845': '3', '1085673': '2', '1085674': '2', '5309718': '17', '5311686': '17', '5334125': '50', '6025614': '17'}, '1004198': {'1005784': '8', '1048539': '4', '1048540': '4', '1060065': '5', '1081529': '6', '1212026': '3', '1212027': '3', '1212028': '4', '1212029': '4', '1212058': '2', '1212059': '2', '2034819': '6', '2067169': '9', '5309397': '25', '5311686': '5', '6035129': '1', '6035137': '2'}, '1004202': {'1093276': '164', '2074407': '82', '2074797': '82'}, '1004243': {'1085665': '1', '1085666': '1'}, '1004280': {'5311686': '4', '6025614': '4'}, '1004287': {'1102066': '1', '6035129': '5'}, '1004288': {'1051487': '1', '1059966': '6'}, '1004289': {'1016296': '5', '1041174': '42', '1056985': '4', '1061176': '75', '1061177': '78', '1061178': '80', '1061179': '80', '1062566': '237', '1068191': '110', '1070646': '2', '1070647': '2', '1078080': '8', '1081529': '2', '1200555': '21', '1200572': '21', '1212005': '1', '1212018': '1', '1212026': '3', '1212027': '3', '1212053': '7', '1212056': '4', '1212057': '4', '1212071': '7', '1213757': '4', '1213758': '4', '1213767': '1', '1213768': '1', '1213771': '4', '1213772': '4', '1213775': '1', '1213776': '1', '1216320': '4', '1216321': '4', '1221402': '7', '1221403': '3', '1221404': '7', '1221425': '3', '1221426': '1', '1221428': '3', '1221429': '1', '1221430': '1', '1221433': '3', '1221434': '3', '1221435': '1', '1221437': '3', '1221438': '1', '1221439': '1', '2033362': '2', '2034879': '4', '2034880': '2', '2039803': '3', '2045401': '26', '2046045': '42', '2066603': '4', '2067169': '40', '4040561': '4', '4071409': '1', '6035129': '1'}, '1004309': {'1018733': '2', '1018734': '2', '1019168': '1', '1019169': '1', '1019338': '1', '1027375': '1', '1029438': '1', '1029439': '1', '1029532': '1', '1029533': '1', '1044680': '14', '1048539': '1', '1059966': '5', '1060056': '5', '1060058': '10', '1060059': '5', '1060847': '8', '1061176': '4', '1061177': '4', '1061178': '18', '1061179': '15', '1062280': '3', '1062566': '19', '1062676': '5', '1068191': '8', '1070646': '3', '1070647': '3', '1085899': '2', '1200558': '1', '1200575': '1', '1200585': '1', '1207660': '1', '1207679': '1', '1207684': '1', '1207815': '2', '1208062': '1', '1212058': '3', '1212059': '3', '1213759': '4', '1213760': '4', '1213765': '2', '1213766': '2', '1220921': '1', '1220932': '1', '2020061': '2', '2020204': '2', '2021298': '4', '2022826': '3', '2024352': '1', '2027735': '11', '2028369': '1', '2033362': '1', '2034820': '8', '2034880': '10', '2039803': '34', '2044431': '2', '2044459': '4', '2046390': '2', '2067169': '11', '2071543': '2', '5307085': '2', '5307090': '3', '5309052': '4', '5309314': '5', '5311688': '3', '5311694': '5', '5326189': '2', '6012699': '4', '6021091': '2', '6023135': '3', '6023140': '4', '6025448': '1', '6025470': '5', '6025473': '2', '6025612': '5', '6025615': '6', '6025618': '5', '6025622': '3', '6025631': '2', '6025632': '8', '6025644': '1', '6025652': '1', '6025655': '1', '6026691': '14', '6026694': '13', '6026695': '8', '6027894': '2', '6027946': '5', '6033225': '2', '6035037': '2', '6035129': '1', '6035130': '1', '6035136': '5', '6035417': '1', '6035418': '5', '6035420': '2', '6035421': '2', '6035422': '2', '6035423': '2', '6035424': '3', '6035429': '12', '6035430': '12', '6035517': '1', '6045183': '1', '6045206': '1', '6051883': '4'}, '1004310': {'1044339': '1', '1044679': '1', '1062899': '1', '2034819': '2', '6035129': '2'}, '1004311': {'1016296': '1', '4071409': '1', '6035129': '1'}, '1004367': {'1063095': '2', '1102000': '1'}, '1004374': {'1068191': '16'}, '1004407': {'1027375': '1', '1200616': '1', '1200622': '1', '1213767': '2', '1213768': '2', '2067169': '2', '6035129': '1'}, '1004428': {'1026842': '1', '1028463': '1', '1073264': '92', '1099242': '65', '1200686': '1', '2027782': '1', '2031065': '1', '2033673': '1', '6026500': '2'}, '1004477': {'1044680': '1', '1058388': '1', '1058668': '1', '1069625': '1', '1085898': '1', '2071627': '1', '6035129': '1'}, '1004483': {'1213739': '1', '1213755': '1', '2067169': '1'}, '1004488': {'1085665': '2', '1085666': '2'}, '1004503': {'1044627': '2', '1044679': '22', '1044680': '52', '1047717': '23', '1051487': '2', '1051987': '15', '1059860': '17', '1059966': '2', '1062266': '5', '1062267': '5', '1062270': '1', '1062271': '3', '1062280': '10', '1062566': '2', '1068191': '13', '1085898': '2', '1085899': '2', '1212041': '1', '1212042': '1', '1221403': '1', '1221412': '4', '1221419': '4', '1221425': '3', '1221429': '12', '1221433': '1', '1221434': '3', '1221438': '12', '2034879': '1', '2034880': '2', '2039857': '1', '2039858': '1', '2067169': '23', '2069385': '5', '6035129': '1'}, '1004517': {'1221425': '1', '1221426': '6', '1221434': '1', '1221435': '6', '2067169': '7', '5311686': '1', '6025614': '4'}, '1004521': {'1068191': '22', '1085899': '11', '1213763': '11', '1213764': '11', '2067169': '11', '5309719': '25', '5311688': '25', '6025615': '25'}, '1004530': {'7083088': '1'}, '1004534': {'1024101': '1', '1024445': '62', '1024446': '37', '1073108': '49', '1073112': '1', '1073114': '2', '1073116': '30', '1076398': '6', '1083634': '2', '1212051': '4', '1212052': '4', '1212060': '92', '1212061': '92', '2016178': '100', '2024352': '84', '2031065': '78', '2048455': '18', '2067169': '96', '2074406': '2', '6035129': '5', '7083088': '1'}, '1004537': {'2027735': '10'}, '1004543': {'5311683': '4', '5311686': '4', '6025618': '4'}, '1004549': {'1068191': '1', '1085900': '46'}, '1004566': {'1029491': '15', '1044631': '1', '1044679': '1', '1044680': '3', '1047717': '1', '1056984': '6', '1058388': '1', '1059860': '1', '1062333': '1', '1062899': '1', '1073015': '2', '2024352': '15', '2033362': '6', '2077818': '1', '2094981': '1', '6033232': '1', '6035129': '4', '6035137': '2'}, '1004600': {'1019170': '2', '1022925': '2', '1212030': '1', '1212070': '1', '6025473': '3'}, '1004612': {'1213765': '1', '1213766': '1', '2067169': '1'}, '1004616': {'1018741': '2', '1018742': '2', '1018916': '1', '1024446': '2', '1027376': '2', '1044627': '1', '1044680': '6', '1052662': '1', '1058668': '1', '1060058': '66', '1060059': '2', '1060062': '4', '1060847': '1', '1061176': '4', '1061177': '4', '1061178': '4', '1061179': '4', '1062566': '1', '1068191': '25', '1070118': '2', '1081529': '68', '1085665': '4', '1085666': '4', '1085899': '1', '1085900': '100', '1200558': '1', '1200686': '1', '1212017': '5', '1213718': '3', '1213739': '6', '1213743': '3', '1213744': '3', '1213745': '3', '1213746': '3', '1213747': '3', '1213752': '1', '1213753': '1', '1213755': '6', '1213757': '7', '1213758': '7', '1213759': '12', '1213760': '12', '1213761': '13', '1213762': '13', '1213765': '12', '1213766': '12', '1213767': '5', '1213768': '5', '1213769': '1', '1213770': '1', '1213771': '1', '1213772': '1', '1213775': '1', '1213776': '1', '2020204': '12', '2027735': '5', '2031065': '4', '2034819': '68', '2046201': '1', '2066603': '8', '2067169': '12', '5307084': '21', '5309397': '2', '5309718': '2', '5311684': '2', '5311686': '2', '5311837': '2', '5320532': '1', '5320813': '2', '5330389': '26', '6023140': '21', '6025473': '3', '6025614': '42', '6025615': '4', '6025644': '1'}, '1004626': {'6035143': '5'}, '1004642': {'1056984': '4', '2033412': '4', '2039803': '1', '6025470': '4', '6035129': '4'}, '1004681': {'1085900': '3', '1212030': '8', '1212031': '0', '1212032': '0', '1212033': '3', '1212034': '3', '1212070': '8', '2067169': '11'}, '1004695': {'1099015': '1', '1099016': '1', '5309052': '4', '5309719': '4'}, '1004702': {'1056983': '20', '2034819': '20'}, '1004704': {'1068191': '5', '1085671': '13', '1085672': '13', '1085673': '3', '1085674': '3', '1085899': '10', '1098989': '2', '1099012': '1', '1099013': '3', '1099031': '2', '1099033': '10', '1212005': '2', '1212018': '2', '1212026': '2', '1212027': '2', '1212030': '1', '1212060': '1', '1212061': '1', '1212062': '2', '1212063': '2', '1212070': '1', '1213759': '2', '1213760': '2', '1213763': '15', '1213764': '15', '1213767': '3', '1213768': '3', '1220649': '4', '1220676': '4', '2066603': '14', '2067169': '41', '2077387': '8'}, '1004707': {'1016296': '1', '1024446': '2', '1056983': '2', '1068191': '19', '1076397': '1', '1212049': '1', '1212050': '1', '1221407': '4', '1221408': '4', '1221428': '2', '1221437': '2', '2016178': '2', '2027728': '2', '2034820': '2', '2034879': '2', '2067169': '8', '4071409': '1', '5311687': '6', '6025612': '2', '6025614': '3', '6035129': '1', '6035136': '1', '6035137': '1'}, '1004723': {'1016296': '1', '2027735': '22', '4033016': '1'}, '1004773': {'1060065': '8', '1068191': '2', '1220072': '1', '1220073': '1'}, '1004797': {'2039803': '20', '6025470': '12'}, '1004809': {'1051487': '4', '1060058': '4', '1085667': '2', '1085668': '2', '2034880': '4', '6025471': '5'}, '1004818': {'1212028': '1', '1212029': '1'}, '1004829': {'1085665': '2', '1085666': '2', '1085667': '16', '1085668': '16', '1085671': '1', '1085672': '1'}, '1004870': {'1085900': '1', '5330389': '32', '6025614': '32'}, '1004876': {'1099030': '4', '1099238': '1'}, '1004911': {'1024102': '2', '1043749': '2', '1043802': '2', '1044629': '2', '1044680': '2', '1046207': '6', '1046209': '1', '1047533': '3', '1047717': '2', '1059554': '2', '1203798': '1', '1207655': '1', '1207674': '1', '1212024': '1', '1212025': '1', '1212026': '7', '1212027': '7', '1212028': '1', '1212029': '1', '1212033': '1', '1212034': '1', '1212035': '1', '1212036': '1', '1212051': '1', '1212052': '1', '1212053': '1', '1212060': '2', '1212061': '2', '1212064': '1', '1212065': '1', '1212071': '1', '2027735': '41', '2034820': '1', '2039803': '5', '6025644': '1', '6038239': '1'}, '1004933': {'1060058': '20', '1068191': '1', '1070117': '4', '1083567': '1', '2066603': '6', '6035137': '5', '6044607': '1', '6051884': '2'}, '1004951': {'1060058': '1', '1085899': '1', '1213750': '1', '1213751': '1', '2067169': '1'}, '1004961': {'1212005': '2', '1212018': '2', '1212058': '1', '1212059': '1', '1212062': '1', '1212063': '1', '1220648': '1', '1220661': '1', '2067169': '5', '2077387': '2', '5307082': '4', '5307083': '3', '6023135': '2', '6023140': '5'}, '1004968': {'1081529': '2', '2033362': '2', '2034879': '5', '6035129': '1'}, '1004997': {'1212049': '1', '1212050': '1', '1212056': '1', '1212057': '1', '2020214': '1', '2067169': '1'}, '1005005': {'6035137': '56'}, '1005018': {'1024446': '1', '1085669': '1', '1085670': '1', '1099031': '1', '1221426': '6', '1221427': '4', '1221435': '6', '1221436': '4', '2016178': '1', '2016179': '1', '2016180': '1', '2027727': '1', '2067169': '10', '6035129': '1'}, '1005042': {'1059966': '16', '1060065': '1', '1062676': '1', '5307084': '2', '5309719': '2', '5311687': '2', '6023140': '2', '6025614': '2'}, '1005056': {'1060058': '17', '1085899': '12', '1085900': '6'}, '1005060': {'1060065': '3', '1062566': '12'}, '1005075': {'4033016': '1'}, '1005084': {'5311686': '1', '5311687': '1', '6025612': '1'}, '1005086': {'1018729': '1', '1018762': '1', '1041174': '2', '1085665': '1', '1085666': '1', '1085669': '3', '1085670': '3', '2046045': '1', '2046196': '1', '2046438': '3', '4057286': '1'}, '1005115': {'1044255': '4', '1044339': '3', '1044679': '4', '1044680': '5', '1076932': '1', '1084582': '2', '2034880': '2', '5311688': '2', '6021750': '1', '6025615': '2'}, '1005136': {'1044338': '1', '1044627': '1', '1044679': '2', '1044680': '2', '1059965': '1', '1059966': '15', '1060058': '1', '1060065': '16', '1060847': '1', '1061172': '1', '1061173': '1', '1061174': '1', '1061175': '1', '1061176': '4', '1062566': '1', '1062676': '2', '1062899': '1', '1063095': '3', '1063097': '2', '1073015': '6', '2020204': '16', '2020214': '2', '2034879': '1', '2039857': '2', '2045403': '2', '2067169': '12', '5311686': '17', '5320533': '20', '6025612': '1', '6025614': '11', '6025622': '10', '6025632': '2', '6035129': '3', '6050836': '6', '7021907': '3'}, '1005140': {'1102207': '1', '1105416': '1', '1106419': '1', '7083091': '1'}, '1005151': {'1085667': '3', '1085668': '3', '1213763': '1', '1213764': '1', '2067169': '1'}, '1005164': {'1016296': '1', '1027202': '2', '1028463': '2', '1056985': '8', '1200678': '2', '2031065': '8', '2034880': '8', '2039857': '8', '5312082': '132', '5312084': '1', '5326444': '2', '5326445': '2', '6035136': '32', '6035143': '2', '6035417': '66', '6035418': '66', '6050836': '32'}, '1005181': {'1085899': '1', '1085900': '4', '1213759': '2', '1213760': '2', '2067169': '2'}, '1005194': {'1221414': '1', '1221421': '1', '1221429': '3', '1221438': '3', '2067169': '4'}, '1005211': {'2027735': '3'}, '1005228': {'1051487': '14', '1060064': '24', '1076398': '1', '1085900': '4', '2034879': '14', '2067169': '7', '2074406': '1', '5309397': '9', '6025470': '15', '6025472': '3', '6025614': '9', '6035037': '1', '6035039': '1', '6035129': '1', '6054121': '1'}, '1005244': {'1062566': '2'}, '1005255': {'1070117': '60', '1085665': '1', '1085666': '1', '1085899': '52', '1207653': '8', '1212024': '1', '1212025': '1', '1212028': '2', '1212029': '2', '1213739': '17', '1213755': '17', '1213759': '27', '1213760': '27', '2046445': '3', '2066603': '2', '2067169': '48', '6025470': '3'}, '1005283': {'1063094': '3', '1085667': '1', '1085668': '1', '1212051': '3', '1212052': '3', '1213739': '1', '1213755': '1', '1213761': '1', '1213762': '1', '2020204': '2', '2066603': '2', '2067169': '1', '2099265': '3', '5307084': '2', '5311688': '1', '6023135': '2', '6025612': '4', '6025615': '1'}, '1005293': {'1019261': '1', '1019262': '1', '1044255': '1', '1062280': '1', '1068191': '1', '1070120': '2', '1073776': '2', '1085665': '3', '1085666': '3', '1085669': '4', '1085670': '4', '1085671': '4', '1085672': '4', '1085899': '1', '1086118': '1', '1086119': '1', '1099029': '1', '1200566': '3', '1200583': '3', '1213767': '1', '1213768': '1', '1220064': '1', '1220065': '1', '1221407': '2', '1221408': '2', '2020214': '1', '2024263': '1', '2045401': '3', '2046045': '6', '2046196': '2', '2067169': '4', '4031608': '6', '5309313': '20', '5309516': '24', '5311686': '1', '6025470': '3', '6025612': '6', '6025670': '5'}, '1005301': {'1068191': '1'}, '1005332': {'1059966': '8', '1061176': '1', '1061177': '1', '1061178': '1', '1061179': '1', '1062280': '2', '1085899': '30', '5330389': '14'}, '1005361': {'1061172': '1', '1061173': '1', '1085899': '1'}, '1005363': {'1019152': '2', '1019153': '2', '1019198': '3', '1019199': '3', '1019204': '1', '1019294': '2', '1019295': '2', '1019366': '1', '1024101': '3', '1024445': '5', '1027375': '2', '1027376': '1', '1029489': '4', '1029490': '2', '1044627': '2', '1044680': '4', '1047717': '2', '1056983': '2', '1059860': '2', '1059966': '6', '1062267': '3', '1067915': '1', '1076397': '12', '1084584': '1', '1100517': '1', '1104676': '9', '1212017': '1', '1212019': '1', '1212024': '3', '1212025': '2', '1212035': '2', '1212036': '2', '1212037': '12', '1212038': '12', '1212047': '2', '1212048': '2', '1212049': '30', '1212050': '30', '1212051': '34', '1212052': '34', '1212053': '31', '1212054': '10', '1212055': '10', '1212056': '33', '1212057': '33', '1212058': '1', '1212059': '1', '1212062': '13', '1212063': '13', '1212064': '13', '1212065': '14', '1212071': '31', '1213718': '1', '1213743': '1', '1213757': '5', '1213758': '5', '1213759': '5', '1213760': '5', '1213761': '2', '1213762': '2', '1213765': '1', '1213766': '1', '1213767': '74', '1213768': '74', '1213775': '4', '1213776': '4', '1216312': '1', '1216313': '1', '1216327': '1', '1220066': '1', '1220067': '1', '2016180': '4', '2020214': '4', '2027727': '2', '2027735': '1', '2028369': '10', '2034820': '1', '2034880': '2', '2067169': '217', '2071576': '1', '2077387': '2', '2099265': '30', '2102844': '1', '4071409': '4', '6025470': '3', '6035129': '5', '6035130': '4', '7083088': '1', '7083089': '1'}, '1005384': {'1044679': '2', '1044680': '3', '1051487': '3', '1058668': '1', '1059966': '22', '1060059': '38', '1060060': '10', '1060848': '8', '1068191': '15', '1078497': '1', '1080876': '1', '1081529': '26', '1085900': '4', '1086263': '1', '1212024': '1', '1212025': '1', '1212028': '1', '1212029': '1', '1212049': '2', '1212050': '2', '1212054': '2', '1212055': '2', '1213718': '2', '1213743': '2', '1213744': '2', '1213745': '2', '1213771': '3', '1213772': '3', '1221403': '1', '1221413': '2', '1221414': '2', '1221420': '2', '1221421': '2', '1221425': '1', '1221427': '2', '1221428': '2', '1221429': '3', '1221433': '1', '1221434': '1', '1221436': '2', '1221437': '2', '1221438': '3', '2020204': '4', '2027728': '2', '2027735': '5', '2033414': '26', '2066603': '9', '2067169': '49', '5307083': '2', '5307084': '13', '5308764': '2', '5309314': '15', '5309397': '241', '5309718': '15', '5320533': '12', '5326829': '1', '5330389': '4', '6021091': '2', '6021153': '12', '6021750': '2', '6023434': '1', '6025448': '3', '6025470': '1', '6025614': '216', '6025655': '4', '6026691': '53', '6026693': '13', '6026695': '15', '6027943': '6', '6035129': '4', '6035130': '1', '6051882': '1'}, '1005385': {'1081529': '2', '1085899': '4', '1212051': '2', '1212052': '2', '2034819': '2', '2034880': '2', '2099265': '2', '6035129': '1'}, '1005386': {'1027375': '9', '1027376': '3', '1027377': '11', '1052662': '1', '1062267': '1', '1062271': '1', '1208062': '1', '2028369': '1', '2045071': '2', '6023135': '1'}, '1005389': {'1018902': '1', '1018903': '1', '1019222': '3', '1019223': '3', '1026842': '2', '1200682': '2', '2020204': '1', '2020214': '3'}, '1005403': {'1060058': '2', '1068191': '2', '1081529': '1', '1085667': '6', '1085668': '6', '1207511': '160', '1207514': '6', '1213757': '2', '1213758': '2', '1221411': '2', '1221418': '2', '2033362': '1', '2034879': '1', '2067169': '4', '6035129': '2'}, '1005405': {'1016296': '2', '1044627': '1', '1044628': '1', '1044680': '1', '1059860': '1', '1059966': '27', '1085899': '16', '1101120': '1', '1101474': '1', '1102294': '1', '1102517': '1', '1102971': '1', '1212017': '3', '1212019': '3', '1212047': '2', '1212048': '2', '1212053': '15', '1212054': '5', '1212055': '5', '1212056': '1', '1212057': '1', '1212071': '15', '1213757': '8', '1213758': '8', '2028204': '4', '2034819': '2', '2035493': '2', '2039803': '1', '2067169': '34', '4071409': '2', '6025670': '3', '6026691': '1', '6035137': '4'}, '1005414': {'1085671': '3', '1085672': '3', '2020204': '1', '5307084': '21', '5319015': '21', '6027946': '2', '6027952': '21'}, '1005442': {'1062265': '2', '1212053': '1', '1212071': '1'}, '1005456': {'1019214': '1', '1019215': '1', '1042097': '2', '1044255': '1', '1044338': '1', '1044679': '1', '1044680': '4', '1060058': '1', '1212064': '20', '1212065': '20', '2052136': '4', '2067169': '20', '5311683': '9', '5320693': '1', '6025620': '7', '6037323': '1'}, '1005460': {'1060061': '7'}, '1005467': {'1062566': '30', '1085900': '8', '6035129': '1'}, '1005487': {'1016296': '2', '1056982': '1', '1061172': '1', '1061174': '1', '1063097': '5', '1068191': '6', '1070644': '1', '1085667': '49', '1085668': '49', '1085673': '1', '1085674': '1', '1085900': '5', '1213738': '1', '1213754': '1', '1213771': '2', '1213772': '2', '2016178': '5', '2016179': '4', '2020061': '4', '2020204': '11', '2048430': '1', '2067169': '5', '2075042': '3', '5311686': '2', '5330389': '1', '6023140': '1', '6025470': '1', '6025614': '9'}, '1005492': {'1060063': '2', '1090999': '22', '6034309': '23'}, '1005514': {'1060058': '8', '1213739': '3', '1213755': '3', '1213759': '6', '1213760': '6', '1213763': '5', '1213764': '5', '2067169': '14'}, '1005544': {'1060056': '2'}, '1005567': {'1212030': '2', '1212070': '2', '2067169': '3', '5307082': '1', '6023135': '1'}, '1005576': {'1051487': '1', '1085667': '1', '1085668': '1', '2028204': '1', '2034879': '2', '2039857': '2', '5309314': '8', '6026695': '4'}, '1005588': {'1106487': '1', '1207652': '4', '1212030': '0', '1213763': '1', '1213764': '1', '2067169': '1', '6035129': '2', '6045210': '36'}, '1005603': {'1213763': '2', '1213764': '2', '1220064': '3', '1220065': '3', '2067169': '2', '2096939': '1', '5307086': '6', '6012699': '6', '6035037': '2'}, '1005604': {'1059966': '6'}, '1005618': {'1212028': '2', '1212029': '2', '1212039': '2', '1212040': '2', '2066603': '8'}, '1005628': {'1221411': '1', '1221418': '1', '2067169': '1'}, '1005629': {'1076398': '8', '1085898': '8', '5307083': '3', '6054121': '1'}, '1005640': {'2016178': '8'}, '1005642': {'1056985': '1', '2027735': '2', '2039803': '2'}, '1005645': {'1024101': '13', '1029489': '14', '2028369': '3'}, '1005651': {'1056983': '20', '2034819': '17', '6035129': '4'}, '1005659': {'1076398': '4', '1212024': '14', '1212025': '14', '1212064': '23', '1212065': '23', '2067169': '37', '6025470': '4'}, '1005665': {'1085669': '10', '1085670': '10'}, '1005666': {'2020204': '43', '6025615': '2'}, '1005678': {'1062281': '18'}, '1005701': {'1016296': '1', '1048539': '5', '1048540': '5', '1056984': '2', '1085669': '119', '1085670': '119', '1085673': '2', '1085674': '2', '2020204': '16', '2034819': '2', '2034880': '2', '4040561': '1', '5307085': '8', '6021153': '8', '6035129': '1', '6035136': '15'}, '1005707': {'1026842': '1'}, '1005745': {'1098989': '7', '1099029': '2', '1221403': '4', '1221425': '3', '1221430': '1', '1221433': '4', '1221434': '3', '1221439': '1', '2067169': '8'}, '1005749': {'1085671': '1', '1085672': '1'}, '1005756': {'1062265': '1'}, '1005776': {'1019160': '2', '1019161': '2', '1060058': '1', '1085899': '19', '1099018': '1', '1207506': '10', '1207660': '2', '1212028': '1', '1212029': '1', '1212030': '8', '1212054': '1', '1212055': '1', '1212070': '8', '2020214': '2', '2034880': '3', '2046398': '7', '2057153': '1', '2067169': '10', '5311688': '2', '6025470': '10', '6025472': '7', '6025615': '2', '6035129': '1'}, '1005780': {'1085673': '9', '1085674': '9', '1085900': '7', '2020204': '9'}, '1005812': {'1016296': '1', '1081529': '2', '1083242': '6', '1083244': '6', '2033412': '2', '2034879': '2', '2067169': '7', '4071409': '1', '5314068': '8', '6035421': '4', '6035422': '5'}, '1005816': {'1085669': '4', '1085670': '4'}, '1005817': {'1016296': '2', '1092343': '1', '1213739': '10', '1213755': '10', '1213765': '63', '1213766': '63', '2066603': '118', '2067169': '10', '4071409': '2', '5308938': '1', '6023140': '1'}, '1005841': {'6026500': '40', '6026529': '40'}, '1005864': {'1060061': '18'}, '1005889': {'1085669': '5', '1085670': '5', '1212049': '2', '1212050': '2', '2020204': '5', '2067169': '2', '5330389': '1', '6025470': '3', '6025612': '1'}, '1005892': {'1085665': '3', '1085666': '3', '1085667': '26', '1085668': '26', '1085669': '2', '1085670': '2'}, '1005894': {'1085669': '6', '1085670': '6', '1085671': '1', '1085672': '1', '1213759': '5', '1213760': '5', '2067169': '5', '6026691': '1', '6035136': '1'}, '1005897': {'5311688': '1', '5311837': '7', '6025615': '18'}, '1005907': {'1044630': '3', '1044680': '36', '1047717': '3', '1059860': '3', '1068191': '25', '1212028': '1', '1212029': '1', '1212051': '1', '1212052': '1', '1212058': '2', '1212059': '2', '1213759': '4', '1213760': '4', '1213763': '4', '1213764': '4', '1213767': '2', '1213768': '2', '2067169': '12', '2099265': '16', '5307082': '17', '5308764': '14', '5311686': '2', '5311691': '1', '5320813': '3', '5330389': '9', '6021091': '9', '6023434': '14', '6025614': '9', '6025615': '3', '6025655': '2'}, '1005909': {'1019154': '2', '1019155': '2', '1019158': '2', '1019159': '2', '1019202': '4', '1019203': '4', '1019974': '4', '1024102': '1', '2016178': '1', '2020214': '12', '2023865': '1', '2031155': '2', '6035129': '1'}, '1005917': {'1019196': '2', '1019197': '2', '1029490': '8', '1044629': '4', '1044630': '1', '1044679': '6', '1056984': '1', '1058668': '2', '1086265': '3', '1212026': '4', '1212027': '4', '1212030': '4', '1212070': '4', '1213757': '3', '1213758': '3', '1213759': '10', '1213760': '10', '1213765': '3', '1213766': '3', '1213769': '6', '1213770': '6', '2024352': '8', '2027735': '5', '2067169': '30', '5307082': '26', '5307085': '16', '6023135': '42', '6025470': '2', '6035129': '1'}, '1005918': {'1090999': '29', '5307084': '-17', '6034309': '258'}, '1005927': {'2020204': '60'}, '1005946': {'1203794': '1', '1203800': '1', '2031065': '1', '2047443': '1', '6021750': '1'}, '1005954': {'1024446': '3', '1028463': '3', '1029489': '7', '1041180': '3', '1076398': '11', '1090047': '9', '1200558': '7', '1200575': '7', '1200678': '3', '2016178': '6', '2027728': '3', '2028370': '4', '2046196': '25', '2046291': '22', '2074406': '10', '2074797': '8', '4031608': '25', '6035129': '1', '6054121': '7'}, '1005963': {'7083088': '2'}, '1005992': {'6025471': '17'}, '1005993': {'1068191': '1', '5311687': '11', '5330389': '10', '6025614': '21'}, '1006026': {'2016178': '3'}, '1006049': {'5307084': '1', '5311686': '8', '5311687': '8', '6023140': '1', '6025614': '8'}, '1006075': {'1085898': '20', '1200678': '1', '1220639': '10', '1220640': '10', '1220664': '10', '1220665': '10', '2045401': '4', '2051114': '2', '2067169': '20', '2077387': '20', '2093652': '20'}, '1006107': {'1019230': '1', '1019231': '1', '1019990': '1', '1044255': '1', '1044338': '1', '1044680': '1', '1061172': '2', '1061173': '2', '1061174': '2', '1061175': '2', '1061176': '2', '1061177': '2', '1070644': '1', '1070645': '1', '1085665': '14', '1085666': '14', '1085667': '9', '1085668': '9', '1085669': '12', '1085670': '12', '1085671': '3', '1085672': '3', '1085898': '20', '1200616': '1', '1200622': '1', '1203914': '1', '1203916': '1', '1212005': '1', '1212018': '1', '1213739': '2', '1213755': '2', '1213757': '4', '1213758': '4', '1213765': '1', '1213766': '1', '1213767': '2', '1213768': '2', '1213771': '1', '1213772': '1', '2016178': '1', '2027725': '2', '2067169': '9', '5309718': '35', '5311686': '1', '5330389': '85', '6025470': '8', '6025612': '35', '6025614': '51', '6027946': '4', '6035421': '1'}, '1006130': {'1063094': '24', '5307084': '65', '6023135': '65'}, '1006158': {'1051487': '17', '1056983': '6', '1056985': '5', '1084583': '2', '1085665': '15', '1085666': '15', '2033362': '4', '6025473': '1', '6035129': '1'}, '1006160': {'1056985': '2', '2034880': '2', '6035129': '2'}, '1006169': {'1019150': '1', '1019151': '1', '1213761': '1', '1213762': '1', '2045070': '2', '2045071': '2', '2067169': '1'}, '1006196': {'1085671': '1', '1085672': '1', '5307082': '2', '5309052': '2', '6023135': '4'}, '1006203': {'1026842': '2', '1028463': '2', '1200561': '1', '1200686': '1', '6021750': '1'}, '1006212': {'6035422': '3'}, '1006223': {'1016296': '1', '1061176': '3', '1061177': '2', '1068191': '1', '1070646': '2', '1070647': '2', '1212060': '3', '1212061': '3', '2067169': '9', '2082101': '6', '2099264': '4', '4071409': '1'}, '1006228': {'1060059': '290', '1085899': '130', '1085900': '70', '1207512': '4', '1221402': '20', '1221404': '20', '1221407': '11', '1221408': '11', '1221411': '11', '1221412': '15', '1221413': '2', '1221415': '2', '1221418': '11', '1221419': '15', '1221420': '2', '1221422': '2', '2046398': '8', '2047004': '4', '2067169': '90', '6025471': '8'}, '1006234': {'1076397': '43', '1081529': '1', '2034819': '1'}, '1006263': {'1085665': '849', '1085666': '849', '1085667': '909', '1085668': '910', '1085669': '422', '1085670': '458', '1085671': '4', '1085672': '4', '1085673': '1', '1085674': '1', '1213757': '2', '1213758': '2', '2099265': '8'}, '1006274': {'1213763': '1', '1213764': '1', '2067169': '1'}, '1006276': {'1024101': '1', '1056982': '1', '2020214': '3', '2024352': '1', '2027735': '1'}, '1006285': {'1060056': '14', '1062566': '6', '1085665': '10', '1085666': '10', '1085667': '14', '1085668': '14', '1085669': '1', '1085670': '1', '1085671': '1', '1085672': '1', '1085899': '2', '1085900': '2', '1085901': '2', '1091841': '19'}, '1006291': {'6033231': '3'}, '1006302': {'1085671': '2', '1085672': '2'}, '1006316': {'6025652': '2'}, '1006319': {'6025668': '6'}, '1006333': {'1016296': '1', '1018745': '1', '1018746': '1', '1053150': '1', '1059965': '4', '1060058': '25', '1060062': '4', '1061172': '1', '1061173': '1', '1063094': '2', '1200675': '1', '2027735': '4', '2034819': '1', '2039803': '30', '2066603': '6', '2074406': '9', '2099265': '1', '5307082': '1', '5307090': '1', '5309315': '9', '6023140': '3', '6025471': '1', '6026695': '3', '6027894': '1', '6035131': '1', '6035421': '6', '6035422': '6', '6035429': '1', '6035430': '1', '6045194': '1'}, '1006338': {'1044628': '1', '1060058': '7', '1060059': '5', '1212026': '1', '1212027': '1', '1213763': '3', '1213764': '3', '2067169': '4'}, '1006343': {'1062566': '30', '1104676': '35', '1212056': '54', '1212057': '54', '2067169': '61'}, '1006349': {'1062899': '4', '1085667': '1', '1085668': '1', '1085671': '1', '1085672': '1', '1085900': '2', '1086266': '2', '1099012': '1', '1099027': '1', '1099028': '1', '6025470': '1'}, '1006356': {'2034879': '4', '2039857': '4'}, '1006369': {'1213761': '8', '1213762': '8', '2047841': '1', '2067169': '8', '6021750': '1'}, '1006414': {'1076397': '1', '1215866': '1', '1215867': '1', '1215876': '1', '1215877': '1', '2067169': '2', '2074797': '1', '2077387': '2', '2093652': '2', '6035129': '1'}, '1006415': {'5307084': '8', '6023140': '20'}, '1006445': {'1044680': '2', '1058668': '2', '1060058': '4', '1060847': '4', '1062566': '8', '1062899': '2', '2099265': '4', '5307090': '2', '5309718': '2', '5330389': '2', '6023135': '1', '6023140': '2', '6025614': '1', '6025655': '1', '6035129': '1'}, '1006460': {'1044680': '1', '1060847': '1174', '1212026': '4', '1212027': '4', '1213739': '2', '1213755': '2', '1213763': '2', '1213764': '2', '2067169': '4', '5311687': '2', '6025612': '2', '6027892': '2', '6027893': '2', '6027943': '1'}, '1006463': {'2034879': '10', '2039857': '10', '2039858': '10'}, '1006465': {'5311687': '21', '5330389': '48', '6025612': '68'}, '1006472': {'1044255': '1', '1044339': '1', '1044680': '2', '1052439': '1', '1062899': '1', '1081529': '2', '1085898': '2', '1085900': '1', '2034820': '2', '2034880': '2', '2039857': '2', '2039858': '2', '2068353': '1', '2069284': '1', '6021750': '1', '6035129': '2', '6042892': '1'}, '1006478': {'1051487': '2', '1213759': '6', '1213760': '6', '2067169': '8'}, '1006496': {'1026842': '6', '1028463': '8', '1056982': '22', '1056984': '166', '1056985': '4', '1200685': '2', '1200686': '6', '2033362': '132', '2033411': '56', '2033805': '4', '2034879': '9', '2046725': '2', '2060711': '4', '5307083': '3', '5308825': '3', '5311686': '1', '6025471': '2', '6025614': '1', '6026690': '2', '6030489': '3', '6035129': '4', '7021907': '11'}, '1006497': {'1068191': '8', '1212054': '2', '1212055': '2', '2067169': '2', '5311688': '14', '6025615': '14'}, '1006524': {'1019160': '4', '1019161': '4', '1024445': '3', '1029489': '2', '1081529': '2', '1212037': '2', '1212038': '2', '1212056': '20', '1212057': '20', '1213771': '6', '1213772': '6', '1221429': '1', '1221438': '1', '2020214': '16', '2024352': '6', '2033362': '4', '2066603': '4', '2067169': '27', '4040561': '2', '6035129': '1'}, '1006563': {'1016296': '1', '1212030': '1', '1212070': '1', '2067169': '1', '4033016': '1'}, '1006565': {'1212053': '1', '1212071': '1'}, '1006569': {'1085899': '12', '1099012': '7', '1099013': '2', '1099029': '1', '1099032': '8', '1099033': '1'}, '1006570': {'1058196': '7', '2033362': '7', '2033411': '1'}, '1006571': {'1019232': '4', '1019233': '4', '1099033': '1', '1207884': '1', '2020214': '4', '6035129': '3'}, '1006581': {'1027375': '4', '1085898': '13', '1085900': '2', '1207891': '12', '1207896': '12', '2033362': '4', '2034879': '4', '2046390': '4', '2046398': '4', '2047004': '4'}, '1006585': {'5307082': '33', '6021091': '33'}, '1006591': {'1026842': '5', '1044680': '2', '1047717': '4', '1060059': '5', '1200628': '4', '1200655': '4', '1213752': '2', '1213753': '2', '2020214': '1', '2027735': '200', '2031065': '4', '2067169': '4', '5320533': '2', '6025632': '1', '6035130': '1'}, '1006604': {'1060058': '2', '1085899': '4', '1212005': '2', '1212018': '2', '1212024': '2', '1212025': '2', '1213767': '1', '1213768': '1', '2027727': '1', '2067169': '5'}, '1006607': {'1085673': '2', '1085674': '2', '1213739': '1', '1213755': '1', '1213767': '4', '1213768': '4', '2066603': '6', '2067169': '2'}, '1006621': {'1212047': '4', '1212048': '4', '1212060': '36', '1212061': '36', '1212064': '4', '1212065': '4', '2067169': '48', '6025652': '31'}, '1006637': {'1081529': '1', '2034819': '2', '6035129': '1'}, '1006655': {'1044631': '2', '1044680': '4', '1047717': '2', '1050748': '5', '1056984': '5', '1058388': '1', '1059860': '2', '1059966': '6', '1062899': '1', '1101408': '1', '1203222': '6', '1203262': '6', '2033414': '1', '2034819': '5', '2039803': '5', '6022874': '15', '6025470': '22', '6028962': '2', '6035129': '3', '6035137': '2', '6045196': '55', '7021907': '6'}, '1006662': {'1018742': '2', '1076397': '2'}, '1006671': {'1085665': '2', '1085666': '2', '1085669': '3', '1085670': '3', '1212017': '4', '1212019': '4', '1212051': '6', '1212052': '6', '2067169': '10'}, '1006682': {'1026842': '1', '1028463': '1', '1062270': '1', '1200686': '1', '1213748': '1', '1213749': '1', '2067169': '1', '2069385': '1'}, '1006688': {'1085673': '1', '1085674': '1'}, '1006718': {'1044627': '3', '1044628': '1', '1044680': '1', '1056984': '9', '1058388': '1', '1081529': '20', '1086266': '61', '2033362': '1', '2033411': '20', '2034819': '8', '6026699': '2', '6027946': '10', '6035129': '3'}, '1006759': {'1024101': '1', '1081529': '5', '1099012': '4', '1099013': '9', '1099029': '2', '1099030': '4', '1099031': '42', '1099033': '31', '2033362': '5', '5307085': '25', '6023135': '25'}, '1006762': {'1041180': '4', '1200568': '2', '1200585': '2', '2045401': '2', '2046197': '4', '5311683': '3', '5311684': '3', '6025618': '3'}, '1006778': {'5311688': '19', '6025615': '19'}, '1006780': {'1056985': '2', '1068191': '2', '1084582': '2', '6035129': '2'}, '1006786': {'1019222': '1', '1029490': '1', '1044680': '1', '1060058': '2', '1076398': '2', '1080876': '9', '1085665': '10', '1085666': '10', '1085667': '18', '1085668': '18', '1085669': '2', '1085670': '2', '1085671': '2', '1085672': '2', '1085673': '4', '1085674': '4', '1085898': '30', '1085899': '8', '1086266': '1', '1203792': '2', '1203798': '2', '1207500': '8', '1207876': '2', '2066603': '8', '5307082': '3', '5311687': '5', '6023140': '3', '6025470': '6', '6025614': '5', '6026691': '3', '6035136': '28', '7083088': '1'}, '1006795': {'1016296': '1', '1068191': '12', '1076397': '8', '1213759': '4', '1213760': '4', '1213763': '6', '1213764': '6', '1213775': '1', '1213776': '1', '2067169': '10', '2074797': '8'}, '1006836': {'1019148': '3', '1019338': '3', '1200561': '4', '1200568': '1', '1200578': '4', '1200585': '1', '2047443': '2', '6025472': '10'}, '1006841': {'1060058': '12'}, '1006850': {'1068191': '20', '1081529': '4', '1085671': '2', '1085672': '2', '1086123': '37', '1086125': '37', '2033362': '4', '2044623': '2', '2067169': '35', '6035129': '1'}, '1006854': {'1068191': '5', '5330389': '12', '6025614': '12'}, '1006866': {'1085900': '1'}, '1006872': {'1044680': '2', '1085900': '8', '2067169': '1', '6025472': '1', '6035423': '2', '6035424': '2'}, '1006875': {'1085667': '1', '1085668': '1', '1212054': '18', '1212055': '18', '2023157': '1', '2067169': '18', '5311833': '14', '6025618': '8'}, '1006876': {'1085667': '1', '1085668': '1', '1085669': '2', '1085670': '2'}, '1006879': {'1081529': '72', '2033362': '72'}, '1006884': {'1024101': '66', '1024446': '2', '1092344': '2', '1098324': '2', '1212037': '32', '1212038': '32', '1212045': '23', '1212046': '23', '1212054': '6', '1212055': '6', '1212056': '3', '1212057': '3', '1212060': '69', '1212061': '69', '2016178': '64', '2024352': '66', '2067169': '133', '6023135': '2', '6035130': '5'}, '1006890': {'1018742': '1', '1018743': '2', '1018744': '3', '1027376': '1', '1027377': '1', '1029490': '2', '1043753': '1', '1043804': '1', '1044680': '2', '1047717': '1', '1056982': '2', '1056985': '2', '1058668': '1', '1059860': '1', '1059965': '10', '1059966': '31', '1060059': '2', '1060064': '10', '1060849': '3', '1060850': '10', '1061176': '4', '1061177': '4', '1061178': '16', '1061179': '16', '1062566': '51', '1070117': '3', '1073778': '2', '1078498': '2', '1085665': '1', '1085666': '1', '1085899': '1', '1085900': '1', '1203915': '2', '1203917': '1', '1208062': '3', '1212028': '1', '1212029': '1', '1212030': '1', '1212049': '1', '1212050': '1', '1212070': '1', '1213718': '1', '1213739': '2', '1213743': '1', '1213744': '4', '1213745': '4', '1213755': '2', '1213765': '3', '1213766': '3', '1213767': '2', '1213768': '2', '2016178': '3', '2016179': '3', '2016180': '3', '2020214': '1', '2027735': '5', '2034819': '1', '2034880': '2', '2039803': '10', '2039857': '2', '2047443': '2', '2067169': '19', '2071576': '2', '2099265': '7', '5309052': '4', '5311688': '3', '6023140': '4', '6025470': '17', '6025472': '2', '6025612': '2', '6025615': '3', '6026691': '3', '6035037': '2', '6035129': '2', '6035744': '1', '6042893': '2'}, '1006897': {'1213757': '32', '1213758': '32', '1213759': '34', '1213760': '34', '2067169': '34'}, '1006898': {'1027375': '5', '1051487': '2', '1085899': '4', '1092343': '2', '2033414': '1', '2033415': '4', '2034880': '7', '5308938': '2', '5309719': '2', '6023140': '2'}, '1006903': {'1060061': '10'}, '1006924': {'1213739': '2', '1213755': '2', '2067169': '2', '7082881': '4'}, '1006932': {'6035129': '1'}, '1006933': {'1029489': '3', '1061176': '2', '1061177': '2', '1099029': '1', '1099031': '2', '1104676': '2', '2024352': '3', '2067169': '3', '5307082': '1', '5311686': '30', '6023135': '1', '6025655': '30'}, '1006958': {'1044255': '28', '1044338': '28', '1044680': '28', '1051689': '1', '1062333': '56', '6026691': '338', '6026694': '339'}, '1006964': {'1051487': '2'}, '1006978': {'6025614': '2'}, '1006983': {'1019148': '1', '1019194': '1', '1019195': '1', '1019206': '2', '1019207': '1', '1019338': '1', '1063094': '4', '1076398': '1', '1207500': '1', '1207662': '1', '1212029': '1', '5307084': '3', '6012699': '1', '6023140': '5', '6025614': '1'}, '1006996': {'1068191': '44'}, '1007011': {'1081529': '12', '2033362': '12'}, '1007014': {'1048539': '1', '1048540': '1', '2008455': '2', '2034879': '2'}, '1007025': {'1046207': '56', '1046209': '84', '1053148': '7', '1076398': '21', '1212054': '17', '1212055': '17', '1212056': '66', '1212057': '66', '1212060': '52', '1212061': '52', '1212064': '22', '1212065': '22', '2016178': '147', '2047841': '147', '2067169': '157'}, '1007054': {'1085667': '3', '1085668': '3', '1085899': '9', '1085900': '9', '1212005': '1', '1212018': '1', '2067169': '4'}, '1007058': {'5309313': '10', '5309719': '20', '6025670': '10'}, '1007070': {'1042097': '3', '1068191': '47', '1085665': '2', '1085666': '2', '1085900': '3', '1099019': '1', '1099027': '4', '1099030': '4', '1099033': '10', '2027735': '1', '2051891': '3', '5311688': '4', '5311837': '2', '6025615': '4', '6035137': '4'}, '1007081': {'1044255': '11', '1044338': '11', '1044629': '12', '1044680': '77'}, '1007086': {'1212028': '3', '1212029': '3', '2067169': '3'}, '1007090': {'1051487': '2', '1212047': '2', '1212048': '2', '1212051': '6', '1212052': '6', '2034880': '2', '2099265': '8', '6035129': '1'}, '1007094': {'1060058': '2'}, '1007100': {'1213767': '1', '1213768': '1', '1220678': '4', '1220705': '4', '2067169': '4', '2099265': '1'}, '1007115': {'1026842': '2', '1060061': '18', '1085900': '2', '1213767': '1', '1213768': '1', '2066603': '2', '5311688': '1', '5311837': '1', '6025615': '1', '6035129': '2'}, '1007123': {'1019170': '1', '1061172': '4', '1061173': '2', '1061174': '4', '1061175': '2', '1061176': '1', '1061177': '1', '1061178': '2', '1061179': '2', '1102712': '1', '2066603': '16', '4076417': '1', '5311688': '6'}, '1007127': {'1019198': '1', '1022939': '1', '1044008': '2', '1044255': '1', '1044339': '1', '1044629': '1', '1044680': '3', '1068191': '12', '1081529': '3', '1085673': '2', '1085674': '2', '1085900': '4', '1213763': '1', '1213764': '1', '1216212': '1', '1216213': '1', '2020204': '2', '2023154': '1', '2034820': '3', '2034879': '3', '2046197': '2', '2047443': '2', '2067169': '1', '2074098': '2', '4031608': '4', '6035129': '1', '6035130': '1'}, '1007141': {'5307083': '3', '5307084': '11', '5309052': '3', '6021153': '3', '6023140': '8'}, '1007144': {'1027377': '4', '1056983': '38', '1106608': '1', '2033362': '30', '2034819': '20', '2077816': '1', '5315327': '20'}, '1007145': {'1059966': '138', '5308938': '4', '6023135': '4'}, '1007146': {'1073266': '20', '1083245': '1', '1083247': '1', '6035037': '1'}, '1007179': {'1068191': '42', '5309718': '74', '5330389': '80', '6025614': '74'}, '1007187': {'1061172': '1', '1061173': '1'}, '1007193': {'1056985': '33', '6035129': '2'}, '1007195': {'5311686': '6', '6025614': '6'}, '1007197': {'1056984': '18', '2034819': '18', '2034880': '18', '6035129': '13'}, '1007203': {'1213765': '1', '1213766': '1', '2067169': '1'}, '1007226': {'1027375': '5', '1027377': '2'}, '1007229': {'1212056': '1', '1212057': '1', '2067169': '1', '6035129': '2'}, '1007234': {'1059966': '39', '1085900': '100', '1213757': '6', '1213758': '6', '1220873': '1', '1220886': '1', '2027735': '2', '2067169': '7', '5309397': '200', '5311688': '9', '5330389': '300', '6025614': '400', '6025615': '9', '6025655': '100', '6027896': '1', '6027897': '1', '6035423': '1'}, '1007235': {'1062566': '7', '1085898': '17', '1213759': '20', '1213760': '20', '2067169': '20'}, '1007242': {'6034309': '49'}, '1007263': {'1044255': '3', '1044339': '3', '1044629': '2', '1044630': '2', '1044679': '10', '1044680': '10', '5326187': '2', '6026698': '20', '6035129': '1', '6045196': '2'}, '1007265': {'1076398': '1', '2024352': '6', '2027735': '30'}, '1007267': {'1085899': '1', '1212024': '2', '1212025': '2', '1213761': '1', '1213762': '1', '1213763': '3', '1213764': '3', '1220648': '1', '1220673': '1', '2023154': '1', '2066603': '8', '2067169': '4', '2077387': '2', '6025470': '3'}, '1007272': {'1027376': '1', '1044255': '1', '1044339': '1', '1044629': '1', '1044680': '6', '1085899': '32', '1213739': '8', '1213755': '8', '1213759': '24', '1213760': '24', '2067169': '32', '5307084': '4', '5311687': '5', '6023140': '4', '6025612': '5', '6025668': '3', '6033231': '1'}, '1007293': {'1076398': '6', '2074407': '4'}, '105350': {'1085899': '1', '1085900': '1', '1221402': '1', '1221404': '1', '2067169': '1'}, '105351': {'1061176': '2', '1061177': '2', '1061178': '2', '1061179': '2', '1063094': '4', '1083245': '3', '1083247': '3', '1085900': '4', '1092345': '1', '1212054': '2', '1212055': '2', '2039803': '5', '2067169': '3', '2099265': '2', '6025470': '2', '6026691': '4'}, '114572': {'1060056': '15'}, '115945': {'7083088': '1'}, '116077': {'1056983': '2', '1081529': '10', '1085899': '8', '2034819': '12', '2034880': '8'}, '116119': {'1061178': '2', '1200621': '1'}, '116159': {'6025471': '4'}, '116242': {'1085900': '5', '1099033': '4'}, '116598': {'1062566': '14', '1085899': '5', '1085900': '8', '1221402': '2', '1221404': '2', '1221407': '3', '1221408': '3', '2067169': '4', '2099265': '1', '5311688': '1', '5311837': '2', '6025615': '1'}, '116644': {'1201229': '2', '1201469': '2', '7021907': '2'}, '116762': {'7083088': '1'}, '116763': {'7083088': '9'}, '116917': {'1044629': '2', '1044680': '7', '1047717': '2', '1059860': '2', '1062271': '6', '1062333': '4', '1085900': '2', '1212051': '1', '1212052': '1', '1213744': '2', '1213745': '2', '2067169': '4', '2099264': '8', '6033231': '3'}, '116987': {'1059965': '2', '1062676': '2', '1213763': '1', '1213764': '1', '1215872': '1', '1215873': '1', '2067169': '1', '5330389': '4', '6025614': '4', '6025615': '2'}, '116991': {'1056983': '2', '1107015': '1', '1107774': '1', '2033362': '2', '6035129': '1'}, '117012': {'1095027': '1'}, '117166': {'1060058': '20'}, '117398': {'1220896': '3', '1220909': '3', '2067169': '1'}, '117408': {'1085900': '5', '2067169': '2', '5320813': '50', '6025615': '50'}, '117475': {'1018743': '1', '1018744': '1'}, '117579': {'1018742': '1', '1019168': '1', '1019169': '1', '5309397': '6', '6023140': '2', '6025612': '25'}, '117582': {'1024101': '6', '1024445': '6', '1029489': '1', '1212024': '1', '1212025': '1', '2016178': '3', '2024352': '1', '2027726': '7', '2028369': '2', '6021750': '1', '6035129': '1'}, '117683': {'1213746': '1', '1213747': '1', '2067169': '1'}, '117753': {'1068191': '2', '1212005': '2', '1212018': '2', '2051845': '2', '2067169': '2'}, '117758': {'5311688': '24', '6025615': '24', '7082881': '2'}, '117759': {'1221425': '1', '1221427': '1', '1221428': '2', '1221429': '1', '1221434': '1', '1221436': '1', '1221437': '2', '1221438': '1', '2067169': '5'}, '117788': {'1085900': '9', '5307084': '7', '6023140': '7'}, '117836': {'1085899': '15', '1213765': '86', '1213766': '86', '1213773': '15', '1213774': '18', '2066603': '138', '2067169': '80'}, '118051': {'2016178': '4', '2016179': '4'}, '118064': {'1068191': '1', '1213773': '1', '1213774': '1', '2099265': '2'}, '118087': {'1060065': '4', '1085900': '4'}, '118089': {'1027376': '33', '1056982': '2', '1085665': '1', '1085666': '1', '1085667': '2', '1085668': '2', '1086125': '6', '1213771': '7', '1213772': '7', '2033362': '32', '2034819': '1', '2067169': '10', '2099265': '6'}, '130913': {'1044680': '4'}, '132651': {'1092343': '24', '5308938': '24', '6021153': '24'}, '132694': {'1024445': '4', '1024446': '1', '1044627': '8', '1044680': '56', '1047717': '9', '1059860': '6', '1212026': '1', '1212027': '1', '1213767': '1', '1213768': '1', '2027735': '18', '6025472': '4', '6035129': '3', '7083088': '1'}, '132699': {'1019304': '3', '1019305': '3', '1029572': '3', '1029573': '3', '1040760': '3', '2020061': '4', '2067169': '4'}, '136470': {'1099012': '1'}, '136476': {'1085899': '1', '1085900': '3', '1213759': '1', '1213760': '1', '2067169': '1'}, '136544': {'5309314': '3', '6025670': '3'}, '136546': {'1081529': '15', '1085898': '15', '2034819': '15', '2034879': '15', '6035129': '1'}, '136576': {'1212049': '5', '1212050': '5', '2067169': '4'}, '145846': {'1221427': '2', '1221436': '2', '2044623': '1', '2067169': '1'}, '145872': {'1204709': '1', '1204710': '1', '1204715': '2', '1204716': '2'}, '145897': {'1058668': '1', '1062264': '2', '1062271': '1', '1220678': '5', '1220692': '4', '1220705': '1', '2067169': '44', '2077387': '8', '2077389': '2', '6035129': '2'}, '145957': {'1062676': '10'}, '145979': {'5307083': '6', '5309719': '6', '6023140': '6'}, '146030': {'1081529': '4', '1085898': '4', '2033411': '4'}, '146031': {'1085899': '1'}, '146040': {'1024101': '1', '1024102': '3', '1085899': '10', '1085900': '15', '1212064': '1', '1212065': '1', '2024352': '4', '2067169': '1', '6035129': '1'}, '146056': {'1024101': '2', '1085899': '6', '1213763': '6', '1213764': '6', '2027726': '2', '2099265': '6', '6035129': '2'}, '146078': {'1081529': '1', '2034819': '1', '2034879': '1', '6035129': '1'}, '146110': {'1061176': '4', '1061177': '4', '1061178': '13', '1061179': '13', '1212024': '1', '1212025': '1', '2067169': '1'}, '146115': {'1060059': '500'}, '146121': {'1212053': '7', '1212071': '7', '1216316': '1', '1216317': '1', '2016178': '16', '2016179': '16', '2067169': '32'}, '151490': {'1085900': '1', '5307084': '3', '5309719': '3', '6023140': '3'}, '151493': {'1027376': '1', '2033362': '1'}, '151495': {'1024446': '1'}, '151544': {'1212049': '1', '1212050': '1', '1212056': '4', '1212057': '4', '1213773': '2', '1213774': '2', '2067169': '5', '2100900': '2'}, '151546': {'5309052': '2', '5309719': '2', '6023140': '2'}, '151567': {'1056984': '28', '2034819': '28', '6026691': '28'}, '151572': {'1085900': '1'}, '151647': {'1212028': '1', '1212029': '1', '2067169': '1'}, '151651': {'1212005': '1', '1212018': '1', '2099265': '1', '6035037': '1'}, '151655': {'1044255': '1', '1044338': '1', '1044627': '2', '1049100': '1', '1062333': '1'}, '151666': {'1019148': '1'}, '151668': {'7083088': '2'}, '151678': {'1027375': '2', '2033414': '2', '6035129': '1'}, '151727': {'5311686': '3', '6025614': '3'}, '151762': {'6025448': '2'}, '151824': {'1081529': '2', '2033412': '2', '5311683': '10', '6025618': '10', '6035129': '1'}, '151843': {'1213739': '14', '1213755': '14', '2067169': '14'}, '151856': {'7083089': '1'}, '151860': {'7083088': '1'}, '151888': {'1085899': '1', '1220639': '1', '1220652': '1', '2067169': '1', '2077387': '1', '2093652': '1'}, '151892': {'5311688': '6', '5320813': '2', '6025615': '8'}, '151952': {'1212051': '4', '1212052': '4', '2067169': '4'}, '152003': {'1080876': '20'}, '152028': {'1028462': '1', '1200680': '1', '2031065': '1', '2046045': '2'}, '152042': {'2039803': '2', '6025652': '3'}, '152045': {'1099016': '2'}, '152103': {'2016178': '3', '2016179': '3'}, '152134': {'1213757': '1', '1213758': '1', '1213763': '3', '1213764': '3', '2067169': '4'}, '152175': {'2067169': '7'}, '152223': {'2016178': '3'}, '152230': {'6025644': '3'}, '152306': {'1060059': '6', '1073015': '10', '1092343': '3', '5307082': '3', '5308825': '3', '6023135': '3'}, '152321': {'1027376': '3', '1081529': '1', '2033412': '1', '2034819': '3', '2034879': '3'}, '152370': {'1215876': '1', '1215877': '1'}, '152433': {'6035129': '1'}, '152493': {'2033362': '1', '2034880': '4', '6035129': '1'}, '152507': {'2016178': '2', '2016179': '2', '2016180': '2'}, '152567': {'1073015': '8'}, '152570': {'1041181': '1', '1083246': '5', '1083247': '5', '2046197': '10', '2067169': '5'}, '152624': {'1083564': '2', '1095014': '1', '1095017': '2', '1212026': '1', '1212027': '1', '1212030': '1', '1212045': '1', '1212046': '1', '1212070': '1', '1220642': '1', '1220644': '1', '1220645': '3', '1220646': '2', '1220647': '1', '1220648': '3', '1220649': '1', '1220650': '1', '1220655': '1', '1220657': '1', '1220658': '3', '1220659': '2', '1220660': '1', '1220661': '3', '1220662': '1', '1220676': '1', '1220687': '12', '1220714': '12', '2033673': '1', '2067169': '2', '2074797': '1', '2077387': '7', '6027946': '30', '6027947': '10', '6044607': '3'}, '152662': {'5320813': '1', '6025617': '1'}, '152675': {'5309719': '2', '5311684': '2', '6025620': '2'}, '152683': {'2027735': '3'}, '152723': {'1044627': '3', '1044680': '1', '1058668': '2', '1078497': '7', '1078756': '5', '1086265': '3', '6035129': '1', '6051885': '5'}, '152729': {'1027376': '1', '1085898': '2', '1085900': '2', '1212060': '4', '1212061': '4', '2033414': '1', '2034820': '1', '2034880': '3', '2067169': '12', '6035129': '1', '6035130': '1'}, '152773': {'1213759': '14', '1213760': '14', '2067169': '14'}, '152810': {'1019256': '2', '1044255': '2', '1044338': '1', '1044627': '1', '1044679': '3', '1044680': '3', '2027735': '1', '2047841': '1', '2067169': '8', '4065265': '1', '4076417': '1'}, '152821': {'5311708': '26', '6035597': '26'}, '153099': {'1026273': '2'}, '153312': {'1085900': '2'}, '153388': {'1212053': '2', '1212071': '2', '2067169': '2'}, '153432': {'1212049': '1', '1212050': '1', '2067169': '1'}, '153526': {'1081529': '1', '2033362': '1', '6035129': '1'}, '153545': {'1050853': '1', '1050854': '1', '1068191': '1', '1213763': '1', '1213764': '1'}, '153593': {'1056983': '1'}, '153646': {'1060063': '2', '1099028': '1', '1099031': '3', '1099033': '3'}, '153687': {'6035129': '1'}, '153689': {'1212047': '1', '1212048': '1', '1212051': '1', '1212052': '1', '1212053': '1', '1212071': '1', '2067169': '2', '2099265': '1'}, '153698': {'6021750': '2'}, '153725': {'1085667': '16', '1085668': '16'}, '153773': {'6025615': '1'}, '153775': {'1024102': '2', '1212054': '6', '1212055': '6', '2016178': '2', '2016179': '2', '2016180': '2', '2024352': '2', '2067169': '6', '6035129': '1'}, '153857': {'1027376': '1', '2033362': '1', '6035129': '1'}, '153940': {'2033362': '3'}, '153997': {'2027727': '1', '6035129': '1'}, '154062': {'1085673': '2', '1085674': '2'}, '154074': {'6025448': '14'}, '154110': {'2016178': '1'}, '154152': {'1083566': '1'}, '154176': {'6023140': '2'}, '154177': {'1220639': '4', '1220640': '8', '1220641': '8', '1220652': '4', '1220653': '8', '1220654': '8', '2067169': '20', '2077387': '40', '2077389': '4', '2093313': '4', '2093655': '4'}, '154289': {'6025622': '2'}, '154411': {'2020214': '2', '2027405': '1'}, '154481': {'1084198': '1', '1084199': '1', '1085899': '1', '2067169': '1', '4071409': '1'}, '154485': {'1062280': '3'}, '154494': {'1060064': '5', '1060850': '5'}, '154523': {'1212028': '4', '1212029': '4', '1212053': '1', '1212071': '1', '2067169': '5', '5307084': '1', '6023140': '1'}, '154528': {'1068191': '4', '1085667': '4', '1085668': '4'}, '154620': {'1060065': '5'}, '154631': {'1073015': '1'}, '154640': {'2027735': '5', '2039803': '5'}, '163337': {'5307082': '7', '6021091': '7'}, '165575': {'1061179': '3'}, '171896': {'2034819': '6', '2034880': '6', '6035129': '1'}, '172008': {'1016296': '1'}, '172055': {'5306608': '3', '6035417': '1', '6035418': '1'}, '172063': {'1085900': '3'}, '172070': {'1221430': '1', '1221439': '1', '2067169': '1'}, '172078': {'1059965': '20'}, '172147': {'1221426': '2', '1221435': '2', '2067169': '2'}, '172149': {'1060059': '1'}, '172385': {'1085899': '1', '1085900': '2'}, '172429': {'7083088': '1'}, '172442': {'1085673': '4', '1085674': '4', '1092343': '6', '1213739': '4', '1213755': '4', '2067169': '4', '5308938': '6', '5309719': '3'}, '172524': {'1048539': '1', '1048540': '1', '2074406': '1'}, '172820': {'6025622': '4'}, '172939': {'1027376': '1'}, '172940': {'1063094': '4', '1085900': '2', '1085901': '1', '5311688': '1', '6025615': '1'}, '172966': {'1085899': '4', '1212049': '4', '1212050': '4', '2067169': '4'}, '65': {'1018729': '19', '1018730': '1', '1018733': '2', '1018734': '3', '1018743': '35', '1018744': '35', '1018745': '2', '1018746': '2', '1018762': '11', '1018903': '2', '1018916': '1', '1019146': '2', '1019150': '3', '1019151': '3', '1019154': '1', '1019155': '1', '1019160': '1', '1019161': '1', '1019162': '2', '1019163': '2', '1019186': '1', '1019187': '1', '1019195': '5', '1019197': '1', '1019205': '1', '1019208': '1', '1019209': '1', '1019223': '2', '1019304': '2', '1019305': '3', '1019970': '2', '1019989': '3', '1019990': '5', '1022939': '2', '1024103': '2', '1024132': '1', '1026272': '2', '1026279': '11', '1026280': '11', '1028461': '5', '1041181': '6', '1042847': '10', '1042848': '11', '1043746': '1', '1044627': '2', '1044815': '3', '1051437': '13', '1051441': '26', '1060056': '15', '1060060': '4', '1060066': '4', '1060848': '9', '1061173': '38', '1069450': '1', '1070117': '15', '1070118': '1', '1070644': '334', '1070645': '296', '1070646': '11', '1070647': '6', '1073113': '4', '1073115': '9', '1073267': '2', '1073778': '61', '1083565': '1', '1083567': '3', '1084584': '6', '1085901': '10', '1086121': '1', '1086122': '1', '1090999': '290', '1200566': '5', '1200628': '2', '1200655': '2', '1200682': '1', '1200685': '5', '1200686': '22', '1201590': '1', '1201591': '1', '1203798': '2', '1203915': '1', '1204717': '9', '1207510': '2', '1207514': '2', '1207655': '2', '1207805': '4', '1207815': '6', '1212042': '2', '1215800': '1', '1215834': '2', '1215835': '1', '1215850': '2', '1215851': '2', '1215859': '1', '1215866': '1', '1215867': '1', '1215874': '1', '1220664': '1', '1220665': '1', '1221414': '5', '1221421': '5', '1221428': '13', '1221437': '19', '2018105': '2', '2018306': '5', '2018307': '4', '2023865': '5', '2024263': '12', '2027405': '9', '2027727': '20', '2033416': '2', '2033671': '2', '2044459': '3', '2044461': '3', '2045070': '5', '2045071': '17', '2046390': '3', '2047443': '8', '2048455': '5', '2050412': '1', '2052804': '8', '2057153': '11', '2060711': '4', '2073711': '1', '2074362': '4', '2074406': '15', '2077390': '1', '2080167': '47', '2082101': '144', '2094981': '1', '2100900': '2', '4057286': '12', '5301435': '55', '5307084': '57', '5307086': '6', '5307090': '6', '5307091': '6', '5308825': '13', '5309314': '20', '5309516': '19', '5309589': '3', '5311684': '15', '5311691': '1', '5314068': '7', '5334126': '9', '6012699': '1', '6012702': '2', '6021091': '4', '6021153': '6', '6025449': '3', '6025635': '1', '6025652': '3', '6026699': '6', '6027892': '1', '6027894': '3', '6027895': '6', '6027896': '12', '6027897': '12', '6035143': '1', '6035200': '4', '6035421': '15', '6035430': '3', '6035597': '2', '6035797': '1', '6051883': '1'}, '92166': {'1090999': '90'}, '92179': {'1029493': '13', '1044255': '13', '1044339': '13', '1044680': '14', '1056985': '9', '1059965': '3', '1060067': '4', '1060850': '4', '1082570': '4', '2027725': '13', '2028369': '1', '2034879': '1', '2074406': '3', '2074407': '3', '6027946': '3', '6035129': '1'}, '92201': {'1048539': '1', '1048540': '1', '1076397': '1', '2074797': '1'}, '92209': {'1024101': '2', '1024102': '1', '1073108': '23', '1073110': '1', '1073112': '13', '1073114': '10', '1073116': '45', '1212051': '2', '1212052': '2', '2016178': '1', '2024352': '2', '2031065': '147', '2048455': '1', '2067169': '8', '6035130': '1'}, '92210': {'1221426': '2', '1221427': '1', '1221435': '2', '1221436': '1', '2067169': '5'}, '92212': {'1085898': '3', '1085900': '2', '1213757': '3', '1213758': '3', '2045070': '1', '2045071': '1', '2067169': '3', '5311687': '23', '6025614': '23'}, '92344': {'1029489': '1', '1212054': '1', '1212055': '1', '2016178': '1', '2024352': '1', '2067169': '1'}, '92381': {'1085667': '1', '1085668': '1', '1085671': '1', '1085672': '1', '1085899': '2', '1085900': '2', '2020204': '2'}, '92410': {'2020204': '7'}, '92433': {'1068191': '5', '1085669': '4', '1085670': '4', '1085900': '12', '2020204': '8', '6025470': '11'}, '92509': {'1044679': '1', '1059966': '32', '1060058': '5', '1060059': '1', '1060065': '2', '1060067': '8', '1062266': '2', '1070116': '8', '1078756': '4', '2027735': '3', '2034819': '1', '2039803': '35', '2044461': '4', '2067169': '6', '5307084': '5', '5307096': '1', '5309314': '3', '5309397': '2', '5311686': '32', '5340164': '8', '6021750': '21', '6025470': '1', '6025472': '1', '6025473': '4', '6025612': '14', '6025614': '20', '6025615': '3', '6025644': '4', '6025670': '2', '6035129': '1', '6035130': '1', '6035136': '5', '6035597': '1', '6035951': '1'}, '92535': {'1060059': '50', '1085900': '10'}, '92549': {'1059966': '28', '1060058': '40', '1060059': '8', '6026691': '2'}, '92640': {'1019198': '6', '1019199': '6', '1081529': '24', '2033362': '24', '2034879': '24', '6035129': '1'}, '92678': {'1060066': '20', '1061176': '8', '1061177': '8', '1061178': '24', '1061179': '24', '1213769': '4', '1213770': '4', '2067169': '4'}, '92679': {'1081529': '1', '1200575': '1'}, '92690': {'5311837': '3'}, '92788': {'6035129': '3'}, '92841': {'6035037': '2'}, '92844': {'1024523': '26', '1024524': '26', '1026842': '19', '1043745': '5', '1043746': '5', '1047533': '21', '1047717': '21', '1076932': '13', '1095014': '19', '1200628': '5', '1200655': '5', '1201590': '14', '1201591': '1', '1203447': '13', '1212033': '2', '1212034': '2', '1212056': '6', '1212057': '6', '2020214': '10', '2029895': '9', '2031065': '38', '2042216': '52', '2067169': '14', '2074406': '19', '6035129': '4', '7021907': '26'}, '92845': {'6050836': '2'}, '92858': {'1024599': '1', '1024600': '1', '1043745': '8', '1043746': '8', '1095014': '20', '1220643': '2', '1220645': '21', '1220648': '20', '1220656': '2', '1220658': '21', '1220661': '20', '2020214': '9', '2033673': '39', '2067169': '45', '2074797': '20', '2077387': '86', '6035129': '3'}, '92859': {'1085667': '4', '1085668': '4'}, '98307': {'1044627': '2', '1044680': '2', '1047717': '2', '1059860': '2', '1060847': '16', '1062266': '12', '1062271': '2', '1062566': '16', '2069385': '8', '6035129': '2'}, '98335': {'1213759': '1', '1213760': '1', '1213763': '1', '1213764': '1', '2067169': '2'}, '98434': {'1027375': '1', '2033415': '1', '2034879': '1', '6035129': '1'}, '98440': {'1060059': '86', '6035129': '1', '6042896': '1'}, '98483': {'1220641': '1', '1220642': '6', '1220645': '6', '1220654': '1', '1220655': '6', '1220658': '6', '2067169': '26', '2077387': '26', '6023135': '1'}, '98509': {'1213759': '2', '1213760': '2'}, '98517': {'1068191': '10', '1212047': '3', '1212048': '3', '1212049': '10', '1212050': '10', '2067169': '13', '6025644': '3'}, '98523': {'1068191': '4', '1083245': '4', '1083247': '4', '2046197': '8', '2074098': '8'}, '98609': {'6051882': '5', '6051884': '3'}, '98612': {'1029532': '2', '1029533': '2'}, '98619': {'1085899': '1', '1212005': '3', '1212018': '3', '1212054': '1', '1212055': '1', '2067169': '4'}, '98632': {'1027376': '6', '2034819': '6', '6035129': '1'}, '98681': {'1085667': '1', '1085668': '1', '1085898': '1', '1085900': '2', '1213757': '1', '1213758': '1', '2020204': '1'}, '98684': {'1056985': '1', '1068191': '2', '1086123': '16', '1086125': '16', '1092343': '1', '1212031': '1', '1212032': '1', '1213757': '3', '1213758': '3', '2034880': '1', '2039857': '1', '2067169': '19', '2099265': '3', '6025470': '1', '6025472': '1', '6027952': '1', '6035129': '2'}, 'AAA00000006R': {'5309052': '7', '5319015': '7', '6023135': '6'}, 'AAA00000094R': {'1051273': '1', '1060065': '1', '1061172': '4', '1061173': '4', '1061174': '8', '1061175': '8', '1070644': '2', '1070645': '2', '1085900': '4', '1213759': '1', '1213760': '1', '1213763': '1', '1213764': '1', '2067169': '1', '5330389': '100', '6025470': '18', '6025614': '100'}, 'AAA00000098R': {'1044679': '2', '1044680': '3', '1076397': '2', '1212017': '6', '1212019': '6', '1212024': '2', '1212025': '2', '1212026': '5', '1212027': '5', '1212028': '4', '1212029': '4', '1212030': '1', '1212031': '2', '1212032': '2', '1212033': '2', '1212034': '2', '1212039': '2', '1212040': '2', '1212041': '4', '1212042': '4', '1212047': '1', '1212049': '9', '1212050': '9', '1212051': '7', '1212052': '7', '1212053': '1', '1212054': '3', '1212055': '3', '1212056': '2', '1212057': '2', '1212058': '2', '1212059': '2', '1212070': '1', '1212071': '1', '2067169': '63', '2071544': '2', '2074797': '2', '6025448': '4', '6025470': '5', '6025472': '1', '6033224': '1', '6033227': '3', '6033230': '1', '6033231': '1', '6035130': '1', '7083088': '2'}, 'AAA00000099R': {'1016296': '2', '1018916': '4', '1024101': '6', '1024102': '14', '1026842': '1', '1044010': '1', '1044011': '1', '1044339': '2', '1044680': '12', '1048539': '1', '1048934': '1', '1056986': '2', '1076398': '5', '1078080': '1', '1085898': '2', '1200558': '2', '1200616': '3', '1200619': '2', '1212035': '1', '1212036': '1', '1212049': '2', '1212050': '2', '2018105': '2', '2023527': '2', '2028204': '3', '2028370': '3', '2034879': '21', '2034880': '3', '2046198': '1', '2046199': '2', '2046725': '2', '2067169': '4', '4031608': '1', '4031711': '2', '4033016': '2', '4033017': '2', '4040561': '2', '4056884': '2', '4057285': '2', '4057286': '2', '4065265': '2', '4071409': '1', '5309516': '1', '6025472': '2', '6031350': '3', '6035037': '2', '6035137': '1', '6054121': '6', '7083088': '1'}, 'AAA00000121R': {'1019202': '1', '1019203': '1', '1024101': '11', '1024102': '5', '1068191': '8', '1076398': '24', '1085898': '1', '1085900': '4', '1207649': '2', '1212037': '1', '1212038': '1', '1212049': '1', '1212050': '1', '1212051': '1', '1212052': '1', '1212054': '8', '1212055': '8', '1212056': '54', '1212057': '54', '1212060': '40', '1212061': '40', '1213763': '2', '1213764': '2', '1213765': '2', '1213766': '2', '1213767': '1', '1213768': '1', '2016178': '14', '2024352': '14', '2067169': '59', '2074406': '24', '5311686': '4', '6025614': '4', '6025655': '4', '6035129': '2'}, 'AAA00000127R': {'1024101': '1', '1027376': '7', '1029489': '6', '1053146': '34', '1053148': '4', '1056982': '1', '1085665': '2', '1085666': '2', '1085671': '12', '1085672': '12', '1212005': '1', '1212018': '1', '1212047': '4', '1212048': '4', '1212049': '1', '1212050': '1', '1212051': '2', '1212052': '2', '1212053': '17', '1212054': '12', '1212055': '12', '1212056': '54', '1212057': '54', '1212060': '62', '1212061': '62', '1212064': '6', '1212065': '6', '1212071': '17', '1213763': '9', '1213764': '9', '1213765': '10', '1213766': '10', '1213767': '10', '1213768': '10', '1221401': '29', '1221403': '3', '1221425': '2', '1221426': '1', '1221428': '10', '1221429': '2', '1221430': '3', '1221431': '1', '1221432': '29', '1221433': '3', '1221434': '2', '1221435': '1', '1221437': '10', '1221438': '2', '1221439': '3', '1221440': '1', '2016178': '43', '2016179': '3', '2020204': '13', '2024352': '5', '2027735': '1', '2033362': '1', '2034819': '7', '2034879': '1', '2047841': '43', '2067169': '220', '2099265': '4', '5307090': '1', '6021153': '1', '6025472': '2', '6035129': '4', '6035130': '2'}, 'AAA00000135R': {'1024447': '3', '1044255': '35', '1044338': '36', '1044680': '149', '1047717': '28', '1056983': '1', '1059860': '28', '1081529': '92', '1092345': '561', '1092348': '12', '1207807': '8', '1207865': '6', '1212005': '18', '1212018': '18', '1212026': '12', '1212027': '12', '1212031': '12', '1212032': '12', '1212033': '6', '1212034': '6', '1212047': '10', '1212048': '10', '1212049': '9', '1212050': '11', '1212051': '11', '1212052': '11', '1212054': '22', '1212055': '22', '1212056': '8', '1212057': '8', '1212058': '2', '1212059': '2', '1213757': '8', '1213758': '8', '1216308': '32', '1216309': '32', '1216312': '36', '1216313': '36', '1216314': '52', '1216315': '52', '1216316': '16', '1216317': '16', '1216324': '6', '1216325': '6', '2016178': '4', '2033362': '92', '2047011': '6', '2066603': '404', '2067169': '104', '5307082': '84', '5307083': '277', '5307090': '22', '5308938': '565', '5330389': '10', '6023135': '116', '6023140': '19', '6025614': '10', '6030489': '730', '6033232': '27', '6035129': '13', '6035130': '1'}, 'ACA00000003R': {'1085669': '12', '1085670': '12', '1085671': '1', '1085672': '1', '1099030': '3'}, 'ACA00000026R': {'1212049': '9', '1212050': '9', '1212056': '16', '1212057': '16', '1212060': '22', '1212061': '22', '2067169': '47', '7083088': '1'}, 'BEA00000003R': {'1016296': '2', '1026842': '12', '1027375': '2', '1046209': '22', '1050748': '2', '1056982': '4', '1056983': '6', '1202037': '10', '1202038': '10', '1203792': '5', '1203798': '5', '2016179': '4', '2031065': '15', '2033414': '1', '2033415': '3', '2033673': '15', '2034819': '8', '2034880': '6', '2039857': '6', '2047841': '22', '2048430': '2', '2060712': '24', '2080905': '18', '6026691': '22', '6035129': '6', '6035130': '2', '6035417': '10', '6035418': '10'}, 'BEA00000080R': {'1019210': '5', '1023033': '5', '2045402': '5'}, 'BEA00000230R': {'1056983': '20', '2033362': '23', '6035129': '9', '7083088': '5'}, 'BEA00000268R': {'1018743': '4', '1018744': '4', '1200558': '1', '1200590': '1', '2020214': '8', '2031065': '1', '6025472': '5'}, 'BEA00000326R': {'1027375': '5', '2033362': '5', '6035129': '4'}, 'BFA00000171R': {'1029490': '1', '1044255': '1', '1044339': '1', '1044680': '4', '1056984': '223', '1062899': '1', '1083239': '1', '1083241': '1', '1103175': '1', '2033362': '233', '2067169': '1', '2068448': '1', '2069284': '1', '5311687': '5', '6025614': '5', '6025644': '20', '6035129': '10', '7083088': '9'}, 'BFA00000344R': {'1019149': '1', '1019277': '6', '1019278': '6', '1024446': '3', '1048539': '2', '1048540': '2', '1060058': '5', '1068191': '1', '2008455': '4', '2016178': '7', '2020061': '5', '2020214': '2', '2027728': '2', '5320533': '2', '6025620': '5', '6027892': '1', '6033231': '1', '6035129': '8', '6035421': '7', '6035422': '7'}, 'BFA00000475R': {'1018753': '1', '1018754': '1', '1212053': '4', '1212071': '4', '2071576': '4'}, 'BFA00000496R': {'1063094': '150', '1200562': '1', '1200579': '1', '2067169': '2'}, 'BFA00000505R': {'1060059': '2', '1061172': '3', '1061173': '3', '1061174': '5', '1061175': '5', '1061176': '2', '1061177': '2', '1061178': '2', '1061179': '2', '1068191': '4', '1213761': '3', '1213762': '3', '2067169': '3', '5311684': '50', '6025618': '3', '6025620': '50', '6055319': '1'}, 'BHA00000031R': {'1024102': '1', '1024446': '1', '1026842': '3', '1027375': '386', '1027376': '51', '1029489': '5', '1029490': '2', '1029491': '1', '1044255': '22', '1044338': '1', '1044339': '23', '1044627': '2', '1044628': '1', '1044631': '20', '1044680': '22', '1056984': '44', '1060056': '6', '1060058': '2', '1060065': '5', '1060847': '5', '1061172': '2', '1061173': '2', '1061174': '3', '1061175': '3', '1062899': '21', '1081529': '4', '1082570': '22', '1085665': '5', '1085666': '5', '1085667': '2', '1085668': '2', '1085673': '5', '1085674': '5', '1100433': '1', '1101131': '1', '1101350': '1', '1102711': '1', '1103032': '1', '1200566': '1', '1200578': '1', '1200583': '1', '1200616': '3', '1200622': '3', '1212049': '2', '1212050': '2', '1212052': '2', '1212062': '1', '1212063': '1', '1220921': '3', '1220924': '3', '1220932': '3', '1220935': '3', '2016178': '13', '2016179': '3', '2016180': '2', '2020204': '6', '2024352': '6', '2027732': '1', '2027735': '20', '2028204': '6', '2028369': '4', '2031065': '3', '2033362': '503', '2033411': '1', '2033412': '1', '2033414': '5', '2033673': '3', '2034819': '6', '2034879': '6', '2039857': '4', '2066795': '2', '2067169': '63', '2068448': '1', '2074098': '6', '2074406': '22', '2080905': '22', '5307082': '3', '5311683': '6', '5330389': '1', '6021750': '6', '6023140': '2', '6025473': '2', '6025612': '4', '6025614': '5', '6025620': '6', '6025652': '2', '6026691': '1', '6027898': '2', '6031350': '1', '6035129': '13', '6035424': '10', '6051884': '1', '7083088': '1', '7088069': '1'}, 'BKA00000031R': {'1026842': '4', '1028463': '7', '1030220': '2', '1063095': '27', '1200616': '2', '1200622': '2', '1200686': '7', '2031065': '11', '5311685': '32', '6025622': '32'}, 'BLA00000045R': {'1212062': '1', '1212063': '1', '1213763': '2', '1213764': '2', '2066603': '2', '2071576': '4'}, 'BLA00000068R': {'2018105': '8', '2034879': '1', '6025473': '2'}, 'BSA00000016R': {'1063095': '2'}, 'BSA00000019R': {'1018745': '2', '1018746': '2'}, 'BSA00000060R': {'1213757': '1', '1213758': '1', '1213765': '1', '1213766': '1', '2099265': '2'}, 'CBA00000011R': {'1059965': '7', '1060063': '21', '1068191': '1'}, 'CBA00000101R': {'1060058': '3', '1085900': '8', '5330389': '2', '6025614': '2'}, 'CJA00000063R': {'1212017': '1', '1212019': '1', '1213765': '5', '1213766': '5', '1213767': '2', '1213768': '2', '2067169': '11'}, 'DAA00000100R': {'1016296': '1', '1085669': '3', '1085670': '3'}, 'EAA00000012R': {'1024101': '5', '1046207': '1', '1212031': '1', '1212032': '1', '1212062': '1', '1212063': '1', '2047841': '2'}, 'EAA00000015R': {'1027376': '1', '1212049': '1', '1212050': '1', '1213757': '1', '1213758': '1', '1220683': '2', '1220686': '2', '1220697': '2', '1220700': '2', '2020214': '2', '2033362': '1', '2034880': '2', '2067169': '7', '2071543': '1', '2077387': '8', '7083088': '1'}, 'EAA00000019R': {'7083081': '2', '7083082': '1'}, 'EAA00000030R': {'1076397': '5', '1207657': '1', '1207676': '1', '2074406': '2'}, 'EAA00000076R': {'1212030': '2', '1212033': '2', '1212034': '2', '1212070': '2', '2067169': '2'}, 'EAA00000082R': {'1019198': '12', '1019199': '12', '1043745': '2', '1043800': '2', '1212053': '3', '1212071': '3'}, 'EAA00000095R': {'1029437': '1', '1029538': '2', '1029539': '2', '2020214': '3'}, 'EAA00000139R': {'1019198': '1', '1019199': '1', '1019209': '1', '1019210': '6', '1019228': '3', '1019229': '1', '1019378': '2', '1019980': '2', '1024102': '3', '1024445': '1', '1026842': '1', '1027375': '2', '1027376': '4', '1028463': '1', '1029489': '2', '1041180': '1', '1043745': '1', '1043746': '1', '1046205': '2', '1046207': '7', '1046209': '5', '1051487': '7', '1053146': '34', '1053148': '22', '1053150': '14', '1056982': '2', '1056983': '1', '1056985': '1', '1076932': '1', '1083565': '4', '1200558': '1', '1200568': '3', '1200575': '1', '1200585': '2', '1200678': '1', '1212053': '5', '1212056': '56', '1212057': '56', '1212060': '1', '1212061': '1', '1212064': '3', '1212065': '3', '1212071': '5', '1213759': '4', '1213760': '4', '1213775': '2', '1213776': '2', '1216260': '1', '1216261': '1', '1216372': '1', '1216373': '1', '1220657': '1', '2016178': '1', '2024352': '3', '2027726': '3', '2027735': '221', '2033415': '2', '2034819': '3', '2034880': '2', '2047841': '44', '2050412': '1', '2066603': '106', '2067169': '16', '2071543': '2', '2071576': '2', '2074797': '3', '6025470': '1', '6035129': '16', '6035130': '1', '7083081': '1', '7083173': '1', '7083334': '2', '7083756': '1'}, 'EAA00000158R': {'1024101': '6', '1024102': '4', '1027376': '3', '1044680': '9', '1047717': '4', '1056982': '2', '1056984': '1', '1059554': '4', '1060058': '5', '1062899': '4', '1068191': '1', '1082571': '2', '1212056': '1', '1212057': '1', '1213759': '1', '1213760': '1', '2020204': '123', '2024352': '14', '2033362': '6', '2067169': '7', '2068448': '4', '2074406': '2', '6027896': '164', '6027897': '163', '6027898': '1'}, 'EAA00000165R': {'5320533': '5', '6045611': '2'}, 'FCA00000154R': {'1016296': '2', '1019206': '3', '1024445': '12', '1026842': '4', '1028461': '7', '1040816': '3', '1041174': '2', '1041180': '2', '1044255': '1', '1044339': '1', '1044627': '1', '1044680': '5', '1051487': '2', '1060058': '56', '1060065': '1', '1060067': '1', '1060847': '3', '1061176': '1', '1061177': '1', '1086123': '2', '1086125': '2', '1200555': '1', '1200572': '1', '1200670': '1', '1200679': '1', '1207815': '2', '1212056': '12', '1212057': '12', '1212064': '8', '1212065': '8', '1212068': '2', '1212069': '2', '1213761': '1', '1213762': '1', '1216320': '2', '1216321': '2', '2016178': '8', '2020204': '2', '2020214': '3', '2023157': '4', '2024352': '13', '2027735': '6', '2028369': '3', '2033411': '5', '2039803': '23', '2046045': '2', '2047841': '1', '2057153': '8', '2067169': '72', '2099265': '6', '4040561': '1', '4071409': '3', '5307090': '3', '5309315': '1', '5314088': '3', '5321585': '1', '6011923': '1', '6021750': '4', '6023140': '2', '6025449': '1', '6025470': '4', '6025471': '1', '6025472': '13', '6025612': '5', '6025615': '2', '6025655': '1', '6025670': '1', '6026688': '3', '6026689': '5', '6026694': '3', '6026695': '2', '6027943': '2', '6027946': '5', '6035129': '5', '6035423': '7', '6035424': '7', '6035430': '21', '7082886': '2', '7083088': '1'}, 'FCA00000222R': {'6035427': '1'}, 'FCA00000223R': {'1200568': '1', '1200606': '2'}, 'GAA00000046H': {'6025468': '20', '6025663': '28'}, 'GAA00000046R': {'1024101': '1', '1026842': '2', '1059966': '7', '1060058': '160', '1060065': '24', '1060847': '20', '1061172': '3', '1061173': '3', '1061174': '9', '1061175': '9', '1062566': '7', '1200630': '2', '1200657': '2', '2018105': '2', '2080171': '3', '2099265': '1', '5309313': '1', '5311687': '200', '5330389': '400', '6025448': '40', '6025614': '449', '6025668': '1', '6026689': '12', '6035129': '1', '7021907': '2', '7083091': '1'}, 'GAA00000063R': {'6035137': '3', '7083084': '1'}, 'GAA00001151R': {'1085673': '4', '1085674': '4'}, 'GAA00001200R': {'1019146': '2', '1019147': '2', '1019164': '6', '1019165': '6', '1019184': '4', '1019185': '4', '1019204': '8', '1019205': '8', '1024445': '6', '1200568': '4', '1200585': '4', '1212058': '3', '1212059': '3', '1212068': '10', '1212069': '10', '2018307': '22', '2020204': '2', '2020214': '16', '2027735': '3', '2028369': '6', '2031065': '2', '2047443': '4', '2067169': '3', '6021750': '2', '6035596': '8', '7088069': '6'}, 'GAA00001221R': {'6025470': '1'}, 'GAA00001365R': {'1005784': '4', '1027376': '1', '1048539': '2', '1048540': '2', '1059966': '12', '1060058': '48', '1062566': '2', '1085673': '20', '1085674': '20', '1212049': '1', '1212050': '1', '1212054': '2', '1212055': '2', '1213718': '5', '1213743': '5', '1216322': '1', '1216323': '1', '1216390': '1', '1216391': '1', '2066603': '5', '2067169': '32', '2071576': '2', '2077387': '2', '2077390': '2', '5311688': '4', '6025470': '2', '6025473': '1', '6025615': '2'}, 'GAA00001779R': {'1044680': '7', '1058668': '6', '1085667': '1', '1085668': '1', '1085669': '1', '1085670': '1'}, 'GAA00001802R': {'1029489': '2', '1053150': '4', '1103495': '1', '1212028': '1', '1212029': '1', '1212049': '4', '1212050': '4', '1212054': '1', '1212055': '1', '1212056': '6', '1212057': '6', '1212064': '2', '1212065': '2', '1220641': '5', '1220643': '5', '1220647': '81', '1220648': '9', '1220649': '15', '1220654': '5', '1220656': '5', '1220660': '81', '1220661': '9', '1220676': '15', '2020214': '2', '2024352': '2', '2047841': '6', '2067169': '218', '2077387': '245', '6035129': '1', '7083091': '1'}, 'GAA00001840R': {'1018743': '1', '1018744': '1', '1019202': '1', '1019203': '1', '1056986': '3', '1059966': '2', '1061172': '6', '1061173': '6', '1061174': '5', '1061175': '5', '1068191': '20', '1085665': '1', '1085666': '1', '1212025': '1', '1212028': '1', '1212029': '1', '1212054': '11', '1212055': '11', '1212062': '1', '1212063': '1', '1213764': '1', '2020204': '2', '2020214': '1', '2022970': '2', '2033780': '2', '2046201': '4', '2067169': '12', '2069823': '4', '2099264': '4', '2099265': '3', '5307082': '1', '5307084': '46', '5307090': '30', '5311685': '12', '5311687': '6', '5311688': '24', '5320533': '3', '6021750': '1', '6023135': '1', '6023140': '73', '6025470': '1', '6025471': '3', '6025472': '5', '6025614': '18', '6025615': '44', '6025622': '2', '6025655': '5', '6035423': '3', '6035424': '3', '7082886': '1'}, 'GAA00001843R': {'1044255': '3', '1044339': '2', '1044629': '2', '1044679': '2', '1044680': '3', '6026698': '9', '6035131': '11'}, 'GAA00001855R': {'1060059': '4', '1061172': '1', '1061173': '1', '1061174': '2', '1061175': '2', '1061176': '1', '1061177': '1', '1061178': '10', '1061179': '10', '1062566': '3', '1070644': '1', '1070645': '1', '1070646': '1', '1070647': '1', '1085900': '3', '5311686': '4', '6025449': '4', '6025614': '4', '6035037': '2', '6035421': '1', '6035422': '1'}, 'GAA00001873R': {'1027376': '11', '2034819': '10', '6025472': '6', '6035129': '2'}, 'GAA00001882R': {'1019198': '1', '1019199': '1', '1060058': '3'}, 'GAA00001907R': {'1068191': '1', '1212017': '2', '1212019': '2', '1212026': '1', '1212027': '1', '1212033': '1', '1212034': '1', '1212049': '1', '1212050': '1', '1212051': '1', '1212052': '1', '1213739': '3', '1213755': '3', '1213757': '32', '1213758': '36', '1213759': '41', '1213760': '41', '1213761': '4', '1213762': '4', '1213763': '3', '1213764': '3', '1213771': '1', '1213772': '1', '2067169': '98'}, 'GAA00001908R': {'1059966': '365', '1085667': '4', '1085668': '4', '2020204': '5', '6025470': '2', '6025652': '2'}, 'GAA00001916R': {'1044255': '1', '1044339': '1', '1044629': '1', '1044679': '2', '1044680': '1', '6026698': '2', '6035131': '75', '6038239': '2', '6045196': '13'}, 'GAA00001920R': {'1056982': '2', '1056983': '1', '1076397': '10', '1076398': '30', '1212037': '12', '1212038': '12', '1212051': '1', '1212052': '1', '1212060': '119', '1212061': '119', '2033362': '1', '2033416': '2', '2034880': '7', '2067169': '133', '2074407': '4', '2074797': '100', '6031350': '1', '6035129': '2'}, 'GAA00001937R': {'1059965': '7', '1059966': '20', '1060058': '12', '1060061': '1', '1060845': '4', '1212049': '1', '1212050': '1', '2066603': '2', '6025473': '1'}, 'GBC00000054R': {'1059966': '6', '1085665': '1', '1085666': '1', '1200558': '2', '1221402': '3', '1221404': '3', '2067169': '3'}, 'GDA00000342R': {'1061176': '3', '1061177': '4', '1061178': '12', '1061179': '12', '1070646': '3', '1070647': '3', '1099030': '13', '2080172': '4', '2082101': '4'}, 'GGA00001370R': {'1019172': '1', '1019349': '1', '1060061': '86', '1060063': '4', '1061176': '1', '1068191': '9', '1085899': '15', '1099013': '1', '1099032': '9', '1207506': '2', '1212053': '1', '1212071': '1', '1213773': '3', '1213774': '3', '1221402': '8', '1221404': '8', '1221407': '10', '1221408': '10', '1221411': '1', '1221413': '1', '1221418': '1', '1221420': '1', '1221425': '16', '1221434': '16', '2045401': '1', '2066603': '11', '2067169': '70', '5307082': '21', '5307090': '4', '5309397': '405', '5309719': '1', '5311688': '3', '5311837': '1', '5330389': '5', '6023140': '24', '6025448': '3', '6025470': '100', '6025612': '183', '6025614': '248', '6025615': '3', '6033224': '2', '6035131': '16'}, 'GGA00002542R': {'1059966': '4', '1060059': '1', '1061172': '1', '1061173': '1', '1207506': '2', '2067169': '1', '2082101': '1', '5311685': '7', '5330389': '8', '6022874': '8', '6025612': '7', '6035421': '1'}, 'GGA00002550R': {'1027376': '2', '1044255': '2', '1044338': '2', '1044680': '10', '1085899': '50', '1085900': '7', '1207652': '8', '1221411': '6', '1221414': '55', '1221418': '6', '1221421': '55', '1221427': '0', '1221436': '0', '2039803': '8', '2067169': '59', '5308938': '18', '5330389': '12', '6011923': '16', '6021750': '1', '6025471': '2', '6025614': '12'}, 'GGA00002557R': {'6025472': '3'}, 'GGA00002605R': {'1029491': '1', '1044627': '4', '1052662': '2', '1056985': '368', '1058388': '4', '1058668': '8', '1068191': '2', '1069625': '6', '1091592': '8', '1095027': '2', '2020204': '38', '5309719': '8', '6026691': '31', '6035129': '2', '6035423': '173', '6035424': '183'}, 'GGA00002638R': {'1018733': '7', '1018734': '7', '2020214': '5'}, 'GGA00002669R': {'1212053': '8', '1212060': '1', '1212061': '1', '1212071': '8', '2067169': '9'}, 'GGA00002682R': {'1027376': '24', '1050748': '28', '2034819': '57', '6021750': '10', '6026691': '22'}, 'GIA00000010R': {'1060059': '16', '2045401': '8', '4031608': '4', '5309516': '12', '6025470': '2'}, 'GIA00000108R': {'1059966': '330', '1060059': '20', '1060060': '16'}, 'GIA00000253R': {'1056983': '12', '2034819': '12', '6035129': '1'}, 'GLA00000198R': {'1059966': '20', '1085900': '1'}, 'GMA00000147R': {'1027376': '339', '1027377': '9', '1044255': '4', '1044339': '5', '1044631': '2', '1044680': '13', '1052439': '11', '1058388': '2', '1062899': '1', '1068191': '60', '1085900': '8', '2033362': '329', '2071627': '2', '2094957': '1', '6035129': '10', '6035137': '9', '6042892': '9', '6068318': '0', '7083088': '3'}, 'GOA00000333R': {'1026842': '5', '1060065': '13', '1061176': '6', '1061177': '6', '1061178': '24', '1061179': '24', '1068191': '6', '1200628': '4', '1200655': '4', '5307084': '107', '6023140': '107', '6025472': '7', '6035129': '2'}, 'GOA00000682R': {'1060065': '2', '1068191': '24', '1085665': '15', '1085666': '15', '1085669': '20', '1085670': '20', '1085900': '1', '1099029': '1', '1099030': '2', '1213761': '4', '1213762': '4', '1213765': '1', '1213766': '1', '2067169': '10', '6025470': '6', '6035131': '1'}, 'GOA00000690R': {'1060058': '183', '1061173': '1', '1213757': '1', '1213758': '1', '1213765': '1', '1213766': '1', '2082101': '4', '5311686': '10', '5311688': '2', '6025612': '10', '6025615': '2', '6035129': '1'}, 'GOA00000701R': {'1099027': '1', '1212047': '1', '1212048': '1', '1212051': '1', '1212052': '1', '1212053': '1', '1212058': '1', '1212059': '1', '1212071': '1'}, 'HK000000056H': {'6025475': '3', '6025631': '4', '6025659': '6', '6025662': '3'}, 'HK000000102H': {'5309397': '5', '6025614': '1'}, 'HK000000336H': {'1024013': '2', '1024014': '2', '1070126': '99', '6025472': '2'}, 'HK000000407H': {'2016178': '2'}, 'HK000000528H': {'1029489': '13'}, 'HK000000580H': {'1016296': '22', '1044255': '139', '1044338': '129', '1044339': '12', '1044627': '135', '1044630': '137', '1044680': '1135', '1060058': '272', '5312082': '45', '5312084': '27', '6023135': '10', '6025640': '10', '6035417': '27', '6035418': '27'}, 'HK000000600H': {'1044255': '130', '1044338': '130', '1044680': '250', '1048539': '2', '1048540': '4', '1200558': '8', '1200575': '8', '2016178': '76', '2016179': '60', '2021355': '16', '6035129': '61'}, 'HK000000794H': {'6026691': '1', '6026694': '1'}, 'HK000000866H': {'1024101': '4', '1024102': '2', '1024445': '10', '2016178': '10', '2016179': '10', '2016180': '10', '2024352': '4', '2027725': '8', '2028369': '6'}, 'HK000001068H': {'1019204': '9', '1019205': '9', '1212054': '2', '1212055': '2', '2100900': '2'}, 'HK000001424H': {'1044255': '4', '1044338': '4', '1044627': '3', '1044629': '1', '1044679': '5', '1044680': '7', '6025474': '13', '6026698': '17'}, 'JAA00000075R': {'1044628': '1', '1058668': '1', '1062264': '2', '1062271': '1', '1085898': '1', '1220678': '2', '1220692': '2', '2067169': '2', '2077387': '4', '6035129': '2'}, 'JAA00000111R': {'1061172': '8', '1061173': '8', '1061176': '2', '1061177': '5', '2018105': '4', '2027735': '6', '2039803': '6', '6035129': '1', '7083088': '1'}, 'JAA00000161R': {'1018729': '1', '1018730': '3', '1200558': '10', '1200575': '10', '2020214': '1', '2031065': '3', '5340222': '1', '6033231': '1', '6035129': '1', '6035423': '1', '6035424': '1'}, 'JAA00000339R': {'1018751': '1', '1018752': '1', '1019190': '4', '1019191': '4', '1024445': '7', '1085899': '15', '1212017': '2', '1212019': '2', '1212047': '10', '1212048': '10', '1212049': '4', '1212050': '4', '1212051': '1', '1212052': '1', '1212053': '21', '1212054': '6', '1212055': '6', '1212056': '12', '1212057': '12', '1212071': '21', '1213739': '8', '1213755': '8', '1213759': '17', '1213760': '17', '1213761': '8', '1213762': '8', '1213767': '7', '1213768': '7', '1213771': '1', '1213772': '1', '1221401': '3', '1221432': '3', '2016178': '7', '2020214': '4', '2024352': '7', '2067169': '129', '2099264': '12', '5307084': '28', '5307090': '2', '5307091': '29', '5308825': '27', '6021091': '30', '6023140': '1', '6025470': '8', '6025471': '2', '6025472': '1', '6025473': '8'}, 'JAA00000442R': {'1019199': '1', '1056983': '1'}, 'JAA00000445R': {'1061172': '1', '1061173': '1', '1061174': '2', '1061175': '2', '1212026': '1', '1212027': '1', '1212049': '1', '1212050': '1', '2023157': '1', '2099265': '1', '6026691': '2'}, 'JBA00000011R': {'1016296': '3', '1019154': '9', '1019155': '8', '1019162': '4', '1019163': '4', '1019989': '6', '1029490': '2', '1044680': '18', '1047717': '10', '1059554': '6', '1213765': '14', '1213766': '15', '1213769': '1', '1213770': '1', '2018105': '10', '2024352': '2', '2027735': '1', '2067169': '13', '4033016': '2', '6035129': '4', '7083088': '2'}, 'JBA00000149R': {'1018902': '1', '1022914': '1', '1044255': '1', '1044338': '1', '1044630': '1', '1044680': '1', '1047717': '1', '1059860': '1', '1061176': '2', '1068191': '3', '1085900': '3', '1212030': '2', '1212070': '2', '2067169': '4', '2071542': '4', '6025473': '1', '6035129': '1'}, 'JBA00000272R': {'1024101': '5', '1024446': '1', '1029489': '8', '1070115': '2', '1212056': '103', '1212057': '103', '1212060': '7', '1212061': '7', '1212062': '2', '1212063': '2', '1216326': '5', '1216327': '5', '2016178': '13', '2016179': '13', '2024352': '12', '2027726': '1', '2046197': '1', '2066603': '38', '2067169': '94', '2074098': '1', '5307082': '1', '5311688': '2', '5311837': '5', '6023135': '1', '6025615': '2', '6027894': '4', '6027895': '4', '6027898': '4', '6035129': '2'}, 'JBA00000286R': {'1024101': '1', '1060066': '12', '1060847': '17', '1070117': '28', '1073767': '16', '1212054': '20', '1212055': '20', '1221402': '3', '1221404': '3', '1221413': '2', '1221420': '2', '1221426': '7', '1221427': '45', '1221430': '2', '1221435': '7', '1221436': '45', '1221439': '2', '2047841': '2', '2067169': '75', '2074098': '4', '5311683': '10', '5311686': '5', '5330389': '6', '6025470': '2', '6025614': '11', '6026691': '3', '6027946': '4', '6035129': '1'}, 'JBA00000293R': {'1029489': '2', '1083567': '3', '1212030': '10', '1212062': '5', '1212063': '5', '1212070': '10', '2027726': '5', '2067169': '15', '2074797': '1', '2075042': '20', '6025473': '10', '6035130': '1'}, 'JDA00000007R': {'1059966': '2'}, 'JDA00000042R': {'1016296': '1', '1060059': '0', '1062280': '1', '1085673': '1', '1085674': '1', '1207801': '1', '1213763': '2', '1213764': '2', '2067169': '1', '6027946': '1', '6035421': '1', '6035424': '1'}, 'JDA00000064R': {'1212030': '2', '1212042': '1', '1212064': '1', '1212065': '1', '1212070': '3', '1221401': '26', '1221402': '8', '1221403': '5', '1221404': '8', '1221407': '3', '1221408': '3', '1221411': '7', '1221414': '1', '1221418': '7', '1221421': '1', '1221425': '3', '1221426': '16', '1221427': '12', '1221428': '13', '1221429': '4', '1221430': '3', '1221431': '12', '1221432': '26', '1221433': '5', '1221434': '3', '1221435': '16', '1221436': '12', '1221437': '13', '1221438': '4', '1221439': '3', '1221440': '12', '2066603': '40', '2099265': '36', '6035037': '1'}, 'JDA00000108R': {'1019194': '1', '1019195': '2', '1020155': '1', '1024445': '2', '1027375': '8', '1027377': '1', '1051487': '4', '1059966': '4', '1060058': '150', '1060060': '5', '1061176': '2', '1061177': '2', '1063094': '12', '1063095': '51', '1068191': '12', '1076397': '1', '1081529': '3', '1085669': '1', '1085670': '1', '1085899': '9', '1085900': '1', '1212005': '5', '1212017': '3', '1212018': '5', '1212019': '3', '1212024': '4', '1212025': '4', '1212026': '8', '1212027': '8', '1212028': '3', '1212029': '2', '1212031': '1', '1212032': '1', '1212033': '1', '1212034': '1', '1212049': '12', '1212050': '12', '1212051': '7', '1212052': '7', '1212053': '8', '1212054': '2', '1212055': '2', '1212056': '15', '1212057': '16', '1212071': '8', '1213744': '2', '1213745': '2', '1213746': '15', '1213747': '15', '1213748': '3', '1213749': '3', '1213757': '8', '1213758': '8', '1213759': '5', '1213760': '5', '1213761': '1', '1213762': '1', '1213763': '3', '1213764': '3', '1213765': '11', '1213766': '11', '1213769': '5', '1213770': '5', '1213771': '4', '1213772': '4', '1213773': '4', '1213774': '4', '1213777': '1', '1213778': '1', '2016178': '4', '2027725': '2', '2033412': '1', '2033414': '10', '2034880': '1', '2039803': '4', '2047841': '3', '2066603': '12', '2067169': '93', '2071576': '4', '2099265': '2', '5307083': '1', '5307084': '9', '5309052': '2', '5309397': '5', '5309719': '2', '5311688': '3', '6023135': '2', '6023140': '9', '6025470': '26', '6025614': '5', '6025615': '6', '6026691': '1', '6035129': '4', '6035130': '1', '6045210': '4', '7083081': '1'}, 'JDA00000123R': {'1042582': '1', '1044255': '1', '1044680': '1', '1058668': '1', '1062332': '1', '1062899': '1', '1207510': '4', '1212024': '1', '1212025': '1', '2046398': '4', '2067169': '1', '5307084': '3', '5307086': '1', '6012699': '1', '6021091': '1', '6023140': '1', '6025470': '1', '6025472': '3', '6035129': '1', '6035137': '1'}, 'JDA00000229R': {'1016296': '1', '1018730': '1', '1019146': '1', '1019149': '1', '1019168': '7', '1019347': '7', '1024132': '7', '1026842': '1', '1027375': '41', '1028461': '1', '1044338': '1', '1044627': '1', '1044679': '1', '1044680': '1', '1047717': '2', '1050748': '41', '1059860': '1', '1059966': '8', '1060064': '10', '1060065': '3', '1061172': '3', '1061173': '3', '1062266': '11', '1062271': '2', '1062566': '3', '1063094': '6', '1063095': '12', '1068191': '25', '1081529': '253', '1085898': '16', '1085899': '5', '1085900': '13', '1090047': '1', '1098989': '40', '1099012': '55', '1099013': '46', '1099027': '53', '1099028': '52', '1099029': '43', '1099030': '33', '1099031': '14', '1099033': '21', '1099034': '10', '1102365': '1', '1103673': '1', '1200670': '1', '1207669': '1', '1207672': '1', '1212017': '3', '1212019': '1', '1212026': '1', '1212027': '1', '1212028': '1', '1212047': '12', '1212048': '12', '1212049': '3', '1212050': '3', '1212051': '1', '1212052': '1', '1212053': '8', '1212054': '20', '1212055': '20', '1212056': '54', '1212057': '54', '1212058': '4', '1212059': '4', '1212060': '2', '1212061': '2', '1212066': '1', '1212067': '1', '1212068': '1', '1212069': '1', '1212071': '8', '1213757': '2', '1213758': '2', '2024263': '5', '2033362': '113', '2033411': '168', '2033414': '17', '2033415': '15', '2034819': '42', '2034880': '1', '2039803': '2', '2046398': '1', '2047841': '2', '2066603': '148', '2067169': '1', '2069385': '12', '2076386': '2', '2076388': '2', '2099265': '18', '5307084': '1', '5309397': '2', '5311686': '384', '5311688': '3', '5311833': '6', '5311837': '3', '5330389': '1', '6022467': '2', '6023140': '3', '6025470': '1', '6025471': '7', '6025473': '1', '6025614': '468', '6025615': '3', '6025622': '6', '6025629': '10', '6026698': '1', '6027946': '3', '6035129': '10', '6035429': '2', '6035430': '2', '6051884': '17', '7082886': '2'}, 'JDA00000259R': {'6035137': '46'}, 'JDA00000357R': {'1029489': '1', '1056984': '2', '1059966': '62', '1060058': '190', '1062266': '2', '1062267': '3', '1062271': '1', '1085901': '9', '1220899': '2', '1220912': '2', '2027725': '1', '2027782': '2', '2033411': '2', '5307084': '4', '5307090': '6', '5309397': '303', '5311686': '12', '5311687': '118', '5330389': '88', '6023140': '10', '6025448': '22', '6025614': '607', '6035129': '1'}, 'JDA00000360R': {'1027377': '2'}, 'JDA00000362R': {'1017232': '2', '1018916': '2', '1019206': '1', '1019207': '1', '1212030': '1', '1212070': '1', '2020061': '12', '2067169': '2'}, 'JDA00000364R': {'1044255': '8', '1044338': '8', '1044680': '4'}, 'JDA00000390R': {'1212053': '2', '1212071': '2', '2039803': '20', '2067169': '2'}, 'JDA00000410R': {'1047717': '-3', '1060059': '1', '1061176': '1', '1061177': '1', '1061178': '2', '1061179': '2', '1068191': '16', '1085669': '2', '1085670': '2', '1085671': '4', '1085672': '4', '1085673': '4', '1085674': '4', '1085899': '4', '1085900': '3', '1212024': '1', '1212025': '1', '1212028': '3', '1212029': '3', '1213718': '2', '1213743': '2', '1213748': '1', '1213749': '1', '1213757': '7', '1213758': '7', '1220683': '2', '1220684': '2', '1220697': '2', '1220698': '2', '2020204': '1', '2020214': '2', '2066603': '8', '2067169': '91', '2077387': '4', '2077388': '4', '2099265': '1', '5309397': '8', '5311683': '3', '5320813': '1', '6021750': '1', '6025470': '2', '6025614': '6', '6025615': '1', '6025618': '3', '6051882': '1', '6051883': '1', '6051884': '2'}, 'JDA00000424R': {'1044629': '4', '1044680': '5', '1058668': '4', '1068191': '13', '1073265': '2', '1212026': '1', '1212027': '1', '1212028': '1', '1212029': '1', '1212031': '2', '1212032': '2', '2067169': '3', '5311686': '13', '6025470': '1', '6025612': '13', '6035129': '1', '6035137': '1'}, 'JDA00000435R': {'1078756': '1', '5312082': '16', '5326444': '29', '5326445': '8', '5340164': '24', '6035417': '8', '6035418': '8'}, 'JDA00000444R': {'1212054': '1', '1212055': '1', '1221430': '3', '1221439': '3', '2067169': '4', '5309718': '2', '5330389': '2', '6025614': '2'}, 'JDA00000446R': {'1085665': '12', '1085666': '12', '1212005': '3', '1212017': '6', '1212018': '3', '1212019': '6', '1220064': '48', '1220065': '48', '2045070': '2', '2045071': '2', '2066603': '18'}, 'JDB00000020R': {'1050748': '1', '1059965': '2', '2034819': '1'}, 'JDC00000014R': {'1044255': '1', '1213765': '2', '1213766': '1', '2020204': '1'}, 'JDC00000024R': {'1060066': '4', '1070115': '34', '6025472': '1', '6051885': '4'}, 'JDC00000025R': {'1212035': '1', '1212036': '1', '2067169': '2', '6025471': '1', '6025644': '2'}, 'JEA00000220R': {'1056982': '2', '1060060': '2', '1060065': '20', '1076397': '3', '1076398': '2', '1085898': '6', '1085899': '41', '1085900': '62', '1212024': '1', '1212025': '1', '1212031': '1', '1212032': '1', '1212033': '2', '1212034': '2', '1212037': '2', '1212038': '2', '1212039': '1', '1212040': '1', '1212047': '2', '1212048': '2', '1212056': '2', '1212057': '2', '1212060': '1', '1212061': '1', '1213759': '1', '1213760': '1', '1220645': '6', '1220646': '1', '1220658': '6', '1220659': '1', '1220679': '2', '1220693': '2', '1221425': '4', '1221429': '1', '1221430': '4', '1221434': '4', '1221438': '1', '1221439': '4', '2023154': '1', '2033413': '1', '2033415': '1', '2034879': '2', '2067169': '32', '2074406': '5', '2074407': '5', '2077387': '14', '2077388': '4', '5308825': '2', '5309052': '2', '6023135': '2', '6035129': '1', '6035423': '1', '6035424': '1'}, 'JFA00000004R': {'1016296': '1', '1041174': '41', '1041180': '25', '1060064': '2', '1083242': '1', '1083244': '1', '1085899': '1', '1085900': '1', '1200558': '12', '1200566': '20', '1200583': '20', '1200590': '12', '2045401': '35', '2046045': '40', '2046196': '24', '2066603': '1', '2067169': '1', '4040561': '1'}, 'JGA00000012R': {'6025473': '2'}, 'JHA00000034R': {'1060058': '200', '1060064': '50', '1063094': '600'}, 'JKA00000053R': {'1060058': '270', '1060065': '0'}, 'JKA00000059R': {'1213739': '368', '1213755': '366', '1213757': '65', '1213758': '64', '2066603': '8', '2067169': '273', '2071576': '3', '5308764': '2', '6022472': '2', '6025470': '7', '6033225': '1', '6035517': '13', '6035518': '13'}, 'JKA00000096R': {'1058668': '8', '1069450': '8'}, 'JKB00000004R': {'1207779': '8', '1214328': '151'}, 'JLC00000025R': {'1029490': '1'}, 'JLC00000031R': {'1019146': '2', '1019147': '2', '1019168': '2', '1019169': '2', '1019257': '2', '1019258': '2', '1019277': '2', '1019278': '2', '1044255': '1', '1044338': '1', '1044680': '1', '1069625': '1', '1076397': '2', '1091593': '1', '1212026': '2', '1212027': '2', '1213739': '4', '1213755': '4', '1213757': '4', '1213758': '4', '1213759': '8', '1213760': '8', '1213761': '1', '1213762': '1', '1213763': '2', '1213764': '2', '1213765': '4', '1213766': '4', '1213773': '4', '1213774': '4', '2020214': '20', '2067169': '44', '2074797': '2', '7083088': '2'}, 'JLC00000064R': {'2023527': '1', '2027735': '3', '2039803': '1'}, 'JLC00000122R': {'1068191': '31', '1212028': '2', '1212029': '2', '1213739': '5', '1213755': '5', '1213757': '12', '1213758': '12', '1213763': '4', '1213764': '4', '1213765': '7', '1213766': '7', '2067169': '32'}, 'JLC00000192R': {'1019332': '5', '1019425': '5', '1041180': '15', '1056982': '8', '1200558': '21', '1200575': '22', '1212024': '1', '1212025': '1', '1212053': '2', '1212056': '1', '1212057': '1', '1212071': '2', '2020214': '7', '2031065': '9', '2033362': '8', '2034879': '8', '2039857': '8', '2046197': '35', '2046291': '34', '2067169': '3', '4031608': '48', '6025470': '1', '6035129': '2', '6035130': '8', '7083088': '1'}, 'JLC00000214R': {'1024101': '23', '1212017': '4', '1212019': '4', '1212049': '5', '1212050': '5', '1212051': '5', '1212052': '5', '1212056': '33', '1212057': '33', '1212058': '2', '1212059': '2', '1212060': '2', '1212061': '2', '1221401': '1', '1221426': '3', '1221430': '103', '1221432': '1', '1221435': '3', '1221439': '103', '2027726': '6', '2028369': '17', '2067169': '178', '6035129': '2'}, 'JLC00000234R': {'6035137': '5'}, 'JLC00000249R': {'1027376': '152', '1070123': '10', '1207798': '5', '2020204': '12', '2033362': '152', '2045070': '10', '2045071': '10', '2067169': '20', '5311687': '4', '5330389': '71', '6025470': '2', '6025614': '77', '6026691': '133'}, 'JLC00000258R': {'5309052': '4', '6021153': '6'}, 'JLC00000268R': {'1027375': '1', '1200575': '1', '1203447': '1', '2033362': '1', '6035421': '3', '6035422': '4', '7083088': '1'}, 'JLD00000001R': {'1019196': '1', '1019197': '1', '1029351': '1', '1029352': '1', '1051487': '1', '1062265': '2', '1062271': '1', '1085898': '1', '1200568': '8', '1200595': '8', '1207649': '6', '1207652': '2', '1207655': '2', '1207659': '6', '1207662': '4', '1207669': '1', '1212005': '1', '1212018': '1', '1212024': '1', '1212025': '1', '2046196': '16', '2046291': '32', '2047011': '2', '2067169': '2', '2071542': '1', '2071543': '2', '2099265': '4', '5311685': '1', '6025470': '1', '6025472': '1', '6025622': '1', '6027892': '1', '6035129': '1', '6035421': '1', '6035422': '1', '6050836': '6'}, 'JLD00000002R': {'1027376': '1', '1212005': '3', '1212018': '3', '1212028': '5', '1212029': '5', '1212030': '3', '1212033': '1', '1212034': '1', '1212049': '1', '1212050': '1', '1212053': '5', '1212060': '1', '1212061': '1', '1212070': '3', '1212071': '5', '1213718': '7', '1213738': '8', '1213739': '3', '1213743': '7', '1213744': '15', '1213745': '15', '1213746': '4', '1213747': '4', '1213748': '2', '1213749': '2', '1213750': '22', '1213751': '22', '1213752': '3', '1213753': '3', '1213754': '8', '1213755': '3', '1213757': '4', '1213758': '4', '1213759': '27', '1213760': '27', '1213763': '29', '1213764': '29', '1213767': '13', '1213768': '13', '1216678': '2', '1216679': '2', '2034820': '1', '2066603': '300', '2067169': '51', '6035037': '3'}, 'JLD00000012R': {'2044431': '7', '2044432': '6'}, 'JLD00000028R': {'1041174': '4', '1044255': '10', '1044338': '10', '1044680': '10', '1051689': '20', '1062333': '20', '1083240': '2', '1083241': '2', '2046045': '3', '2074098': '6', '6026691': '2', '6033025': '2', '6035129': '5'}, 'JLD00000029R': {'2067169': '4'}, 'JLD00000034R': {'2034879': '20'}, 'LAA00000022R': {'1016296': '7', '1019152': '1', '1019153': '1', '1019154': '1', '1019155': '1', '1019190': '1', '1019191': '3', '1019198': '1', '1019210': '2', '1022939': '1', '1022945': '2', '1024101': '1', '1024102': '7', '1024446': '2', '1024523': '1', '1026842': '3', '1027376': '2', '1029489': '9', '1042847': '2', '1042848': '2', '1046205': '22', '1046207': '12', '1046208': '1', '1046209': '26', '1050748': '1', '1051487': '6', '1056983': '2', '1083565': '1', '1200568': '2', '1200585': '2', '1200616': '3', '1200622': '3', '1200623': '1', '1200624': '1', '1212026': '4', '1212027': '4', '1212030': '2', '1212049': '3', '1212052': '1', '1212053': '1', '1212057': '3', '1212070': '2', '1212071': '1', '1213750': '1', '1213751': '1', '1213766': '4', '2020061': '2', '2020214': '22', '2034819': '2', '2047841': '31', '2067169': '13', '2071576': '1', '6025470': '3', '6025473': '5', '6027894': '1', '6027895': '2', '6035129': '7', '6035131': '2', '7083088': '32', '7088069': '8'}, 'LAA00000023R': {'1020155': '8', '1024102': '8', '1029489': '1', '1044631': '1', '1044680': '105', '1056983': '501', '1056984': '129', '1056986': '242', '1058196': '280', '1058668': '6', '1062899': '2', '1069625': '1', '1085899': '8', '1085900': '20', '1086121': '1', '1086122': '1', '1086266': '376', '1095027': '2', '2027727': '8', '2027729': '8', '2034819': '893', '2034879': '9', '2039857': '1', '2039858': '1', '2067169': '1', '2103604': '2', '6025470': '1', '6035129': '3', '6035137': '1', '6042892': '62', '6042893': '199', '6042895': '1', '7083088': '38'}, 'LAA00000035R': {'2016178': '1', '2034879': '1', '2039857': '1', '2039858': '1'}, 'LAA00000179R': {'1024101': '15', '1024102': '13', '1043730': '3', '1044004': '3', '1044339': '2', '1076398': '1', '1213769': '1', '1213770': '1', '2016178': '14', '2016179': '19', '2016180': '18', '2020204': '10', '2020214': '6', '2024352': '5', '2027726': '29', '2027735': '13', '2031065': '4', '2033362': '2', '2068448': '2', '2074406': '1', '2086056': '2', '2086057': '2', '6027894': '6', '6027895': '2', '6027896': '4', '6027897': '5', '6027898': '14', '6035129': '1', '6035143': '3', '6035951': '1'}, 'LAA00000251R': {'1044680': '1', '1047717': '1', '1059554': '1', '2016178': '3', '2016179': '3', '2016180': '3', '2020204': '16', '2024352': '3', '6027898': '43'}, 'LAA00000266R': {'2067169': '2'}, 'LAA00000268R': {'2027735': '3'}, 'LAA00000333R': {'1019162': '1', '1019345': '1', '1212026': '2', '1212027': '2', '1212033': '1', '1212034': '1', '1212060': '1', '1212061': '1', '2066603': '10', '2067169': '2', '6035129': '2'}, 'LAA00000336R': {'1212056': '2', '1212057': '2', '2027735': '12', '2039803': '2'}, 'LAA00000358R': {'1085665': '6', '1085666': '6', '1085667': '8', '1085668': '8', '1085669': '2', '1085670': '2', '1085671': '11', '1085672': '11', '1085673': '16', '1085674': '16'}, 'LAA00000364R': {'1024445': '2', '1051487': '1', '1068191': '2', '2034880': '1', '6035129': '1'}, 'LCA00000111R': {'1024102': '2', '1043745': '8', '1043746': '8', '1046207': '74', '1046209': '1', '1053148': '27', '1056984': '70', '1095014': '19', '1203798': '1', '1203915': '1', '1212053': '137', '1212056': '13', '1212057': '13', '1212060': '93', '1212061': '93', '1212064': '40', '1212065': '40', '1212071': '137', '2016178': '101', '2020214': '17', '2028370': '2', '2031065': '1', '2033411': '73', '2047841': '109', '2067169': '277', '2073384': '16', '2074098': '10', '2074406': '19', '5315327': '132', '6021750': '1', '6031350': '2', '6035129': '2', '6035137': '10', '7083081': '1', '7083088': '4', '7083141': '1'}, 'LCA00000131R': {'1024445': '2', '1083245': '10', '1083247': '10', '1207652': '2', '1212005': '1', '1212018': '1', '1212024': '3', '1212025': '3', '1212026': '1', '1212027': '1', '1212028': '7', '1212029': '7', '1212033': '21', '1212034': '21', '1212053': '1', '1212056': '1', '1212057': '1', '1212071': '1', '1220641': '4', '1220645': '38', '1220648': '12', '1220649': '4', '1220654': '4', '1220658': '38', '1220661': '12', '1220676': '4', '2016179': '2', '2023154': '60', '2024352': '2', '2033674': '50', '2046398': '2', '2067169': '122', '2077387': '108', '6026691': '3', '6026699': '1', '7083082': '2'}, 'LCA00000138R': {'1051487': '1'}, 'LCA00000160R': {'1016296': '3', '1046209': '4', '1073776': '9', '1086268': '9', '1092499': '4', '1200558': '1', '1200568': '1', '1200575': '1', '1200585': '1', '1212041': '6', '1212042': '6', '1212049': '18', '1212050': '18', '1212054': '2', '1212055': '2', '1212058': '1', '1212060': '10', '1212061': '10', '1212062': '1', '1212063': '1', '1212064': '4', '1212065': '4', '2016178': '2', '2016179': '2', '2018105': '24', '2018307': '1', '2031065': '1', '2047841': '2', '2052804': '15', '2067169': '412', '2082722': '6', '4033016': '3', '5314068': '12', '6035421': '6', '6035422': '6'}, 'LCA00000333R': {'7083082': '0'}, 'OAA00000008R': {'1024445': '2', '1044339': '2'}, 'OIA00000005R': {'1085665': '1', '1085666': '1', '5311685': '16', '6025622': '16'}, 'OIA00000007R': {'1221411': '4', '1221418': '4', '2067169': '4'}, 'OIA00000015R': {'1099012': '2'}, 'PAA00000024R': {'1027376': '66', '1029490': '7', '2024352': '8', '2033362': '58', '2066603': '16', '5309397': '18', '5309719': '48', '6021750': '40', '6025614': '18'}, 'PAA00000311R': {'1027376': '61', '1029490': '67', '1044255': '1', '1044339': '1', '1044680': '3', '1050748': '1', '1056983': '12', '1056985': '3', '1058388': '1', '1068191': '2', '1085899': '3', '2024352': '75', '2033362': '64', '2094981': '3', '6035129': '2', '6035137': '4', '7083088': '1', '7083091': '1'}, 'QJA00000063R': {'1019192': '1', '1019193': '1', '1024101': '2', '1024599': '19', '1024600': '19', '1046205': '2', '1046207': '4', '1046209': '14', '1081529': '36', '1083565': '2', '1085898': '4', '1200568': '5', '1200570': '2', '1200585': '5', '1200597': '2', '1212005': '2', '1212017': '12', '1212018': '2', '1212019': '12', '1212024': '1', '1212025': '1', '1212026': '1', '1212027': '1', '1212028': '1', '1212029': '1', '1212030': '2', '1212031': '1', '1212032': '1', '1212033': '6', '1212034': '6', '1212047': '2', '1212048': '2', '1212049': '9', '1212050': '9', '1212051': '8', '1212052': '8', '1212053': '29', '1212054': '47', '1212055': '47', '1212056': '12', '1212057': '12', '1212060': '23', '1212061': '23', '1212062': '20', '1212063': '20', '1212064': '63', '1212065': '63', '1212070': '2', '1212071': '30', '1213767': '6', '1213768': '6', '1220684': '1', '1220698': '1', '2020214': '9', '2024352': '5', '2027735': '2', '2031065': '2', '2033362': '36', '2034879': '1', '2034880': '2', '2047841': '18', '2067169': '192', '2074406': '2', '2076386': '4', '2076388': '4', '2077387': '2', '6025470': '2', '6025471': '1', '6025472': '3', '6035037': '12', '6035129': '3', '6035130': '4', '6035136': '2'}, 'RAA00000014R': {'1060058': '3', '6022471': '1'}, 'RAA00000130R': {'1056984': '1', '1060058': '15', '1060847': '15', '1078498': '2', '1080876': '1', '1081529': '5', '1085673': '12', '1085674': '12', '1221428': '8', '1221430': '3', '1221437': '8', '1221439': '3', '2033412': '5', '2034880': '6', '2039857': '1', '2039858': '1', '2067169': '11', '5309590': '917', '5311369': '46', '5311685': '1', '6025622': '1', '6025632': '881', '6035129': '2'}, 'RAA00000206R': {'6026691': '1'}, 'RAA00000299R': {'1213769': '1', '1213770': '1', '2067169': '1', '6025470': '2'}, 'RAA00000335R': {'5311686': '11'}, 'SAA00000005R': {'1018902': '2', '1018903': '2', '1019198': '4', '1019202': '1', '1019210': '2', '1022794': '1', '1022939': '2', '1022945': '2', '1024101': '2', '1024446': '275', '1024599': '4', '1024600': '4', '1026842': '72', '1027196': '861', '1027375': '2', '1027377': '2', '1029490': '5', '1042848': '2', '1043108': '1', '1043745': '13', '1043746': '1', '1043800': '12', '1046205': '4', '1046209': '11', '1047533': '5', '1047717': '5', '1053148': '4', '1056982': '2', '1056983': '20', '1060319': '25', '1062566': '50', '1068191': '174', '1076398': '4', '1085673': '20', '1085674': '20', '1098989': '1', '1099013': '4', '1200558': '1', '1200568': '2', '1200575': '1', '1200585': '2', '1200616': '64', '1200622': '65', '1200628': '3', '1200655': '3', '1201590': '5', '1203447': '5', '1203792': '1', '1205153': '1', '1212028': '2', '1212029': '2', '1212033': '1', '1212034': '1', '1212041': '2', '1212054': '132', '1212055': '132', '1212056': '4', '1212057': '4', '1213759': '2', '1213760': '2', '1213763': '2', '1213764': '2', '1216318': '2', '1216319': '2', '2016178': '1131', '2020061': '80', '2020214': '2', '2024352': '1077', '2027357': '1', '2027725': '6', '2027726': '2', '2027735': '250', '2028204': '1', '2031065': '11', '2033362': '21', '2033414': '2', '2033416': '2', '2039803': '6', '2047841': '9', '2048430': '2', '2058355': '2', '2060712': '1', '2067169': '249', '2074406': '4', '5311684': '90', '6021750': '2', '6023206': '1', '6025472': '1', '6025473': '1', '6025618': '90', '6025632': '8', '6035037': '2', '6035129': '4', '6035130': '10', '6035137': '50', '6045193': '4', '7021907': '1', '7083081': '1', '7083088': '14'}, 'SAA00000025R': {'1019168': '1', '1019169': '1', '1051487': '1', '1060058': '61', '1060059': '2', '1060065': '1', '1060850': '3', '1061176': '7', '1061177': '7', '1061178': '5', '1061179': '5', '1068191': '1', '1085666': '1', '1085667': '1', '1085668': '1', '1085671': '2', '1085672': '2', '1085673': '3', '1085674': '3', '1213752': '1', '1213753': '1', '1213757': '12', '1213758': '12', '1213759': '4', '1213760': '4', '1213761': '3', '1213762': '3', '1213765': '2', '1213766': '2', '2016178': '2', '2020204': '1', '2027735': '4', '2034880': '1', '2066603': '72', '2067169': '7', '5307084': '6', '5309052': '2', '5311688': '27', '5311837': '5', '6023135': '2', '6023140': '2', '6025448': '4', '6025449': '1', '6025471': '1', '6025472': '9', '6025614': '62', '6025615': '27', '6025618': '60', '6025620': '2', '6027896': '1', '6027897': '1', '6027946': '10', '6035129': '2', '6035130': '1', '6035423': '2'}, 'SAA00000038R': {'1018743': '1', '1018744': '1', '1019985': '1', '1019989': '2', '1027376': '2', '1029493': '1', '1052662': '1', '1056982': '1', '1058196': '1', '1060058': '6', '1060063': '6', '1060065': '6', '1060847': '2', '1062566': '32', '1085669': '3', '1085670': '3', '1085671': '1', '1085672': '1', '1099013': '56', '1099031': '8', '1099033': '1', '1099034': '1', '1212026': '3', '1212027': '3', '1212037': '5', '1212038': '5', '1212049': '1', '1212053': '1', '1212071': '1', '1213759': '2', '1213760': '2', '1213761': '3', '1213762': '3', '1213763': '2', '1213764': '2', '1213765': '1', '1213766': '1', '1216320': '2', '1216321': '2', '1216338': '2', '1216339': '2', '1216342': '1', '1216343': '1', '1221427': '3', '1221430': '12', '1221436': '3', '1221439': '12', '2016178': '6', '2020061': '1', '2020204': '8', '2020214': '2', '2027735': '67', '2028370': '2', '2031065': '9', '2033362': '1', '2033415': '1', '2034879': '13', '2034880': '1', '2039803': '6', '2039857': '7', '2067169': '47', '2074406': '2', '4040561': '1', '5311683': '4', '5311684': '1', '5311688': '2', '5311837': '2', '5330389': '122', '6025470': '1', '6025471': '8', '6025612': '10', '6025614': '100', '6025615': '2', '6025618': '5', '6025632': '12', '6026691': '3', '6033231': '1', '6035037': '1', '7083088': '1'}, 'SAA00000072R': {'1044255': '1', '1044339': '1', '1044680': '2', '1099012': '1', '1099027': '1', '1099028': '1', '1099030': '2', '1099031': '1', '1213761': '2', '1213762': '2', '6025472': '50', '6035129': '1', '6035419': '18', '6035420': '20', '6035427': '100', '6035428': '98'}, 'SAA00000205R': {'7083088': '1'}, 'SAG00000001R': {'7083088': '4', '7083091': '2'}, 'SAG00000006R': {'7083086': '2'}, 'SBA00000102R': {'1044680': '1', '1058668': '1', '1060847': '2', '1062332': '1', '1063094': '21', '1092343': '1', '1099029': '2', '5307084': '9', '5308938': '1', '6023140': '9'}, 'SBA00000194R': {'1019206': '1', '1019207': '1', '1044010': '2', '1076397': '6', '1085673': '20', '1085674': '20', '1085898': '20', '1213757': '1', '1213758': '1', '1216212': '8', '1216213': '8', '1216320': '8', '1216321': '8', '1216340': '8', '1216341': '8', '1220877': '4', '1220890': '4', '1221430': '1', '1221439': '1', '2020214': '1', '2067169': '29', '2074797': '6', '6035130': '2'}, 'SBA00000197R': {'1026842': '11', '1200616': '5', '1200619': '4', '1213771': '2', '1213772': '2', '2020061': '8', '2027782': '5', '2067169': '19', '2100900': '2', '6025470': '2', '6035129': '1', '7083091': '1'}, 'SBA00000214R': {'1019150': '1', '1019151': '1', '2034819': '1'}, 'SDA00000093R': {'1019206': '1', '1019207': '1', '1019216': '2', '1019217': '2', '1060063': '2', '1061172': '3', '1061173': '3', '1061174': '9', '1061175': '9', '1086117': '2', '1086119': '2', '1212051': '2', '1212052': '2', '1213757': '1', '1213758': '1', '1213765': '2', '1213766': '2', '2020214': '3', '2027729': '2', '2067169': '7', '2082101': '3', '4076417': '3', '5309718': '5', '5330389': '5', '6025448': '3', '6025470': '1', '6025612': '5'}, 'SEA00000070R': {'1019198': '6', '1019199': '4', '1019206': '6', '1019207': '6', '1019224': '1', '1019225': '1', '1022939': '2', '1022943': '2', '1026842': '373', '1029489': '1', '1042847': '61', '1042848': '73', '1046205': '1', '1046209': '4', '1076932': '1', '1200616': '371', '1200619': '10', '1200622': '364', '1202210': '2', '1202211': '2', '1212026': '4', '1212027': '4', '1212058': '1', '1212059': '1', '1212060': '4', '1212061': '4', '2020061': '368', '2020214': '104', '2024352': '1', '2027782': '3', '2031065': '12', '2033673': '10', '2033674': '2', '2066603': '8', '2067169': '11', '2074362': '4', '6021750': '2', '6035037': '3', '6035129': '41', '6035951': '2'}, 'SEA00000162R': {'7082881': '3', '7082886': '1'}, 'SGA00000008R': {'1044629': '1', '1044680': '1', '1060058': '4', '1062332': '1', '1086265': '1', '1099015': '1', '1099029': '4', '1099033': '1', '1212064': '1', '1212065': '1', '1216212': '2', '1216213': '2', '1216308': '4', '1216309': '4', '1216320': '4', '1216321': '4', '1216336': '2', '1216337': '2', '1216338': '5', '1216339': '5', '1216340': '2', '1216341': '2', '1220683': '3', '1220684': '3', '1220697': '3', '1220698': '3', '2067169': '31', '2077387': '6', '2077388': '6', '2099264': '5', '6035129': '1'}, 'SGA00000011R': {'1027377': '1', '1044255': '2', '1056982': '44', '1056984': '243', '1060063': '1', '1103087': '1', '1212017': '2', '1212019': '2', '1212047': '1', '1212048': '1', '1212049': '8', '1212050': '8', '1212053': '173', '1212056': '4', '1212057': '4', '1212071': '171', '1213739': '4', '1213746': '1', '1213747': '1', '1213755': '4', '1213757': '6', '1213758': '6', '1213759': '3', '1213760': '3', '1213761': '3', '1213762': '3', '1213763': '4', '1213764': '4', '2033362': '337', '2067169': '227', '5307082': '1', '5311687': '16', '5330389': '181', '6023135': '1', '6025614': '192', '6035129': '4', '6045210': '2', '7083091': '1'}, 'SGA00000026R': {'1019224': '1', '1019225': '1', '1024101': '52', '1024445': '18', '1027376': '2', '1029489': '79', '1044680': '1', '1073114': '2', '1073116': '2', '1212024': '8', '1212025': '8', '1212033': '2', '1212034': '2', '1212037': '34', '1212038': '34', '1212041': '38', '1212042': '38', '1212045': '14', '1212046': '14', '1212047': '2', '1212048': '2', '1212049': '1', '1212050': '1', '1212053': '1', '1212054': '1', '1212055': '1', '1212056': '20', '1212057': '20', '1212060': '377', '1212061': '377', '1212064': '21', '1212065': '21', '1212071': '1', '1216324': '2', '1216325': '2', '2016178': '101', '2020061': '4', '2020214': '1', '2024352': '132', '2028204': '12', '2028369': '12', '2028370': '2', '2033362': '2', '2067169': '544', '2077387': '4', '2084288': '16', '6021750': '2', '6035129': '12', '6035130': '2', '6055314': '4', '7021907': '8', '7083088': '1'}, 'SGA00000184R': {'1059966': '130', '6025472': '2', '6035037': '1'}, 'SGA00000245R': {'1060060': '3', '2016178': '1'}, 'SHA00000396R': {'1019200': '2', '1019201': '2', '1024101': '2', '1029489': '2', '1046207': '2', '1076397': '60', '1076398': '19', '1212024': '2', '1212025': '2', '1212056': '29', '1212057': '29', '1212060': '15', '1212061': '15', '1212062': '2', '1212063': '2', '1212064': '2', '1212065': '2', '1221427': '8', '1221428': '5', '1221429': '1', '1221430': '57', '1221436': '8', '1221437': '5', '1221438': '1', '1221439': '56', '2020214': '2', '2024352': '2', '2028369': '1', '2047841': '2', '2067169': '119', '2074797': '61', '6035129': '4', '7083081': '1', '7083089': '1', '7083091': '3'}, 'SHA00000400R': {'1044255': '6', '1044338': '6', '1044680': '22', '1061172': '4', '1061173': '4', '1061174': '12', '1061175': '12', '1061176': '14', '1061177': '14', '1061178': '27', '1061179': '27', '1070644': '2', '1070645': '2', '1070646': '1', '1070647': '1', '1212054': '2', '1212055': '2', '1213757': '6', '1213758': '6', '2046445': '2', '2080168': '1', '2082101': '1', '5309315': '1', '5309718': '6', '5311686': '6', '5330389': '18', '6025470': '3', '6025614': '24', '6025670': '1', '6026691': '35'}, 'SJA00000029R': {'1026842': '14', '1200616': '13', '1200622': '13', '2031065': '24'}, 'SJA00000038R': {'1044629': '1', '1044680': '3', '1047717': '1', '1059860': '1', '1207662': '2', '1207664': '2', '1207666': '2', '1212026': '1', '1212027': '1', '2067169': '1', '6025472': '2', '6035129': '1'}, 'SJA00000048R': {'1056984': '1', '1060060': '20', '1060063': '45', '1060848': '-2', '1098989': '12', '1099028': '6', '1099031': '18', '1099033': '5', '1212068': '8', '1212069': '8', '1213767': '2', '1213768': '2', '2034820': '1', '2066603': '4', '2067169': '8', '6035129': '1'}, 'SJA00000049R': {'1016296': '1', '1024101': '2', '1024102': '3', '1044255': '2', '1044627': '1', '1047717': '1', '1056982': '7', '2027735': '5', '2033362': '6', '2033414': '1', '2034879': '6', '2034880': '6', '6027895': '3', '6027896': '5', '6027897': '5', '6027898': '8', '6035130': '1'}, 'SJA00000094R': {'1046209': '1', '1212056': '4', '1212057': '4', '1212060': '2', '1212061': '2', '2016178': '2', '2033414': '2', '2047841': '1', '2067169': '4', '6035129': '1'}, 'SJA00000100R': {'1060059': '843'}, 'SJA00000311R': {'1024101': '2', '1024102': '8', '2016178': '10', '2016179': '10', '2016180': '8', '2024352': '10', '6021750': '2', '6027896': '3', '6027897': '3', '6027898': '3'}, 'SJA00000318R': {'1024446': '1', '1026842': '1', '1200630': '1', '1204405': '1', '1212060': '1', '1212061': '1', '2016178': '1', '2016179': '1', '2016180': '1', '2024352': '1', '2028204': '2', '2033671': '1', '2046067': '1', '2046199': '2', '2046285': '1', '2046291': '2', '2046434': '2', '2067169': '6', '4031608': '2', '6035129': '2'}, 'SJA00000346R': {'5309397': '760', '5309718': '760', '6025614': '760'}, 'SLA00000004R': {'1059966': '1', '5307083': '39', '5307084': '30', '5311688': '44', '5311837': '9', '6023140': '55', '6025615': '43'}, 'SLA00000038R': {'1024101': '1', '1212047': '1', '1212048': '1', '1212049': '3', '1212050': '3', '1212060': '1', '1212061': '1', '1215834': '3', '1215835': '3', '1215850': '3', '1215851': '3', '2016178': '1', '2016179': '1', '2016180': '1', '2023157': '1', '2028369': '1', '2067169': '17', '2077387': '6', '2077390': '8'}, 'SLA00000053R': {'1024445': '1', '1051487': '3', '1068191': '1', '1212031': '1', '1212032': '1', '1212037': '1', '1212038': '1', '2016179': '1', '2028369': '1', '2039803': '3', '2066603': '2', '6025471': '1'}, 'SLA00000060R': {'1046207': '21', '1053148': '3', '1095014': '55', '1212028': '4', '1212029': '4', '1212051': '10', '1212052': '10', '1212056': '10', '1212057': '10', '1212060': '75', '1212061': '75', '1212064': '61', '1212065': '61', '2016178': '24', '2047841': '28', '2067169': '178', '2074406': '55', '6023206': '5', '6027943': '18', '6035129': '3', '7083081': '2', '7083088': '1', '7083091': '1'}, 'SLA00000070R': {'1028463': '6', '1029489': '1', '1200678': '6', '2027735': '2', '2046196': '6', '2046291': '12', '4031608': '12'}, 'SLA00000082R': {'1016296': '1', '1024446': '6', '1027376': '64', '1043745': '4', '1043746': '4', '1046207': '1', '1046209': '15', '1058196': '13', '1212054': '4', '1212055': '4', '1212056': '19', '1212057': '19', '1212060': '38', '1212061': '38', '1212064': '5', '1212065': '5', '1213771': '24', '1213772': '24', '2016178': '20', '2016180': '1', '2020214': '16', '2024352': '6', '2027735': '1', '2033362': '30', '2033412': '6', '2033414': '4', '2047841': '14', '2050412': '1', '2052804': '16', '2067169': '632', '2099264': '48', '4071409': '1', '5309052': '3', '6023140': '6', '6031350': '4', '6035037': '19', '6035129': '4', '6035130': '2', '7083088': '1'}, 'SLA00000130R': {'1213759': '1', '1213760': '1', '2067169': '1', '6035130': '1'}, 'SLA00000139R': {'1083567': '14', '2074406': '11', '2074797': '10', '6025472': '1', '6035130': '1', '6044607': '14'}, 'SLA00000152R': {'1024101': '1', '2027735': '2'}, 'SLA00000157R': {'1085665': '5', '1085666': '5', '5307086': '2', '6012699': '2', '6035423': '3', '6035424': '3'}, 'SLA00000201R': {'1024033': '3', '1024034': '3', '1063095': '18', '1085671': '1', '1085672': '1', '1099029': '2', '2020204': '6', '5307082': '10', '6023140': '10', '6025472': '4'}, 'SLA00000203R': {'1029489': '6', '1044627': '1', '1044679': '2', '1044680': '2', '1047717': '1', '1059860': '1', '1081529': '24', '1092343': '1', '1099012': '1', '1099027': '4', '1099030': '15', '1099031': '38', '1212049': '2', '1212050': '2', '1212056': '15', '1212057': '15', '2020204': '2', '2024352': '9', '2033412': '24', '2034879': '24', '2067169': '18', '5308938': '1', '5309719': '1', '5311691': '1', '6023135': '1', '6025632': '1', '6035129': '5', '7083088': '2'}, 'SLA00000207R': {'1024446': '6', '1106485': '1', '1212035': '5', '1212036': '5', '1212051': '4', '1212052': '4', '1212054': '3', '1212055': '3', '2024352': '6', '2067169': '11', '6035129': '4'}, 'SLA00000215R': {'1019146': '1', '1019147': '1', '1019154': '1', '1019155': '1', '1212031': '1', '1212032': '1', '6025473': '4', '6035129': '1'}, 'SLA00000221R': {'1212005': '2', '1212018': '2', '1212026': '1', '1212027': '1', '2067169': '3'}, 'SLA00000244R': {'1044255': '1', '1044338': '0', '1044680': '1', '1058668': '1', '1068191': '1', '1085665': '3', '1085666': '3', '1085667': '4', '1085668': '4', '1085669': '9', '1085670': '9', '1085673': '69', '1085674': '69', '1099013': '2', '1213757': '5', '1213758': '5', '1213759': '1', '1213760': '1', '1213763': '5', '1213764': '7', '1213765': '9', '1213766': '9', '1213767': '4', '1213768': '4', '2044623': '22', '2066603': '23', '2067169': '7', '2099265': '11', '6035129': '1'}, 'SLA00000246R': {'1024101': '1'}, 'SLA00000254R': {'1044679': '9', '1060058': '37', '1086264': '3', '1213763': '12', '1213764': '12', '1213771': '9', '1213772': '9', '2067169': '12', '6023140': '4', '6035129': '3'}, 'SLA00000259R': {'1016296': '36', '1018729': '36', '1018762': '36', '1041174': '72', '1213759': '19', '1213760': '19', '2046045': '36', '2046196': '36', '2066603': '68', '4057286': '36'}, 'SMA00000078R': {'1048540': '3', '1059966': '440', '2016178': '16', '2016179': '16', '2016180': '16', '5307085': '60', '6023140': '60', '6035131': '3'}, 'SMA00000084R': {'1056985': '3', '1085899': '3', '1099030': '3', '1212024': '2', '1212025': '2', '2034880': '4', '2066603': '4', '2067169': '2', '6035129': '2'}, 'SMA00000100R': {'1024445': '10', '1053148': '2', '1212056': '2', '1212057': '2', '1212060': '17', '1212061': '17', '1212064': '5', '1212065': '5', '2016178': '12', '2024352': '10', '2047841': '2', '2067169': '42'}, 'SNA00000007R': {'1063094': '12', '1070125': '6', '1073265': '12', '1073777': '5', '1207661': '50', '1212030': '30', '1212031': '6', '1212032': '6', '1212070': '31', '1220672': '1', '1221202': '1', '2057153': '44', '2067169': '42', '2077387': '2', '5326444': '2', '5340164': '10'}, 'SNA00000010R': {'1028461': '1', '1028463': '32', '1044255': '2', '1044338': '59', '1044680': '90', '1044815': '14', '1047885': '110', '1200678': '32', '1207037': '1', '2044459': '32', '2044461': '32', '2067169': '1', '6025472': '25', '6026691': '23', '6033226': '57', '6033230': '1', '7021907': '31'}, 'SNA00000030R': {'1212047': '1', '1212048': '1', '2045070': '22', '2045071': '23', '2067169': '1'}, 'SNA00000120R': {'1081529': '57', '1085899': '50', '1213769': '2', '1213770': '2', '2033362': '5', '2048430': '50', '2099265': '2'}, 'SNA00000128R': {'6025473': '85'}, 'SNA00000140R': {'1061174': '1', '1061175': '1', '1085899': '1', '1085900': '2'}, 'SNA00000144R': {'1059966': '14', '1061172': '11', '1061173': '11', '1061174': '10', '1061175': '10', '1085666': '1'}, 'SNA00000147R': {'1026842': '2', '1028463': '2', '1063097': '7', '1200686': '2', '2031065': '2', '2060712': '4'}, 'SPA00000004R': {'1060062': '35'}, 'SPA00000016R': {'1056985': '3', '2034879': '3', '5307084': '1', '6023135': '1', '6035130': '1'}, 'SPA00000126R': {'6035129': '1', '7083089': '1'}, 'SPA00000130R': {'1060058': '20', '1099028': '1', '1200686': '1', '1213718': '1', '1213743': '1', '1213744': '4', '1213745': '4', '1213748': '1', '1213749': '1', '1213752': '1', '1213753': '1', '1213760': '2', '1213767': '2', '1213771': '1', '1213772': '1', '2020204': '8', '2066603': '2', '2067169': '2', '5307084': '4', '5307085': '4', '5307091': '4', '5308825': '4', '5309397': '2', '6021091': '4', '6021153': '4', '6026691': '18', '6045193': '1'}, 'SQA00000011R': {'1019192': '2', '1019193': '2', '1019194': '2', '1019195': '2', '1019196': '6', '1019197': '5', '1019198': '0', '1019199': '0', '1019200': '21', '1019201': '23', '1019202': '3', '1019203': '3', '1019206': '1', '1019207': '1', '1019208': '3', '1019209': '4', '1019210': '2', '1019211': '2', '1024101': '0', '1024102': '0', '1024446': '10', '1027375': '3', '1029351': '0', '1029352': '0', '1044255': '2', '1044338': '3', '1044680': '2', '1046205': '3', '1046207': '19', '1046209': '5', '1056984': '1', '1076398': '8', '1083565': '17', '1095014': '4', '1207649': '0', '1212017': '0', '1212019': '0', '1212024': '1', '1212025': '1', '1212030': '2', '1212033': '2', '1212034': '2', '1212035': '2', '1212036': '2', '1212037': '1', '1212038': '1', '1212039': '7', '1212040': '7', '1212041': '2', '1212042': '2', '1212049': '0', '1212050': '0', '1212051': '5', '1212052': '5', '1212053': '1', '1212056': '44', '1212057': '44', '1212058': '0', '1212059': '0', '1212060': '106', '1212061': '106', '1212070': '2', '1212071': '1', '1216324': '0', '1216325': '0', '1216366': '1', '1216367': '1', '1216370': '1', '1216371': '1', '1220645': '39', '1220648': '72', '1220658': '39', '1220661': '72', '1221407': '1', '1221408': '1', '1221414': '2', '1221421': '2', '2016178': '31', '2020214': '67', '2024352': '0', '2028369': '9', '2033362': '2', '2034879': '2', '2039803': '1', '2039857': '2', '2047444': '0', '2047841': '23', '2067169': '279', '2074406': '8', '2074797': '21', '2077387': '230', '6021750': '1', '6035037': '0', '6035129': '1', '6035130': '0', '6035423': '1', '6035424': '1', '6044607': '36', '6045210': '4', '6050836': '20', '7083081': '1', '7083088': '1'}, 'SQA00000023R': {'1024103': '1', '1026842': '1', '1060847': '5', '1062566': '5', '6025652': '22', '6035136': '3', '6035423': '4', '6035424': '2'}, 'SQA00000036R': {'1024446': '3', '1073112': '1', '1082571': '3', '1212049': '2', '1212050': '2', '1212053': '1', '1212056': '1', '1212057': '1', '1212060': '2', '1212061': '2', '1212064': '2', '1212065': '2', '1212071': '1', '2027735': '4', '2067169': '2', '2074406': '2'}, 'SQA00000045R': {'1029490': '2', '1056985': '1', '1212017': '10', '1212019': '10', '1212028': '2', '1212029': '2', '1212030': '2', '1212033': '3', '1212034': '3', '1212051': '26', '1212052': '26', '1212070': '2', '2067169': '52', '7083088': '1'}, 'SQA00000055R': {'1016296': '1', '1019220': '11', '1019221': '11', '1041180': '2', '1200568': '1', '1200585': '1', '1220682': '26', '1220709': '27', '2020214': '11', '2031065': '1', '2067169': '2', '2077387': '52', '2099264': '53'}, 'SQA00000067R': {'1019152': '2', '1019153': '2', '1019156': '12', '1019256': '12', '1019975': '1', '1026842': '2', '1046207': '24', '1048539': '1', '1048540': '1', '1056982': '1', '1200557': '16', '1200574': '16', '1201590': '1', '1201591': '1', '1202018': '1', '1202019': '1', '1203819': '6', '1206178': '6', '1212017': '1', '1212019': '1', '1212028': '6', '1212029': '6', '1212037': '3', '1212038': '3', '1212041': '1', '1212042': '1', '1212047': '6', '1212048': '6', '1212051': '3', '1212052': '3', '1212053': '38', '1212054': '3', '1212055': '3', '1212056': '5', '1212057': '5', '1212060': '8', '1212061': '8', '1212064': '5', '1212065': '5', '1212071': '38', '1220683': '8', '1220684': '7', '1220710': '8', '1220711': '7', '2016178': '2', '2016179': '2', '2018105': '144', '2020214': '56', '2024352': '4', '2027302': '4', '2027782': '2', '2031065': '2', '2033415': '1', '2033671': '3', '2047841': '24', '2066603': '12', '2067169': '127', '2077387': '30', '2080905': '22', '2100900': '2', '6021750': '2', '6026690': '2', '6035129': '5', '6035130': '2', '6035200': '10', '6035951': '1', '6050836': '3', '6051884': '3', '6051885': '1', '7021907': '148', '7083081': '1', '7088069': '4'}, 'SQA00000114R': {'1085899': '10', '1085900': '90', '1099012': '8', '1099028': '2'}, 'SQA00000125R': {'1018733': '1', '1018734': '1', '1019210': '1', '1024445': '2', '1024446': '1', '1026842': '1', '1056983': '1', '1073116': '1', '1073117': '1', '1212054': '1', '1212055': '1', '2027728': '1', '2027735': '127', '2033362': '1', '2071542': '1', '6025470': '3', '6025473': '2', '6035037': '1'}, 'SQA00000312R': {'1083242': '1', '1083244': '1', '1212060': '3', '1212061': '3', '1213767': '6', '1213768': '6', '2067169': '7', '2099264': '6'}, 'SQA00000390R': {'1213763': '2', '1213764': '2', '2099265': '2', '5311688': '15', '5330389': '8', '6025470': '1', '6025614': '18', '6025615': '15'}, 'SQA00000451R': {'1042097': '2', '1059965': '11', '1060058': '27', '1060059': '2', '1060063': '23', '1060847': '1', '1068191': '17', '1090999': '195', '1100033': '1', '1207654': '22', '1207657': '3', '1207660': '4', '1207662': '6', '1207663': '2', '1207665': '2', '1207668': '2', '1207673': '32', '1207682': '10', '1207686': '6', '1212017': '1', '1212019': '1', '1212030': '1', '1212051': '1', '1212052': '1', '1212070': '1', '2046398': '7', '2051894': '2', '2066603': '4', '5307084': '1', '5309314': '31', '6021091': '1', '6026691': '9', '6026695': '33', '6026699': '6', '6033025': '3', '6034309': '211', '6035129': '1'}, 'SQA00000534R': {'1081529': '256', '1085900': '34', '2033362': '256', '5311686': '53', '6025614': '53', '6035129': '2'}, 'SQA00000587R': {'2067169': '3'}, 'SQA00000596R': {'5307090': '10', '5308825': '10', '6023140': '10'}, 'TAA00000032R': {'1027375': '4', '1060058': '53', '1060847': '15', '1073015': '4', '1085898': '6', '1085900': '6', '1212017': '4', '1212019': '4', '1212047': '5', '1212048': '5', '1212049': '13', '1212050': '13', '1212056': '2', '1212057': '2', '1221427': '18', '1221436': '18', '2033362': '3', '2066603': '56', '2099265': '18'}, 'TAA00000033R': {'6025635': '6'}, 'TAA00000037R': {'1005784': '816', '1019148': '1', '1019338': '4', '1060058': '400', '1068191': '2', '1200602': '201', '1200603': '201', '2013028': '816', '2031065': '167', '6025472': '6'}, 'TDA00000043R': {'1068191': '1226', '6035131': '4', '6035137': '2'}, 'TDA00000094R': {'1046205': '4', '1060058': '27', '1212030': '4', '1212031': '2', '1212032': '2', '1212047': '3', '1212048': '3', '1212070': '4', '1213750': '1', '1213751': '1', '1213767': '3', '1213768': '3', '2047841': '2', '2067169': '19', '6025632': '3'}, 'TJA00000025R': {'1019192': '2', '1019193': '2', '1019194': '1', '1019195': '1', '1019200': '2', '1019201': '2', '1024101': '2', '1029489': '9', '1041174': '28', '1046205': '13', '1068191': '3', '1076397': '5', '1076398': '2', '1085669': '3', '1085670': '3', '1085671': '2', '1085672': '2', '1085673': '24', '1085674': '24', '1086118': '14', '1086119': '14', '1212005': '1', '1212017': '15', '1212018': '1', '1212019': '15', '1212030': '8', '1212031': '1', '1212032': '1', '1212033': '7', '1212034': '7', '1212041': '1', '1212042': '1', '1212047': '9', '1212048': '9', '1212049': '24', '1212050': '24', '1212051': '18', '1212052': '18', '1212053': '4', '1212054': '13', '1212055': '13', '1212056': '52', '1212057': '52', '1212058': '15', '1212059': '16', '1212060': '55', '1212061': '55', '1212064': '3', '1212065': '3', '1212070': '8', '1212071': '4', '1213757': '73', '1213758': '73', '1213759': '5', '1213760': '4', '1213767': '2', '1213768': '2', '2016178': '2', '2016179': '2', '2018307': '4', '2020204': '1', '2020214': '1', '2024352': '2', '2027725': '5', '2027735': '53', '2028370': '3', '2034880': '2', '2046045': '28', '2047841': '14', '2049777': '2', '2066603': '2', '2067169': '332', '2074098': '28', '2074228': '3', '2074406': '2', '2074797': '5', '5314068': '5', '6025448': '2', '6025472': '74', '6026691': '7', '6027944': '1', '6035129': '9', '6035423': '5', '6035424': '3', '7083088': '1'}, 'TJA00000032R': {'1024101': '1', '1027375': '1', '1044629': '1', '1044680': '1', '1056982': '1', '1059860': '1', '1200558': '1', '1203915': '1', '2027405': '4', '2034879': '6', '2039857': '6', '6033231': '1'}, 'TLA00000007R': {'1212017': '1', '1212019': '1', '1212049': '2', '1212050': '2', '1212051': '23', '1212052': '23', '1212053': '5', '1212056': '1', '1212057': '1', '1212060': '1', '1212061': '1', '1212071': '5', '2067169': '37', '2099264': '1', '5307083': '6', '5307084': '8', '5307085': '2', '5309052': '12', '6023140': '19', '6035129': '1'}, 'TNA00000013R': {'1099013': '2', '1099028': '1', '1099029': '2'}, 'TSA00000022R': {'1051487': '6', '1056985': '4', '1085669': '2', '1085670': '2', '1213739': '2', '1213755': '2', '1213763': '4', '1213764': '4', '1213767': '7', '1213768': '7', '2020204': '4', '2034880': '4', '2067169': '7', '6025470': '31', '6025472': '1', '6035129': '1', '6035130': '2'}, 'TSA00000047R': {'1076397': '3', '1207508': '1', '1207655': '1', '1207657': '1', '1207661': '1', '2074406': '2'}, 'TSA00000051R': {'1085673': '1', '1085674': '1'}, 'TSA00000056R': {'1016296': '1', '1024101': '148', '1024102': '13', '1024445': '62', '1029489': '7', '1056982': '10', '1056983': '8', '1212049': '1', '1212050': '1', '1212053': '3', '1212056': '40', '1212057': '40', '1212060': '13', '1212061': '13', '1212064': '64', '1212065': '64', '1212071': '3', '2016178': '37', '2016179': '36', '2016180': '36', '2024352': '226', '2028369': '2', '2033362': '14', '2033416': '3', '2034820': '1', '2034880': '9', '2067169': '115', '2080905': '2', '4071409': '1', '6023206': '22', '6035129': '14', '7083088': '2', '7083091': '2'}, 'UBA00000003R': {'1016296': '15', '1018745': '4', '1018746': '4', '1018902': '2', '1018903': '2', '1019152': '2', '1019153': '2', '1019190': '56', '1019191': '60', '1019198': '63', '1019199': '63', '1019202': '12', '1019203': '12', '1019204': '2', '1019205': '2', '1041180': '12', '1041181': '8', '1100054': '1', '1100245': '1', '1100246': '1', '1100247': '1', '1102641': '1', '1105411': '1', '1200558': '85', '1200575': '85', '1212017': '16', '1212019': '16', '1212024': '10', '1212025': '10', '1212030': '6', '1212035': '4', '1212036': '4', '1212037': '2', '1212038': '2', '1212047': '30', '1212048': '30', '1212051': '6', '1212052': '6', '1212053': '48', '1212056': '16', '1212057': '16', '1212058': '8', '1212059': '8', '1212070': '6', '1212071': '48', '2020214': '109', '2027405': '24', '2031065': '91', '2066603': '250', '4033016': '4', '4040561': '10', '5301435': '544', '5307085': '20', '6021750': '14', '6027952': '20', '7082843': '4', '7082903': '4', '7082926': '130', '7082975': '108', '7082976': '80', '7083009': '24', '7083010': '24', '7083251': '116', '7083500': '12', '7083593': '4', '7083597': '32', '7083606': '32'}, 'UBA00000007R': {'1017014': '8', '1017128': '8', '1017157': '3', '1019148': '1', '1019150': '5', '1019151': '5', '1019338': '1', '1027376': '29', '1068191': '6', '1085900': '15', '1101351': '1', '1101472': '1', '1105418': '1', '1200568': '1', '1200585': '1', '1212047': '1', '1212048': '1', '1212049': '1', '1212050': '1', '2020204': '9', '2027405': '5', '2031065': '1', '2034819': '29', '2034880': '1', '2067169': '1', '5309719': '5', '5311688': '5', '5311692': '6', '5311845': '6', '6025439': '3', '6025472': '1', '6025615': '5', '6025652': '3', '6035129': '1', '6035421': '1', '6035422': '1', '7083088': '2'}, 'UBA00000146R': {'1099404': '1', '5307084': '3', '5311688': '11', '5311837': '6', '6023140': '3', '6025615': '12'}, 'UBA00000157R': {'1044255': '1', '1044339': '1', '1044631': '1', '1044679': '2', '1044680': '1', '2020204': '2', '6021750': '3', '6035129': '1', '6035130': '1', '6035136': '12', '6035137': '6', '7083088': '3'}, 'UCA00000014R': {'1212024': '1', '1212025': '1', '6025473': '1'}, 'UDA00000121R': {'1019208': '4', '1019209': '4', '5307082': '10', '5308825': '10', '5309719': '10', '5319015': '10', '6023135': '10', '6035129': '2', '7083088': '2'}, 'UDA00000125R': {'1058668': '7', '1060058': '2', '1060847': '4', '1068191': '2', '1076398': '1', '1084584': '1', '1085667': '1', '1085668': '1', '1207876': '2', '1207878': '1', '2020204': '3', '2034880': '2', '2039857': '2', '2039858': '2', '6035129': '5', '6035137': '9', '6051884': '9'}, 'UFA00000029R': {'1016296': '15', '1019990': '9', '1024102': '3', '1044255': '24', '1044338': '3', '1044339': '20', '1044627': '23', '1044679': '3', '1047717': '11', '1056982': '4', '1056985': '3', '1056986': '3', '1058388': '3', '1059554': '16', '1059860': '2', '1069625': '2', '1076397': '2', '1082571': '1', '1207801': '2', '1207804': '7', '1212049': '2', '1212050': '2', '1212051': '3', '1212052': '3', '1212054': '1', '1212055': '7', '1212058': '50', '1212059': '46', '1212064': '7', '1212065': '4', '2013028': '15', '2016178': '4', '2016179': '2', '2020214': '1', '2021298': '3', '2023865': '2', '2033362': '7', '2033414': '5', '2033415': '3', '2034879': '10', '2039857': '16', '2057153': '42', '2067169': '1', '2068353': '3', '2068355': '3', '2074406': '1', '2080422': '3', '4071409': '4', '4084688': '1', '5314068': '64', '5314088': '2', '6027946': '4', '6035131': '3', '6035137': '2', '6035421': '23', '6035422': '14', '6035423': '7', '6042893': '1', '6042897': '2'}, 'UFA00000055R': {'2066603': '1', '7083088': '1'}, 'VBA00000080R': {'1027376': '2', '2033362': '2', '6035129': '1'}, 'VBA00000085R': {'1085671': '34', '1085672': '34'}, 'WBA00000126R': {'1207653': '6', '1207654': '1', '1207672': '6', '1207678': '5', '1207682': '2', '2046398': '12', '5307084': '2', '5307086': '10', '6012699': '15', '6012702': '18', '6023140': '2', '7083088': '1'}, 'WBA00000248R': {'1027376': '2', '2033362': '2'}, 'XAA00000209R': {'1018916': '1', '1019222': '2', '1060065': '2', '1060850': '2', '1063094': '30', '1070115': '3', '1092345': '4', '1101102': '1', '1101437': '1', '1101608': '1', '1102022': '1', '1102403': '1', '1102494': '1', '1103033': '1', '1216362': '3', '2016178': '1', '2027735': '13', '2028204': '1', '2066603': '14', '2067169': '24', '5307086': '2', '5311686': '5', '5311688': '10', '6025448': '2', '6025470': '7', '6025472': '6', '6025615': '15', '6025652': '5', '6027894': '1', '6035129': '2', '6035421': '2'}, 'XAA00000222R': {'2067169': '4'}, 'XBA00000435R': {'1085898': '20'}, 'XBA00000467R': {'1044680': '1', '6026698': '2', '6035131': '11'}, 'YAA00000398R': {'2027735': '5'}, 'YAA00000418R': {'5307086': '27', '6022607': '40'}, 'YAA00000466R': {'7083088': '1'}, 'YAA00000514R': {'1212049': '2', '1212050': '2', '1212054': '3', '1212055': '3', '2067169': '5', '7083088': '1'}, 'YAA00000536R': {'2018105': '5'}, 'YBA00000002R': {'1062566': '2'}, 'YGA00000011R': {'1085667': '1', '1085668': '1'}, 'YJA00000003R': {'1024101': '2', '1029489': '6', '1046209': '28', '1068191': '2', '1212005': '4', '1212018': '4', '1212033': '4', '1212034': '4', '1212039': '4', '1212040': '4', '1212041': '16', '1212042': '16', '1212060': '3', '1212061': '3', '1212064': '2', '1212065': '2', '1221427': '2', '1221430': '1', '1221436': '2', '1221439': '1', '2024352': '4', '2027725': '1', '2027726': '2', '2028369': '1', '2031065': '1', '2047841': '28', '2067169': '33', '6025472': '10', '6044607': '56'}, 'ZBA00000069R': {'1019970': '2', '1026272': '1', '1026273': '1', '1026279': '28', '1026280': '28', '1095388': '22', '1095389': '3', '2101579': '25'}, 'ZBA00000070R': {'1027375': '3', '1029489': '10', '1029490': '2', '1044680': '1', '1059966': '10', '1060059': '26', '1061172': '5', '1061173': '5', '1061174': '3', '1061175': '3', '1070116': '4', '1070644': '6', '1070645': '6', '1073765': '1', '1085665': '2', '1085666': '2', '1085667': '2', '1085668': '2', '1085669': '3', '1085670': '3', '1085899': '6', '1099013': '1', '1099030': '1', '1099031': '2', '1099032': '2', '1204616': '1', '1204618': '1', '1207801': '2', '1207804': '2', '1207805': '2', '1207815': '2', '1212017': '1', '1212019': '1', '1212030': '1', '1212047': '2', '1212048': '2', '1212051': '2', '1212052': '2', '1212070': '1', '1213739': '1', '1213761': '2', '1213762': '2', '2020204': '1', '2024352': '8', '2027735': '4', '2028369': '3', '2033362': '2', '2039803': '113', '2067169': '6', '4040561': '3', '5307090': '2', '5330389': '2', '6023135': '2', '6023206': '8', '6025470': '6', '6025472': '10', '6025614': '2', '6025632': '8', '6026691': '3', '6035129': '7', '6035137': '2', '6035143': '5', '6035422': '2', '6035423': '3', '6035424': '3'}, 'ZBA00000476R': {'1044680': '40', '1047717': '2', '1056983': '7', '1056984': '167', '1062899': '1', '1081529': '2', '1086266': '39', '2033362': '148', '2034819': '18', '2034880': '12', '2046446': '2', '2068448': '2', '6026698': '44', '6033231': '34', '6035129': '16'}, 'ZBA00000522R': {'1060058': '900'}, 'ZBA00000537R': {'1060058': '250', '1060061': '520', '1060065': '79', '1081529': '1', '1213763': '2', '1213764': '2', '2034820': '1', '2067169': '2', '5311687': '40', '6025612': '40', '6026691': '160', '6035129': '1', '6038239': '4'}, 'ZBB00000001R': {'1019970': '21', '1026272': '19', '1026273': '16', '1026279': '91', '1026280': '91', '1095388': '84', '2101579': '84'}, 'ZDA00000027R': {'1085665': '10', '1085666': '10', '1085667': '25', '1085668': '25', '1085673': '10', '1085674': '10'}, 'ZDA00000028R': {'1044680': '4', '1050853': '1', '1050854': '1', '1051271': '1', '1051272': '1', '1059966': '18', '1213763': '1', '1213764': '1', '2020214': '3', '2067169': '3', '5309397': '16', '6025612': '15', '6025614': '1'}, 'ZEA00000013R': {'1018733': '4', '1018734': '2', '1041180': '2', '1044008': '6', '1044255': '6', '1044338': '4', '1044629': '3', '1044630': '2', '1044679': '21', '1044680': '7', '1056982': '8', '1085665': '22', '1085666': '22', '1085667': '67', '1085668': '66', '1085669': '16', '1085670': '16', '1085899': '85', '1200568': '2', '1200585': '2', '1212017': '93', '1212019': '93', '1212047': '40', '1212048': '39', '1212049': '15', '1212050': '15', '1212051': '8', '1212052': '8', '1212053': '1', '1212054': '1', '1212055': '2', '1212071': '1', '1213739': '19', '1213755': '14', '1213757': '74', '1213758': '77', '1213759': '20', '1213760': '20', '2020214': '8', '2033414': '4', '2033415': '4', '2066603': '539', '6021750': '2', '6025470': '1', '6026691': '30', '6038239': '2', '7082881': '35', '7082886': '89'}, 'ZEA00000018R': {'1061176': '1', '1061177': '1', '1068191': '56', '1085901': '1', '1212028': '4', '1212029': '4', '1212058': '1', '1212059': '1', '2099264': '16', '5309313': '3', '5309397': '44', '5309589': '10', '5311369': '2', '5311683': '3', '5311686': '88', '5311691': '1', '5311845': '1', '6025473': '1', '6025614': '50', '6025622': '3', '6025632': '11', '6025652': '1'}, 'ZEA00000101R': {'1068191': '1'}, 'ZEA00000132R': {'1019190': '38', '1019298': '38', '1019358': '38', '1019409': '38', '1044255': '19', '1044339': '19', '1044680': '38', '1062332': '3', '1063096': '39', '1085900': '1', '1085901': '1', '1212053': '2', '1212054': '2', '1212055': '2', '1212071': '2', '2020214': '76', '2066603': '6', '2067169': '1', '6025470': '4', '6025472': '38', '6035129': '2'}, 'ZEA00000149R': {'1019978': '4', '1024446': '7', '1027376': '9', '1044629': '1', '1044679': '1', '1044680': '4', '1056982': '6', '1056985': '2', '1058668': '1', '1060065': '100', '1068191': '100', '1085665': '26', '1085666': '26', '1085667': '6', '1085668': '6', '1085669': '10', '1085670': '10', '1085671': '20', '1085672': '20', '1085673': '20', '1085674': '20', '1085899': '4', '1200561': '6', '1200578': '6', '1207514': '4', '1207652': '5', '1212005': '1', '1212017': '4', '1212018': '1', '1212019': '4', '1212024': '2', '1212025': '2', '1212026': '7', '1212027': '9', '1212030': '1', '1212031': '1', '1212032': '1', '1212033': '3', '1212034': '3', '1212047': '9', '1212048': '9', '1212049': '5', '1212050': '5', '1212051': '1', '1212052': '1', '1212053': '5', '1212054': '1', '1212055': '1', '1212062': '1', '1212063': '1', '1212064': '1', '1212065': '1', '1212070': '1', '1212071': '5', '1213718': '1', '1213738': '3', '1213739': '5', '1213743': '1', '1213750': '1', '1213751': '1', '1213754': '3', '1213755': '5', '1213757': '12', '1213758': '12', '1213759': '4', '1213760': '4', '1213761': '4', '1213762': '6', '1213763': '3', '1213764': '5', '1213767': '7', '1213768': '7', '2033414': '6', '2034820': '2', '2034879': '-1', '2044623': '1', '2045401': '6', '2046197': '8', '2046199': '4', '2046390': '8', '2066603': '4', '2067169': '76', '5309314': '13', '5334126': '25', '6025470': '2', '6025471': '2', '6025652': '6', '6025668': '13', '6026691': '2', '6035429': '8', '7083088': '2'}, 'ZGA00000005R': {'1059966': '4', '1085899': '12', '1213739': '12', '1213755': '12', '2066603': '24', '5307084': '4', '5309052': '4', '5309719': '4', '5319015': '4', '6021153': '4', '6025448': '1', '6030489': '4'}}\n",
      "[('HK000000580H', 0.0008714177184009742), ('SLA00000082R', 0.0015822784810126582), ('SGA00000026R', 0.0018382072910922182), ('LCA00000160R', 0.0024230525583639213), ('TJA00000025R', 0.0029975851685074394), ('HK000000600H', 0.0032545240411646858), ('SQA00000011R', 0.003576950289870776), ('LCA00000111R', 0.0036101083032490976), ('JKA00000059R', 0.003663003663003663), ('SAA00000005R', 0.003813699888986215)]\n"
     ]
    }
   ],
   "source": [
    "#!/usr/bin/env python\n",
    "# encoding: utf-8\n",
    "\n",
    "# cluster_0_dummy_1.to_csv('./data/cluster_0_dummy_1.csv')\n",
    "file = open(\"./data/cluster_0.csv\",'r', encoding='UTF-8')#记得读取文件时加‘r’， encoding='UTF-8'\n",
    "##读取data.csv中每行中除了名字的数据\n",
    "data = {}##存放每位用户\n",
    "for line in file.readlines()[1:]:\n",
    "    #注意这里不是readline()\n",
    "    line = line.strip().split(',')\n",
    "    #如果字典中没有某位用户，则使用用户ID来创建这位用户\n",
    "    if not line[0] in data.keys():\n",
    "        data[line[0]] = {line[1]:line[2]}\n",
    "    #否则直接添加以该用户ID为key字典中\n",
    "    else:\n",
    "        data[line[0]][line[1]] = line[2]\n",
    " \n",
    "# print(data)\n",
    " \n",
    " \n",
    "\"\"\"计算任何两位用户之间的相似度，由于每位用户购买数量，所以兽先要找到两位用户共同购买过的产品\n",
    "       然后计算两者之间的欧式距离，最后算出两者之间的相似度\n",
    "\"\"\"\n",
    "from math import *\n",
    "def Euclidean(user1,user2):\n",
    "    #取出两位用户评论过的电影和评分\n",
    "    user1_data=data[user1]\n",
    "    user2_data=data[user2]\n",
    "    distance = 0\n",
    "    #找到两位用户都，并计算欧式距离\n",
    "    for key in user1_data.keys():\n",
    "        if key in user2_data.keys():\n",
    "            #注意，distance越大表示两者越相似\n",
    "            distance += pow(float(user1_data[key])-float(user2_data[key]),2)\n",
    " \n",
    "    return 1/(1+sqrt(distance))#这里返回值越小，相似度越大\n",
    " \n",
    "#计算某个用户与其他用户的相似度\n",
    "def top10_simliar(userID):\n",
    "    res = []\n",
    "    for userid in data.keys():\n",
    "        #排除与自己计算相似度\n",
    "        if not userid == userID:\n",
    "            simliar = Euclidean(userID,userid)\n",
    "            res.append((userid,simliar))\n",
    "    res.sort(key=lambda val:val[1])\n",
    "    return res[:10]\n",
    " \n",
    "RES = top10_simliar('1000022')\n",
    "print(RES)"
   ]
  },
  {
   "cell_type": "code",
   "execution_count": 48,
   "metadata": {},
   "outputs": [],
   "source": [
    "# sorted(RES,key=lambda x:(x[1],x[0].lower()),reverse=True)"
   ]
  },
  {
   "cell_type": "code",
   "execution_count": 90,
   "metadata": {},
   "outputs": [
    {
     "name": "stdout",
     "output_type": "stream",
     "text": [
      "HK000000580H\n",
      "[('1016296', '22'), ('1044339', '12'), ('1044627', '135'), ('1044630', '137'), ('1060058', '272'), ('5312082', '45'), ('5312084', '27'), ('6023135', '10'), ('6025640', '10'), ('6035417', '27')]\n"
     ]
    }
   ],
   "source": [
    "########################################################################\n",
    "#根据用户推荐产品给其他人\n",
    "def recommend(user):\n",
    "    #相似度最高的用户\n",
    "    top_sim_user = top10_simliar(user)[0][0]\n",
    "    print(top_sim_user)\n",
    "    #相似度最高的用户的产品记录\n",
    "    items = data[top_sim_user]\n",
    "    recommendations = []\n",
    "    #筛选出该用户未购买的产品并添加到列表中\n",
    "    for item in items.keys():\n",
    "        if item not in data[user].keys():\n",
    "            recommendations.append((item,items[item]))\n",
    "    recommendations.sort(key=lambda val:(val[0],val[1]),reverse=False)#按照购买数量排序\n",
    "    #返回评分最高的10个产品\n",
    "    return recommendations[:10]\n",
    " \n",
    "Recommendations = recommend('1000022')\n",
    "print(Recommendations)"
   ]
  },
  {
   "cell_type": "code",
   "execution_count": 1,
   "metadata": {},
   "outputs": [],
   "source": [
    "message = 'K_value = 3, max_iter_eps = 500'"
   ]
  },
  {
   "cell_type": "code",
   "execution_count": 6,
   "metadata": {},
   "outputs": [
    {
     "data": {
      "text/plain": [
       "('K_value = 3', ' max_iter_eps = 500')"
      ]
     },
     "execution_count": 6,
     "metadata": {},
     "output_type": "execute_result"
    }
   ],
   "source": [
    "tuple(message.split(sep=','))"
   ]
  },
  {
   "cell_type": "code",
   "execution_count": null,
   "metadata": {},
   "outputs": [],
   "source": []
  }
 ],
 "metadata": {
  "kernelspec": {
   "display_name": "Python 3",
   "language": "python",
   "name": "python3"
  },
  "language_info": {
   "codemirror_mode": {
    "name": "ipython",
    "version": 3
   },
   "file_extension": ".py",
   "mimetype": "text/x-python",
   "name": "python",
   "nbconvert_exporter": "python",
   "pygments_lexer": "ipython3",
   "version": "3.7.6"
  },
  "toc": {
   "base_numbering": 1,
   "nav_menu": {},
   "number_sections": true,
   "sideBar": true,
   "skip_h1_title": false,
   "title_cell": "Table of Contents",
   "title_sidebar": "Contents",
   "toc_cell": false,
   "toc_position": {
    "height": "calc(100% - 180px)",
    "left": "10px",
    "top": "150px",
    "width": "195px"
   },
   "toc_section_display": true,
   "toc_window_display": true
  }
 },
 "nbformat": 4,
 "nbformat_minor": 4
}
